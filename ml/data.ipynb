{
 "cells": [
  {
   "cell_type": "code",
   "execution_count": 1,
   "metadata": {},
   "outputs": [],
   "source": [
    "import json\n",
    "import csv\n",
    "import numpy as np\n",
    "import pandas as pd\n",
    "from os import path, mkdir\n",
    "import glob\n",
    "from datetime import datetime, timedelta, date\n",
    "#pd.set_option('display.max_rows', 500)\n",
    "pd.set_option('display.max_columns', 500)"
   ]
  },
  {
   "cell_type": "code",
   "execution_count": 2,
   "metadata": {},
   "outputs": [],
   "source": [
    "bfh=pd.read_csv('c:/dev/RP/server/data/horses/horses_2020-01-01.csv')\n",
    "bfh=bfh.loc[bfh['rid']==10312]\n",
    "bfp=pd.read_csv('c:/dev/RP/server/data/bf/changes_2020-01-01.csv')\n",
    "bfp['dt']=pd.to_datetime(bfp['dt'])\n",
    "bfp=bfp.loc[bfp['mid']==166899509]"
   ]
  },
  {
   "cell_type": "code",
   "execution_count": 11,
   "metadata": {},
   "outputs": [],
   "source": [
    "bfp['mean']=bfp.groupby(['rid'])['price'].transform('mean')"
   ]
  },
  {
   "cell_type": "code",
   "execution_count": 15,
   "metadata": {},
   "outputs": [],
   "source": [
    "bfp['d_']=(bfp['price']-bfp['mean'])/bfp['mean']\n",
    "bfp['d2']=bfp['d1']/bfp['mean']"
   ]
  },
  {
   "cell_type": "code",
   "execution_count": 16,
   "metadata": {},
   "outputs": [
    {
     "output_type": "execute_result",
     "data": {
      "text/plain": "             mid                  dt       rid     price      mean        d1  \\\n434    166899509 2019-12-31 15:59:58  24545075  0.208333  0.322869 -0.114535   \n451    166899509 2019-12-31 16:01:01  24545075  0.200000  0.322869 -0.122869   \n636    166899509 2019-12-31 16:28:52   7369339  0.125000  0.078032  0.046968   \n903    166899509 2019-12-31 16:59:32  26725344  0.040000  0.120720 -0.080720   \n1036   166899509 2019-12-31 17:08:54  24545075  0.277778  0.322869 -0.045091   \n...          ...                 ...       ...       ...       ...       ...   \n48849  166899509 2020-01-01 15:00:01  13564829  0.001695  0.257774 -0.256079   \n48850  166899509 2020-01-01 15:00:01  26965594  0.001000  0.005932 -0.004932   \n48851  166899509 2020-01-01 15:00:01  26725344  0.001000  0.120720 -0.119720   \n48852  166899509 2020-01-01 15:00:01   9570145  0.001000  0.025417 -0.024417   \n48853  166899509 2020-01-01 15:00:01  24545075  0.001000  0.322869 -0.321869   \n\n             d2  \n434   -0.354743  \n451   -0.380553  \n636    0.601905  \n903   -0.668655  \n1036  -0.139657  \n...         ...  \n48849 -0.993425  \n48850 -0.831414  \n48851 -0.991716  \n48852 -0.960657  \n48853 -0.996903  \n\n[1007 rows x 7 columns]",
      "text/html": "<div>\n<style scoped>\n    .dataframe tbody tr th:only-of-type {\n        vertical-align: middle;\n    }\n\n    .dataframe tbody tr th {\n        vertical-align: top;\n    }\n\n    .dataframe thead th {\n        text-align: right;\n    }\n</style>\n<table border=\"1\" class=\"dataframe\">\n  <thead>\n    <tr style=\"text-align: right;\">\n      <th></th>\n      <th>mid</th>\n      <th>dt</th>\n      <th>rid</th>\n      <th>price</th>\n      <th>mean</th>\n      <th>d1</th>\n      <th>d2</th>\n    </tr>\n  </thead>\n  <tbody>\n    <tr>\n      <th>434</th>\n      <td>166899509</td>\n      <td>2019-12-31 15:59:58</td>\n      <td>24545075</td>\n      <td>0.208333</td>\n      <td>0.322869</td>\n      <td>-0.114535</td>\n      <td>-0.354743</td>\n    </tr>\n    <tr>\n      <th>451</th>\n      <td>166899509</td>\n      <td>2019-12-31 16:01:01</td>\n      <td>24545075</td>\n      <td>0.200000</td>\n      <td>0.322869</td>\n      <td>-0.122869</td>\n      <td>-0.380553</td>\n    </tr>\n    <tr>\n      <th>636</th>\n      <td>166899509</td>\n      <td>2019-12-31 16:28:52</td>\n      <td>7369339</td>\n      <td>0.125000</td>\n      <td>0.078032</td>\n      <td>0.046968</td>\n      <td>0.601905</td>\n    </tr>\n    <tr>\n      <th>903</th>\n      <td>166899509</td>\n      <td>2019-12-31 16:59:32</td>\n      <td>26725344</td>\n      <td>0.040000</td>\n      <td>0.120720</td>\n      <td>-0.080720</td>\n      <td>-0.668655</td>\n    </tr>\n    <tr>\n      <th>1036</th>\n      <td>166899509</td>\n      <td>2019-12-31 17:08:54</td>\n      <td>24545075</td>\n      <td>0.277778</td>\n      <td>0.322869</td>\n      <td>-0.045091</td>\n      <td>-0.139657</td>\n    </tr>\n    <tr>\n      <th>...</th>\n      <td>...</td>\n      <td>...</td>\n      <td>...</td>\n      <td>...</td>\n      <td>...</td>\n      <td>...</td>\n      <td>...</td>\n    </tr>\n    <tr>\n      <th>48849</th>\n      <td>166899509</td>\n      <td>2020-01-01 15:00:01</td>\n      <td>13564829</td>\n      <td>0.001695</td>\n      <td>0.257774</td>\n      <td>-0.256079</td>\n      <td>-0.993425</td>\n    </tr>\n    <tr>\n      <th>48850</th>\n      <td>166899509</td>\n      <td>2020-01-01 15:00:01</td>\n      <td>26965594</td>\n      <td>0.001000</td>\n      <td>0.005932</td>\n      <td>-0.004932</td>\n      <td>-0.831414</td>\n    </tr>\n    <tr>\n      <th>48851</th>\n      <td>166899509</td>\n      <td>2020-01-01 15:00:01</td>\n      <td>26725344</td>\n      <td>0.001000</td>\n      <td>0.120720</td>\n      <td>-0.119720</td>\n      <td>-0.991716</td>\n    </tr>\n    <tr>\n      <th>48852</th>\n      <td>166899509</td>\n      <td>2020-01-01 15:00:01</td>\n      <td>9570145</td>\n      <td>0.001000</td>\n      <td>0.025417</td>\n      <td>-0.024417</td>\n      <td>-0.960657</td>\n    </tr>\n    <tr>\n      <th>48853</th>\n      <td>166899509</td>\n      <td>2020-01-01 15:00:01</td>\n      <td>24545075</td>\n      <td>0.001000</td>\n      <td>0.322869</td>\n      <td>-0.321869</td>\n      <td>-0.996903</td>\n    </tr>\n  </tbody>\n</table>\n<p>1007 rows × 7 columns</p>\n</div>"
     },
     "metadata": {},
     "execution_count": 16
    }
   ],
   "source": [
    "bfp"
   ]
  },
  {
   "cell_type": "markdown",
   "metadata": {},
   "source": [
    "# HElo"
   ]
  },
  {
   "cell_type": "code",
   "execution_count": 3,
   "metadata": {},
   "outputs": [
    {
     "output_type": "stream",
     "name": "stdout",
     "text": "[-11, -10, -9, -8, -7, -6, -5, -4, -3, -2, -1, 1, 4.333333333333333, 8.666666666666666, 17.333333333333332, 34.666666666666664] -7.105427357601002e-15\n"
    }
   ],
   "source": [
    "n=5\n",
    "m=16\n",
    "losers=[-x for x in range(1,m-n+1)]\n",
    "s=sum(losers)*-1\n",
    "winners=[2**x for x in range(0,n)]\n",
    "price=(s-1)/sum(winners[1:])\n",
    "profits=[x*price for x in winners[1:]]\n",
    "res=losers[::-1]+[1]+profits\n",
    "print(res,sum(res))"
   ]
  },
  {
   "cell_type": "markdown",
   "metadata": {},
   "source": [
    "# Concat to one table for analysis"
   ]
  },
  {
   "cell_type": "code",
   "execution_count": 12,
   "metadata": {},
   "outputs": [],
   "source": [
    "def parse_dt(x):\n",
    "    h,m=map(int,x[0].split(':'))\n",
    "    ds = x[1]\n",
    "    hours_add=11 if (ds>=datetime(2019,3,31,0,0,0) and ds<datetime(2019,10,27,0,0,0)) or (ds>=datetime(2018,3,25,0,0,0) and ds<datetime(2018,10,28,0,0,0)) or (ds>=datetime(2017,3,26,0,0,0) and ds<datetime(2017,10,29,0,0,0)) or (ds>=datetime(2016,3,27,0,0,0) and ds<datetime(2016,10,30,0,0,0)) or ds<datetime(2015,10,25,0,0,0) else 12\n",
    "    if h<9:\n",
    "        h+=hours_add\n",
    "    \n",
    "    ds+= timedelta(hours=h)\n",
    "    ds+= timedelta(minutes=m)\n",
    "    return ds\n",
    "\n",
    "def convert_distance(txt):\n",
    "    f=txt.replace('½','.5').replace('f','')\n",
    "    dm=0\n",
    "    if 'm' in f:\n",
    "        m,f=f.split('m')\n",
    "        dm=float(m)*1609\n",
    "    df=0 if f=='' else float(f)*201\n",
    "    return dm+df\n",
    "\n",
    "def horses_count(id):\n",
    "    return len(df_horses[df_horses['rid']==id].index)\n",
    "\n",
    "def convert_condition(df):\n",
    "    dic={'Standard':0, 'Good':1, 'Good To Firm':2, 'Very Soft':3,\n",
    "       'Good To Yielding':4, 'Soft':5, 'Yielding':6, 'Fast':7, 'Firm':8, 'Heavy':9,\n",
    "       'Good To Soft':10, 'Yielding To Soft':11, 'Soft To Heavy':12,\n",
    "       'Standard To Slow':13,'Standard To Fast':14, 'Sloppy':15, 'Muddy':16, 'Slow':17,'Holding':18, 'Frozen':19,'Abandoned':20, np.NaN:0}\n",
    "    return df['condition'].replace(dic)\n",
    "\n",
    "def convert_class(df):\n",
    "    df['rclass']=df['rclass'].fillna('')\n",
    "    dic={np.NaN:0, '':0, 'Class 1':1, 'Class 2':2, 'Class 3':3,\n",
    "       'Class 4':4, 'Class 5':5, 'Class 6':6, 'Class 7':7}\n",
    "    return df['rclass'].replace(dic)\n",
    "\n",
    "def convert_country(df):\n",
    "    df['countryCode']=df['course'].apply(lambda x: x.split('(')[-1].replace(')',''))\n",
    "    df['countryCode']=np.where(df['countryCode'].str.len()>4,'GB',df['countryCode'])\n",
    "    dic={'AW':'GB', 'York':'GB', 'July':'GB', 'Bath':'GB', 'IRE':'IE', 'USA':'US','AUS':'AU','Ayr':'GB','JPN':'JP','UAE':'AE','ITY':'IT'}\n",
    "    return df['countryCode'].replace(dic)"
   ]
  },
  {
   "cell_type": "code",
   "execution_count": 5,
   "metadata": {},
   "outputs": [],
   "source": [
    "def convert_races(df_races):\n",
    "    df_races['metric']=df_races['distance'].apply(lambda x: convert_distance(x))\n",
    "    df_races['countryCode']=convert_country(df_races)\n",
    "    df_races['marketTime']=df_races.apply(lambda x: parse_dt(x[['time','date']]), axis=1)\n",
    "    df_races['ncond']=convert_condition(df_races)\n",
    "    df_races['marketTime']=pd.to_datetime(df_races['marketTime'])\n",
    "    df_races['class']=convert_class(df_races)\n",
    "    return df_races\n",
    "\n",
    "def convert_horses(df_horses):\n",
    "    df_horses.loc[df_horses['decimalPrice']>=4600000000000000,'decimalPrice']=4.06\n",
    "    df_horses.loc[df_horses['decimalPrice']>=3833333333333330,'decimalPrice']=3.08\n",
    "    df_horses.loc[df_horses['decimalPrice']>=1909090909090900,'decimalPrice']=12\n",
    "    df_horses.loc[df_horses['decimalPrice']>=1833333333333330,'decimalPrice']=13\n",
    "    df_horses.loc[df_horses['decimalPrice']>=1714285714285710,'decimalPrice']=15\n",
    "    df_horses.loc[df_horses['decimalPrice']>=1357142857142850,'decimalPrice']=29\n",
    "    df_horses.loc[df_horses['decimalPrice']>=1303030303030300,'decimalPrice']=1.03\n",
    "    df_horses.loc[df_horses['decimalPrice']>=1625,'decimalPrice']=17\n",
    "    df_horses['runners']=df_horses.groupby(['rid'])['horseName'].transform('count')\n",
    "    df_horses=df_horses.loc[df_horses['runners']>1]\n",
    "    dic=['DSQ','PU', 'F', 'UR', 'RR', 'RO', 'SU', 'REF', 'BD', 'CO', 'LFT', '0']\n",
    "    df_horses.loc[df_horses['position'].isin(dic),'position']='40'\n",
    "    df_horses['position']=df_horses['position'].astype(int)\n",
    "    df_horses['decimalPrice']=1/df_horses['decimalPrice']\n",
    "    df_horses['margin']=df_horses.groupby(['rid'])['decimalPrice'].transform('sum')\n",
    "    df_horses=df_horses.loc[df_horses['margin']>1]\n",
    "    df_horses['weight']=(df_horses['weightSt']*6.35+df_horses['weightLb']*0.454).astype(int)\n",
    "    #df_horses['win_drift']=(df_horses['win_close']-df_horses['win_mean'])/df_horses['win_mean']\n",
    "    df_horses.loc[df_horses['position']==1,'res_win']=1\n",
    "    df_horses.loc[df_horses['position']!=1,'res_win']=0\n",
    "    df_horses.loc[(df_horses['position']==1),'res_place']=1\n",
    "    df_horses.loc[(df_horses['position']==2) & (df_horses['runners']>=5),'res_place']=1 # 5,6,7 runners \n",
    "    df_horses.loc[(df_horses['position']==3) & (df_horses['runners']>=8),'res_place']=1 # 8 to 15\n",
    "    df_horses.loc[(df_horses['position']==4) & (df_horses['runners']>=16),'res_place']=1 # 16+\n",
    "    df_horses.loc[(df_horses['position']>1) & (df_horses['runners']<5),'res_place']=0 # <5 runners \n",
    "    df_horses.loc[(df_horses['position']>2) & (df_horses['runners']>=5),'res_place']=0 # 5,6,7 runners \n",
    "    df_horses.loc[(df_horses['position']>3) & (df_horses['runners']>=8),'res_place']=0 # 8 to 15\n",
    "    df_horses.loc[(df_horses['position']>4) & (df_horses['runners']>=16),'res_place']=0 # 16+\n",
    "    df_horses=df_horses.merge(df_races[['rid','course','ncond','metric','class','marketTime']], on='rid', how='left')\n",
    "    df_horses=df_horses.sort_values(by=['marketTime'])\n",
    "    # Races averages\n",
    "    # Danger: position_diff, position_rank\n",
    "    cols=['age', 'decimalPrice', 'weight', 'RPR', 'TR', 'OR', 'position']\n",
    "    for col in cols:\n",
    "        print(col)\n",
    "        df_horses[col+'_mean']=df_horses.groupby(['rid'])[col].transform('mean')\n",
    "        df_horses[col+'_diff']=df_horses[col]-df_horses[col+'_mean']\n",
    "        df_horses[col+'_diff'].replace([np.inf, -np.inf,np.nan], 0,inplace=True)\n",
    "        df_horses[col+'_rank']=df_horses.groupby(['rid'])[col+'_diff'].rank(method='dense', ascending=False).astype(int)\n",
    "        df_horses.drop(columns=[col+'_mean'], inplace=True)\n",
    "    return df_horses\n",
    ""
   ]
  },
  {
   "cell_type": "code",
   "execution_count": 36,
   "metadata": {},
   "outputs": [
    {
     "output_type": "stream",
     "name": "stdout",
     "text": "age\ndecimalPrice\nweight\nRPR\nTR\nOR\nposition\n"
    }
   ],
   "source": [
    "races_cols=['rid','course','time','date','title','rclass','band','ages','distance','condition','hurdles','prizes','currency','winningTime','link','performer','performerNotes','eyecatcher','eyecatcherNotes']\n",
    "horses_cols=['rid','horseName','horseLink','age','saddle','price','decimalPrice','isFav','trainerLink','trainerName','jockeyLink','jockeyName','position','positionL','dist','weightSt','weightLb','overWeight','outHandicap','headGear','RPR','TR','OR','father','mother','gfather','fatherlink','motherlink','gfatherlink','comment']\n",
    "li=[]\n",
    "for filename in glob.glob(os.path.join('data/done/', \"races_*.csv\")):\n",
    "    df = pd.read_csv(filename, index_col=None, header=None)\n",
    "    df.columns=races_cols\n",
    "    li.append(df)\n",
    "df_races = pd.concat(li, axis=0, ignore_index=True)\n",
    "li=[]\n",
    "for filename in glob.glob(os.path.join('data/done/', \"horses_*.csv\")):\n",
    "    df = pd.read_csv(filename, index_col=None, header=None)\n",
    "    df.columns=horses_cols\n",
    "    li.append(df)\n",
    "df_horses = pd.concat(li, axis=0, ignore_index=True)\n",
    "#df_races=pd.concat([pd.read_csv('data/races_all.csv'), pd.read_csv('data/races.csv')], ignore_index=True)\n",
    "#df_races=pd.read_csv('data/races_all.csv', index_col=False)\n",
    "#df_horses=pd.read_csv('data/horses_all.csv', index_col=False)\n",
    "# Keep races from 2010\n",
    "df_races['date']=pd.to_datetime(df_races['date'])\n",
    "#ds = datetime.strptime('2010-01-01', '%Y-%m-%d')\n",
    "#df_races=df_races[df_races['date']>=ds]\n",
    "\n",
    "# Filter out horses\n",
    "#df_horses=df_horses[df_horses['rid'].isin(df_races['rid'])]\n",
    "#df_horses.reset_index(drop=True, inplace=True)\n",
    "\n",
    "rids_noprice=df_horses.loc[df_horses['decimalPrice'].isna(),'rid'].unique()\n",
    "df_races=df_races[~df_races['rid'].isin(rids_noprice)]\n",
    "df_horses=df_horses[~df_horses['rid'].isin(rids_noprice)]\n",
    "\n",
    "df_races=convert_races(df_races)\n",
    "df_horses=convert_horses(df_horses)\n",
    "df_horses_all=pd.read_csv('data/horses_from2010.csv')[df_horses.columns]\n",
    "df_horses=pd.concat([df_horses_all,df_horses], axis=0, ignore_index=True)\n",
    "df_horses['marketTime']=pd.to_datetime(df_horses['marketTime'])\n",
    "df_horses=df_horses.sort_values(by=['marketTime'])\n",
    "df_bak=df_horses.copy()\n",
    "df_horses.to_csv('data/horses_from2010.csv')"
   ]
  },
  {
   "cell_type": "code",
   "execution_count": null,
   "metadata": {},
   "outputs": [],
   "source": [
    "df_horses=df_bak.copy()"
   ]
  },
  {
   "cell_type": "markdown",
   "metadata": {},
   "source": [
    "## HTJ Cumulatives\n",
    "### Includes cumulative stats with current"
   ]
  },
  {
   "cell_type": "code",
   "execution_count": 37,
   "metadata": {},
   "outputs": [],
   "source": [
    "df_horses['N']=1\n",
    "#cols=['metric', 'res_win', 'res_place', 'decimalPrice_diff', 'RPR_diff', 'TR_diff', 'OR_diff', 'win_drift', 'position_diff']\n",
    "cols=['metric', 'res_win', 'res_place', 'decimalPrice_diff', 'RPR_diff', 'TR_diff', 'OR_diff', 'position_diff']\n",
    "# Horses\n",
    "group_feature='horseName'\n",
    "df_horses['C']=df_horses.groupby([group_feature])['N'].cumsum()#-1\n",
    "for col in cols:\n",
    "    df_horses[col+'_h_sum']=df_horses.groupby([group_feature])[col].cumsum()#-df_horses[col]\n",
    "    df_horses[col+'_h_avg']=df_horses[col+'_h_sum']/df_horses['C']\n",
    "\n",
    "# Trainers\n",
    "group_feature='trainerName'\n",
    "df_horses['C']=df_horses.groupby([group_feature])['N'].cumsum()#-1\n",
    "for col in cols:\n",
    "    df_horses[col+'_t_sum']=df_horses.groupby([group_feature])[col].cumsum()#-df_horses[col]\n",
    "    df_horses[col+'_t_avg']=df_horses[col+'_t_sum']/df_horses['C']\n",
    "\n",
    "\n",
    "# Jockeys\n",
    "group_feature='jockeyName'\n",
    "df_horses['C']=df_horses.groupby([group_feature])['N'].cumsum()#-1\n",
    "for col in cols:\n",
    "    df_horses[col+'_j_sum']=df_horses.groupby([group_feature])[col].cumsum()#-df_horses[col]\n",
    "    df_horses[col+'_j_avg']=df_horses[col+'_j_sum']/df_horses['C']"
   ]
  },
  {
   "cell_type": "markdown",
   "metadata": {},
   "source": [
    "## Races averages over Cumulatives"
   ]
  },
  {
   "cell_type": "code",
   "execution_count": 38,
   "metadata": {},
   "outputs": [
    {
     "output_type": "stream",
     "name": "stdout",
     "text": "res_win_h_avg\nres_place_h_avg\ndecimalPrice_diff_h_avg\nposition_diff_h_avg\nres_win_t_avg\nres_place_t_avg\ndecimalPrice_diff_t_avg\nposition_diff_t_avg\nres_win_j_avg\nres_place_j_avg\ndecimalPrice_diff_j_avg\nposition_diff_j_avg\n"
    }
   ],
   "source": [
    "# Disperse of current distance vs always horse's distance\n",
    "df_horses['metric_abs']=(df_horses['metric']-df_horses['metric_h_avg']).abs()\n",
    "# Mean disperse through race\n",
    "df_horses['metric_abs_mean']=df_horses.groupby(['rid'])['metric_abs'].transform('mean')\n",
    "df_horses['metric_abs_mean'].replace([np.inf, -np.inf,np.nan], 0,inplace=True)\n",
    "df_horses['metric_abs_mean_rank']=df_horses.groupby(['rid'])['metric_abs_mean'].rank(method='dense', ascending=False).astype(int)\n",
    "\n",
    "#cols=['res_win', 'res_place', 'decimalPrice_diff', 'win_drift', 'position_diff']\n",
    "cols=['res_win', 'res_place', 'decimalPrice_diff', 'position_diff']\n",
    "cums=[x+'_h_avg' for x in cols]\n",
    "for col in cums:\n",
    "    print(col)\n",
    "    df_horses[col+'_mean']=df_horses.groupby(['rid'])[col].transform('mean')\n",
    "    df_horses[col+'_diff']=df_horses[col]-df_horses[col+'_mean']\n",
    "    df_horses[col+'_diff'].replace([np.inf, -np.inf,np.nan], 0,inplace=True)\n",
    "    df_horses[col+'_rank']=df_horses.groupby(['rid'])[col+'_diff'].rank(method='dense', ascending=False).astype(int)\n",
    "\n",
    "cums=[x+'_t_avg' for x in cols]\n",
    "for col in cums:\n",
    "    print(col)\n",
    "    df_horses[col+'_mean']=df_horses.groupby(['rid'])[col].transform('mean')\n",
    "    df_horses[col+'_diff']=df_horses[col]-df_horses[col+'_mean']\n",
    "    df_horses[col+'_diff'].replace([np.inf, -np.inf,np.nan], 0,inplace=True)\n",
    "    df_horses[col+'_rank']=df_horses.groupby(['rid'])[col+'_diff'].rank(method='dense', ascending=False).astype(int)\n",
    "\n",
    "cums=[x+'_j_avg' for x in cols]\n",
    "for col in cums:\n",
    "    print(col)\n",
    "    df_horses[col+'_mean']=df_horses.groupby(['rid'])[col].transform('mean')\n",
    "    df_horses[col+'_diff']=df_horses[col]-df_horses[col+'_mean']\n",
    "    df_horses[col+'_diff'].replace([np.inf, -np.inf,np.nan], 0,inplace=True)\n",
    "    df_horses[col+'_rank']=df_horses.groupby(['rid'])[col+'_diff'].rank(method='dense', ascending=False).astype(int)\n",
    "    "
   ]
  },
  {
   "cell_type": "markdown",
   "metadata": {},
   "source": [
    "[col for col in df_horses.columns if not '_sum' in col]"
   ]
  },
  {
   "cell_type": "code",
   "execution_count": 39,
   "metadata": {},
   "outputs": [
    {
     "output_type": "stream",
     "name": "stdout",
     "text": "['horseLink', 'saddle', 'price', 'isFav', 'trainerLink', 'trainerName', 'jockeyLink', 'jockeyName', 'positionL', 'dist', 'weightSt', 'weightLb', 'overWeight', 'outHandicap', 'headGear', 'father', 'mother', 'gfather', 'fatherlink', 'motherlink', 'gfatherlink', 'comment', 'margin', 'N', 'C', 'metric_h_sum', 'res_win_h_sum', 'res_place_h_sum', 'metric_t_sum', 'res_win_t_sum', 'res_place_t_sum', 'metric_j_sum', 'res_win_j_sum', 'res_place_j_sum', 'metric_abs', 'metric_abs_mean']\n"
    }
   ],
   "source": [
    "#cols_base=['rid','course', 'marketTime', 'horseName', 'position', 'res_win', 'res_place', 'runners', 'ncond', 'metric', 'class', 'decimalPrice', 'age', 'RPR', 'TR', 'OR', 'weight', 'win_drift']\n",
    "cols_base=['rid','course', 'marketTime', 'horseName', 'position', 'res_win', 'res_place', 'runners', 'ncond', 'metric', 'class', 'decimalPrice', 'age',  'RPR', 'TR', 'OR', 'weight']\n",
    "cols=[col for col in df_horses.columns if not col in cols_base]\n",
    "\n",
    "# Ranks\n",
    "cols_ranks=[col for col in cols if '_rank' in col]\n",
    "cols=[col for col in cols if not col in cols_ranks]\n",
    "#cols_ranks=[col for col in cols_ranks if col!='position_rank'] # Remove dangerous poison\n",
    "\n",
    "# Average of previous races for every horse, trainer and jockey\n",
    "cols_avg=[col for col in cols if '_avg' in col]\n",
    "cols=[col for col in cols if not col in cols_avg]\n",
    "\n",
    "# Diffs from mean inside every racing\n",
    "cols_diffs=[col for col in cols if '_diff' in col]\n",
    "cols=[col for col in cols if not col in cols_diffs]\n",
    "#cols_diffs=[col for col in cols_diffs if col!='position_diff'] # Remove dangerous poison\n",
    "\n",
    "# The rest is rabbish\n",
    "print(cols)\n",
    "cols=cols_base+cols_ranks+cols_avg+cols_diffs\n",
    "cols=[col for col in cols if not '_mean' in col and not '_sum' in col]\n",
    "df_horses=df_horses[cols]\n",
    "df_horses.to_csv('data/horses_stats.csv')"
   ]
  },
  {
   "cell_type": "code",
   "execution_count": 32,
   "metadata": {},
   "outputs": [],
   "source": [
    "df_horses.to_csv('data/horses_stats.csv')"
   ]
  },
  {
   "cell_type": "markdown",
   "metadata": {},
   "source": [
    "# Concat days"
   ]
  },
  {
   "cell_type": "code",
   "execution_count": 8,
   "metadata": {},
   "outputs": [],
   "source": [
    "df_stat_all=pd.read_csv('data/horses_stats.csv', index_col=False)\n",
    "df_stat_all['hname']=df_stat_all['horseName'].str.lower().replace(regex=True,to_replace=r'\\W',value=r'')\n",
    "df_stat_all['marketTime']=pd.to_datetime(df_stat_all['marketTime'])\n",
    "#df_stat_all=df_stat_all.sort_values(by=['marketTime'])\n",
    "\n",
    "df_horses=pd.read_csv('data/horses_from2015.csv', index_col=False)\n",
    "df_horses['marketTime']=pd.to_datetime(df_horses['marketTime'])\n",
    "df_horses['hname']=df_horses['horseName'].str.lower().replace(regex=True,to_replace=r'\\W',value=r'')"
   ]
  },
  {
   "cell_type": "code",
   "execution_count": 57,
   "metadata": {},
   "outputs": [],
   "source": [
    "cols_res=['position','res_win', 'res_place']\n",
    "cols_home=['course', 'marketTime', 'horseName','hname', 'runners', 'ncond', 'metric', 'class', 'decimalPrice', 'weight','age','RPR', 'TR', 'OR']\n",
    "cols_cur_diffs=['age_diff','age_rank', 'decimalPrice_diff', 'decimalPrice_rank', 'weight_diff','weight_rank', 'RPR_diff', 'RPR_rank', 'TR_diff', 'TR_rank', 'OR_diff','OR_rank']\n",
    "cols_horses=cols_res+cols_home+cols_cur_diffs\n",
    "\n",
    "cols_stats=['hname','res_win_h_avg_rank', 'res_place_h_avg_rank','decimalPrice_diff_h_avg_rank', 'position_diff_h_avg_rank','res_win_t_avg_rank', 'res_place_t_avg_rank','decimalPrice_diff_t_avg_rank', 'position_diff_t_avg_rank','res_win_j_avg_rank', 'res_place_j_avg_rank','decimalPrice_diff_j_avg_rank', 'position_diff_j_avg_rank','metric_h_avg', 'res_win_h_avg', 'res_place_h_avg','decimalPrice_diff_h_avg', 'RPR_diff_h_avg', 'TR_diff_h_avg','OR_diff_h_avg', 'position_diff_h_avg', 'metric_t_avg', 'res_win_t_avg','res_place_t_avg', 'decimalPrice_diff_t_avg', 'RPR_diff_t_avg','TR_diff_t_avg', 'OR_diff_t_avg', 'position_diff_t_avg', 'metric_j_avg','res_win_j_avg', 'res_place_j_avg', 'decimalPrice_diff_j_avg','RPR_diff_j_avg', 'TR_diff_j_avg', 'OR_diff_j_avg','position_diff_j_avg', 'res_win_h_avg_diff', 'res_place_h_avg_diff','decimalPrice_diff_h_avg_diff', 'position_diff_h_avg_diff','res_win_t_avg_diff', 'res_place_t_avg_diff','decimalPrice_diff_t_avg_diff', 'position_diff_t_avg_diff','res_win_j_avg_diff', 'res_place_j_avg_diff','decimalPrice_diff_j_avg_diff', 'position_diff_j_avg_diff']\n",
    "\n",
    "def make_day(d):\n",
    "    df_stat=df_stat_all.loc[df_stat_all['marketTime']<d]\n",
    "    df_stat.drop_duplicates(subset=['hname'], keep='last', inplace=True)\n",
    "    df=df_horses.loc[(df_horses['marketTime']>=d) & (df_horses['marketTime'] < d + timedelta(days=1))]\n",
    "    return df[cols_horses].merge(df_stat[cols_stats], on='hname', how='left')\n",
    ""
   ]
  },
  {
   "cell_type": "code",
   "execution_count": null,
   "metadata": {},
   "outputs": [],
   "source": [
    "ds = datetime.strptime('2015-01-01', '%Y-%m-%d')\n",
    "de = datetime.strptime('2020-01-03', '%Y-%m-%d')\n",
    "#de = datetime.strptime('2020-04-09', '%Y-%m-%d')\n",
    "d = ds\n",
    "while d <= de:\n",
    "    print(d)\n",
    "    df=make_day(d)\n",
    "    if not df.empty:\n",
    "        if d>ds:\n",
    "            df_res=pd.concat([df_res,df], ignore_index=True)\n",
    "        else:\n",
    "            df_res=make_day(d)\n",
    "    d+=timedelta(days=1)\n",
    "df_res.to_csv('data/to_train.csv')"
   ]
  },
  {
   "cell_type": "code",
   "execution_count": null,
   "metadata": {},
   "outputs": [],
   "source": [
    "df_today = pd.concat(map(pd.read_csv, glob.glob(path.join('data/today/', '*.csv'))))\n",
    "df_today=df_today.reset_index(drop=True)\n",
    "df_today['rclass']=df_today['rclass'].fillna('')\n",
    "df=df_today[cols_home]\n",
    "df['class']=convert_class(df_today)\n",
    "df['rid']=df_today.index\n",
    "df['rid']=df.groupby(['course','marketTime'])['rid'].transform('sum')\n",
    "for col in cols_null:\n",
    "    df[col]=0\n",
    "df['ncond']=convert_condition(df_today)\n",
    "df['runners']=df.groupby(['course','marketTime'])['horseName'].transform('count')\n",
    "df['metric']=df_today['distance'].apply(lambda x: convert_distance(x))\n",
    "df['decimalPrice']=1/df['decimalPrice']\n",
    "df['weight']=(df_today['weightSt']*6.35+df_today['weightLb']*0.454).astype(int)\n",
    "\n",
    "for col in cols_home_diffs_ranks:\n",
    "    print(col)\n",
    "    df[col+'_mean']=df.groupby(['rid'])[col].transform('mean')\n",
    "    df[col+'_diff']=df[col]-df[col+'_mean']\n",
    "    df[col+'_diff'].replace([np.inf, -np.inf,np.nan], 0,inplace=True)\n",
    "    df[col+'_rank']=df.groupby(['rid'])[col+'_diff'].rank(method='dense', ascending=False).astype(int)\n",
    "\n",
    "df.merge(df_stat[cols_stats], on='hname', how='left').to_csv('data/topred.csv')"
   ]
  },
  {
   "cell_type": "markdown",
   "metadata": {},
   "source": [
    "# Others"
   ]
  },
  {
   "cell_type": "code",
   "execution_count": 2,
   "metadata": {},
   "outputs": [],
   "source": [
    "from selenium import webdriver\n",
    "from os import path, listdir\n",
    "import shutil\n",
    "import time\n",
    "import re"
   ]
  },
  {
   "cell_type": "code",
   "execution_count": 6,
   "metadata": {},
   "outputs": [],
   "source": [
    "def load_today():\n",
    "    driver = webdriver.Chrome(executable_path=r'../../lib/chromedriver.exe')\n",
    "    load_atr(driver)\n",
    "    #load_atr(None)\n",
    "    load_rp(driver)\n",
    "    driver.close()\n",
    "\n",
    "def load_atr(driver):\n",
    "    fn = 'output/today/atr.html'\n",
    "    driver.get('https://www.attheraces.com/racecards')\n",
    "    time.sleep(5)\n",
    "    html = driver.page_source\n",
    "    #with open(fn, 'r', encoding='utf8') as f:\n",
    "    #    html=f.read()\n",
    "    parse_atr_day(html, driver)\n",
    "    with open(fn, 'w+', encoding='utf8') as f:\n",
    "        f.write(html)\n",
    "    print('ATR: {} done with {} bytes.'.format(fn, len(html)))\n",
    "\n",
    "def load_rp(driver):\n",
    "    fn = 'output/today/rp.html'\n",
    "    driver.get('https://www.racingpost.com/racecards/')\n",
    "    time.sleep(5)\n",
    "    html = driver.page_source\n",
    "    parse_rp_day(html, driver)\n",
    "    with open(fn, 'w+', encoding='utf8') as f:\n",
    "        f.write(html)\n",
    "    print('RP: {} done with {} bytes.'.format(fn, len(html)))\n",
    "\n",
    "pRPLinks = re.compile(r'data-racecourse=\"[^\"]+\" href=\"([^\"]+)\">')\n",
    "def parse_rp_day(html, driver):\n",
    "    links = pRPLinks.findall(html)\n",
    "    for link in links:\n",
    "        fn = 'output/today/rp/{}.html'.format(link.split('/')[-1])\n",
    "        load_link(f'https://www.racingpost.com{link}', fn, driver)\n",
    "\n",
    "\n",
    "pATR_places = re.compile(r'<span class=\"h6 visible\">([^<]+)')\n",
    "pATR_races = re.compile(r'<span class=\"h7\">([^<]+)')\n",
    "pATR_split='<span class=\"h6 visible\">'\n",
    "pATR_Links = re.compile(r'<a href=\"([^\"]+)\"[^>]+>\\s*<span class=\"h7\">')\n",
    "def parse_atr_day(html, driver):\n",
    "    races=[]\n",
    "    places=pATR_places.findall(html)\n",
    "    parts=html.split(pATR_split)[1:]\n",
    "    for i,part in enumerate(parts):\n",
    "        if 'Abandoned' in part:\n",
    "            continue\n",
    "        place=places[i].strip()\n",
    "        races = pATR_races.findall(part)\n",
    "        links = pATR_Links.findall(part)\n",
    "        for j,race in enumerate(races):\n",
    "            ps=race.split(' - ')\n",
    "            name=ps[-1].strip()\n",
    "            tstr=ps[0].strip()\n",
    "            tm=get_date(tstr)\n",
    "            if 'Suspended' in name:# or (tm-timedelta(minutes=5))<datetime.now():\n",
    "                continue\n",
    "            link=links[j].strip()\n",
    "            fn=f'output/today/atr/{name}_{tstr}.html'.replace(':','')\n",
    "            load_link('https://www.attheraces.com'+link, fn, driver)\n",
    "            print(tm, place, tstr, name, link)\n",
    "\n",
    "def getone(pattern, string):\n",
    "    m = pattern.search(string)\n",
    "    res = m.group(1) if m else ''\n",
    "    return res.strip()\n",
    "\n",
    "def get_date(tstr):\n",
    "    t = datetime.strptime('{:%Y-%m-%d} {}'.format(date.today(),tstr), '%Y-%m-%d %H:%M')\n",
    "    return t+timedelta(hours=6)\n",
    "\n",
    "def load_link(link, fn, driver):\n",
    "    if not (path.exists(fn) and path.getsize(fn) > 10000):\n",
    "        driver.get(link)\n",
    "        time.sleep(10)\n",
    "        html = driver.page_source\n",
    "        with open(fn, 'w+', encoding='utf8') as f:\n",
    "            f.write(html)\n",
    "        print('{} done with {} bytes.'.format(fn, len(html)))"
   ]
  },
  {
   "cell_type": "code",
   "execution_count": 31,
   "metadata": {},
   "outputs": [],
   "source": [
    "def parse_today():\n",
    "    folder='output/today/atr/'\n",
    "    files=listdir(folder)\n",
    "    for fn in files:\n",
    "        with open(folder+fn, 'r', encoding='utf8') as f:\n",
    "            html = f.read()\n",
    "            print('parse '+fn)\n",
    "            parse_atr(html)\n",
    "        fn_target=folder.replace('today','done')+'{:%Y-%m-%d}_'.format(date.today())+fn\n",
    "        shutil.move(folder+fn, fn_target)\n",
    "    folder='output/today/rp/'\n",
    "    files=listdir(folder)\n",
    "    for fn in files:\n",
    "        with open(folder+fn, 'r', encoding='utf8') as f:\n",
    "            html = f.read()\n",
    "            print('parse '+fn)\n",
    "            parse_rp(html)\n",
    "        fn_target=folder.replace('today','done')+'{:%Y-%m-%d}_'.format(date.today())+fn\n",
    "        shutil.move(folder+fn, fn_target)\n",
    "    \n",
    "\n",
    "patrCourse = re.compile(r'<title>([^<]+)')\n",
    "patrDistance = re.compile(r'<div class=\"p--large font-weight--semibold\">([^<]+)')\n",
    "patrCondition = re.compile(r'<p class=\"p--medium\">([^<]+)</p>')\n",
    "patrOR = re.compile(r'<span class=\"text-pill text-pill--steel tooltip tooltipstered\"[^>]+>([^<]+)')\n",
    "patrHorseName = re.compile(r'<a href=\"/form/horse/[^>]+>([^<]+)')\n",
    "patrOddsHorse = re.compile(r'class=\"odds-grid-horse__name a--plain js-popup-trigger\" data-cookie=\"popupForm\">([^<]+)')\n",
    "patrOddsBookies = re.compile(r'<b class=\"bookmaker-logo__inner\"[^>]+>([^<]+)')\n",
    "patrOdds = re.compile(r'<span class=\"odds-value odds-value--decimal\">([^<]+)')\n",
    "\n",
    "def parse_atr(html):\n",
    "    course=getone(patrCourse, html)\n",
    "    ps=course.split(' | ')\n",
    "    t=ps[0]\n",
    "    course=ps[1]\n",
    "    condition=getone(patrCondition, html).split('(')[0].replace('&nbsp;','')\n",
    "    distance=getone(patrDistance, html)\n",
    "    parts=html.split('<h2 class=\"h6 horse__details flush\">')[1:]\n",
    "    prices_count=html.count('<div class=\"odds-grid__cell odds-grid__cell--ew\">')\n",
    "    horses=[]\n",
    "    for part in parts:\n",
    "        if 'Non Runner' in part:\n",
    "            continue\n",
    "        horse=getone(patrHorseName, part)\n",
    "        OR=getone(patrOR, part).replace('&nbsp;-&nbsp;','')\n",
    "        horses.append([course, t, condition, distance, horse,OR])\n",
    "    oddsHorses = patrOddsHorse.findall(html)\n",
    "    oddsBookies = patrOddsBookies.findall(html)[:-1]\n",
    "    oddsOdds=[]\n",
    "    prices=patrOdds.findall(html)\n",
    "    for x in prices:\n",
    "        oddsOdds.append(0 if x=='-' or x=='odds' or x=='SP' or x=='N/A' else float(x))\n",
    "    rows=len(oddsHorses)\n",
    "    o1=oddsOdds[:10*rows]\n",
    "    o2=oddsOdds[10*rows:]\n",
    "    try:\n",
    "        hdf=pd.DataFrame(horses, columns=['course', 'marketTime', 'condition', 'distance', 'horseName','OR'])\n",
    "        df=pd.DataFrame(np.hstack([np.reshape(oddsHorses,(rows,1)),np.reshape(o1,(rows,10)),np.reshape(o2,(rows,prices_count-10))]), columns=['horseName']+oddsBookies)\n",
    "        df['decimalPrice']=df.loc[:, (df != \"0.0\").any(axis=0)].mode(axis=1).iloc[:,0]\n",
    "        atr_odds.append(df)\n",
    "        atrs.append(hdf.merge(df[['horseName','decimalPrice']], on='horseName', how='left'))\n",
    "    except:\n",
    "        print('error')\n",
    "    #print(course, t, condition, distance)\n",
    "\n",
    "#cols_base=['rid','course', 'marketTime', 'horseName', 'runners', 'ncond', 'metric', 'class', 'decimalPrice', 'age',  'RPR', 'TR', 'OR', 'weight']\n",
    "pCourse = re.compile(r'<h1[^>]+>([^<]+)')\n",
    "pDistance = re.compile(r'data-test-selector=\"RC-header__raceDistanceRound\">([^<]+)')\n",
    "pTime = re.compile(r'<span class=\"RC-courseHeader__time\" data-test-selector=\"RC-courseHeader__time\">([^<]+)')\n",
    "pTitle = re.compile(r'<span data-test-selector=\"RC-header__raceInstanceTitle\">([^<]+)')\n",
    "pClass = re.compile(r'\\s\\((Class \\d)\\)\\s')\n",
    "pCondition = re.compile(r'Going.</div>\\s+<div class=\"RC-headerBox__infoRow__content\">([^<]+)')\n",
    "pTrainer = re.compile(r'data-order-trainer=\"([^\"]+)')\n",
    "pJockey = re.compile(r'data-order-jockey=\"([^\"]+)')\n",
    "pRPR = re.compile(r'data-order-rpr=\"([^\"]+)')\n",
    "pTR = re.compile(r'data-order-ts=\"([^\"]+)')\n",
    "pOR = re.compile(r'data-order-or=\"([^\"]+)')\n",
    "pWeightSt = re.compile(r'<span class=\"RC-runnerWgt__carried_st\">([^<]+)')\n",
    "pWeightLb = re.compile(r'<span class=\"RC-runnerWgt__carried_lb\">([^<]+)')\n",
    "pAge = re.compile(r'data-order-age=\"([^\"]+)')\n",
    "pHorseName = re.compile(r'data-test-selector=\"RC-cardPage-runnerName\">([^<]+)')\n",
    "\n",
    "def parse_rp(html):\n",
    "    course=getone(pCourse, html)\n",
    "    distance=getone(pDistance, html)\n",
    "    condition=getone(pCondition, html)\n",
    "    rclass=getone(pClass, html)\n",
    "    t=getone(pTime, html)\n",
    "    title=getone(pTitle, html)\n",
    "    parts=html.split('<div class=\"RC-runnerCardWrapper\">')[1:]\n",
    "    runners=len(parts)\n",
    "    for part in parts:\n",
    "        part=part.split('</tbody>')[0]\n",
    "        horse=getone(pHorseName,part)\n",
    "        trainer=getone(pTrainer,part)\n",
    "        jockey=getone(pJockey,part)\n",
    "        RPR=getone(pRPR,part)\n",
    "        RPR='' if RPR=='-' else RPR\n",
    "        TR=getone(pTR,part)\n",
    "        TR='' if TR=='-' else TR\n",
    "        OR=getone(pOR,part)\n",
    "        OR='' if OR=='-' else OR\n",
    "        weightSt=getone(pWeightSt,part)\n",
    "        weightLb=getone(pWeightLb,part)\n",
    "        age=getone(pAge,part)\n",
    "        rps.append([course,runners,distance,condition,rclass,date.today(),title,horse,trainer,jockey,RPR,TR, weightSt,weightLb,age])\n",
    "        #print(course,distance,t,date.today(),title,horse,trainer,jockey,RPR,TR, OR,weightSt,weightLb,age)\n",
    "\n"
   ]
  },
  {
   "cell_type": "code",
   "execution_count": 32,
   "metadata": {
    "tags": [
     "outputPrepend",
     "outputPrepend",
     "outputPrepend",
     "outputPrepend",
     "outputPrepend",
     "outputPrepend",
     "outputPrepend",
     "outputPrepend",
     "outputPrepend",
     "outputPrepend",
     "outputPrepend"
    ]
   },
   "outputs": [
    {
     "output_type": "stream",
     "name": "stdout",
     "text": "parse Allowance Optional Claiming_2043.html\nGulfstream\n['1.73', '1.67', '1.73', '1.57', '1.73', '1.73', '1.67', '-', '1.57', '-', '5.5', '6', '5.5', '6.5', '5.5', '5.5', '6', '-', '6.5', '-', '7.5', '6.5', '6', '6', '6', '6', '6.5', '-', '6', '-', '10', '10', '10', '10', '10', '10', '10', '-', '10', '-', '10', '13', '13', '13', '13', '13', '13', '-', '13', '-', '17', '15', '13', '17', '13', '15', '15', '-', '17', '-', '41', '41', '41', '41', '41', '41', '41', '-', '41', '-', '1.73', '1.73', '-', '1.67', '1.73', '1.67', '1.67', '-', '-', '5.5', '6.5', '-', '5.5', '5.5', '5.5', '5.5', '-', '-', '6', '7', '-', '7', '6', '6.5', '6.5', '-', '-', '10', '10', '-', '10', '10', '10', '10', '-', '-', '13', '13', '-', '13', '13', '12', '13', '-', '-', '15', '17', '-', '17', '15', '13', '15', '-', '-', '41', '41', '-', '41', '41', '41', '41', '-', '-']\n[1.73, 1.67, 1.73, 1.57, 1.73, 1.73, 1.67, 0, 1.57, 0, 5.5, 6.0, 5.5, 6.5, 5.5, 5.5, 6.0, 0, 6.5, 0, 7.5, 6.5, 6.0, 6.0, 6.0, 6.0, 6.5, 0, 6.0, 0, 10.0, 10.0, 10.0, 10.0, 10.0, 10.0, 10.0, 0, 10.0, 0, 10.0, 13.0, 13.0, 13.0, 13.0, 13.0, 13.0, 0, 13.0, 0, 17.0, 15.0, 13.0, 17.0, 13.0, 15.0, 15.0, 0, 17.0, 0, 41.0, 41.0, 41.0, 41.0, 41.0, 41.0, 41.0, 0, 41.0, 0, 1.73, 1.73, 0, 1.67, 1.73, 1.67, 1.67, 0, 0, 5.5, 6.5, 0, 5.5, 5.5, 5.5, 5.5, 0, 0, 6.0, 7.0, 0, 7.0, 6.0, 6.5, 6.5, 0, 0, 10.0, 10.0, 0, 10.0, 10.0, 10.0, 10.0, 0, 0, 13.0, 13.0, 0, 13.0, 13.0, 12.0, 13.0, 0, 0, 15.0, 17.0, 0, 17.0, 15.0, 13.0, 15.0, 0, 0, 41.0, 41.0, 0, 41.0, 41.0, 41.0, 41.0, 0, 0]\n[['Untitled']\n ['No Getting Over Me']\n ['Roman Empire']\n ['Winking At Thedude']\n ['First And Three']\n ['Gray Beau']\n ['Undaunted']]\n19 133 70 63\n[1.73, 1.67, 1.73, 1.57, 1.73, 1.73, 1.67, 0, 1.57, 0, 5.5, 6.0, 5.5, 6.5, 5.5, 5.5, 6.0, 0, 6.5, 0, 7.5, 6.5, 6.0, 6.0, 6.0, 6.0, 6.5, 0, 6.0, 0, 10.0, 10.0, 10.0, 10.0, 10.0, 10.0, 10.0, 0, 10.0, 0, 10.0, 13.0, 13.0, 13.0, 13.0, 13.0, 13.0, 0, 13.0, 0, 17.0, 15.0, 13.0, 17.0, 13.0, 15.0, 15.0, 0, 17.0, 0, 41.0, 41.0, 41.0, 41.0, 41.0, 41.0, 41.0, 0, 41.0, 0]\n[1.73, 1.73, 0, 1.67, 1.73, 1.67, 1.67, 0, 0, 5.5, 6.5, 0, 5.5, 5.5, 5.5, 5.5, 0, 0, 6.0, 7.0, 0, 7.0, 6.0, 6.5, 6.5, 0, 0, 10.0, 10.0, 0, 10.0, 10.0, 10.0, 10.0, 0, 0, 13.0, 13.0, 0, 13.0, 13.0, 12.0, 13.0, 0, 0, 15.0, 17.0, 0, 17.0, 15.0, 13.0, 15.0, 0, 0, 41.0, 41.0, 0, 41.0, 41.0, 41.0, 41.0, 0, 0]\n2\n3\n4\n5\nparse Allowance Optional Claiming_2217.html\nGulfstream\n['3.25', '3', '2.88', '3', '2.88', '3', '3.13', '-', '3', '-', '4.5', '4', '4', '3.75', '4', '4', '4', '-', '3.75', '-', '3.75', '5', '5', '6', '5', '5', '5', '-', '6', '-', '11', '9', '11', '11', '11', '11', '9', '-', '11', '-', '15', '12', '13', '10', '13', '13', '13', '-', '10', '-', '15', '13', '13', '13', '13', '12', '13', '-', '13', '-', '17', '15', '15', '17', '15', '15', '15', '-', '17', '-', '13', '17', '15', '17', '15', '15', '17', '-', '17', '-', '19', '17', '17', '15', '17', '17', '17', '-', '15', '-', '19', '19', '15', '21', '15', '19', '19', '-', '21', '-', '23', '19', '17', '21', '17', '21', '21', '-', '21', '-', '19', '29', '34', '34', '34', '34', '29', '-', '34', '-', '41', '34', '34', '41', '34', '34', '41', '-', '41', '-', '3', '3', '-', '3', '3', '2.88', '3', '-', '-', '4', '4', '-', '4', '4', '4', '3.75', '-', '-', '5', '6', '-', '4', '5', '6', '5', '-', '-', '11', '9', '-', '9', '11', '10', '9', '-', '-', '13', '13', '-', '13', '13', '13', '13', '-', '-', '13', '15', '-', '15', '13', '13', '13', '-', '-', '15', '17', '-', '17', '15', '15', '15', '-', '-', '15', '17', '-', '17', '17', '15', '15', '-', '-', '17', '19', '-', '19', '17', '17', '17', '-', '-', '19', '21', '-', '21', '19', '19', '19', '-', '-', '21', '23', '-', '23', '21', '21', '19', '-', '-', '29', '34', '-', '17', '34', '21', '29', '-', '-', '34', '41', '-', '34', '34', '34', '34', '-', '-']\n[3.25, 3.0, 2.88, 3.0, 2.88, 3.0, 3.13, 0, 3.0, 0, 4.5, 4.0, 4.0, 3.75, 4.0, 4.0, 4.0, 0, 3.75, 0, 3.75, 5.0, 5.0, 6.0, 5.0, 5.0, 5.0, 0, 6.0, 0, 11.0, 9.0, 11.0, 11.0, 11.0, 11.0, 9.0, 0, 11.0, 0, 15.0, 12.0, 13.0, 10.0, 13.0, 13.0, 13.0, 0, 10.0, 0, 15.0, 13.0, 13.0, 13.0, 13.0, 12.0, 13.0, 0, 13.0, 0, 17.0, 15.0, 15.0, 17.0, 15.0, 15.0, 15.0, 0, 17.0, 0, 13.0, 17.0, 15.0, 17.0, 15.0, 15.0, 17.0, 0, 17.0, 0, 19.0, 17.0, 17.0, 15.0, 17.0, 17.0, 17.0, 0, 15.0, 0, 19.0, 19.0, 15.0, 21.0, 15.0, 19.0, 19.0, 0, 21.0, 0, 23.0, 19.0, 17.0, 21.0, 17.0, 21.0, 21.0, 0, 21.0, 0, 19.0, 29.0, 34.0, 34.0, 34.0, 34.0, 29.0, 0, 34.0, 0, 41.0, 34.0, 34.0, 41.0, 34.0, 34.0, 41.0, 0, 41.0, 0, 3.0, 3.0, 0, 3.0, 3.0, 2.88, 3.0, 0, 0, 4.0, 4.0, 0, 4.0, 4.0, 4.0, 3.75, 0, 0, 5.0, 6.0, 0, 4.0, 5.0, 6.0, 5.0, 0, 0, 11.0, 9.0, 0, 9.0, 11.0, 10.0, 9.0, 0, 0, 13.0, 13.0, 0, 13.0, 13.0, 13.0, 13.0, 0, 0, 13.0, 15.0, 0, 15.0, 13.0, 13.0, 13.0, 0, 0, 15.0, 17.0, 0, 17.0, 15.0, 15.0, 15.0, 0, 0, 15.0, 17.0, 0, 17.0, 17.0, 15.0, 15.0, 0, 0, 17.0, 19.0, 0, 19.0, 17.0, 17.0, 17.0, 0, 0, 19.0, 21.0, 0, 21.0, 19.0, 19.0, 19.0, 0, 0, 21.0, 23.0, 0, 23.0, 21.0, 21.0, 19.0, 0, 0, 29.0, 34.0, 0, 17.0, 34.0, 21.0, 29.0, 0, 0, 34.0, 41.0, 0, 34.0, 34.0, 34.0, 34.0, 0, 0]\n[['Temple']\n ['Opry']\n ['Arthur Kitt']\n ['Award Winner']\n [\"Bird's Eye View\"]\n ['Rijeka']\n [\"The Green Mo'ster\"]\n ['Prince Of Arabia']\n ['Thunder Ride']\n [\"Ry's The Guy\"]\n ['Neepawa']\n ['Krampus']\n ['Timmy M.']]\n19 247 130 117\n[3.25, 3.0, 2.88, 3.0, 2.88, 3.0, 3.13, 0, 3.0, 0, 4.5, 4.0, 4.0, 3.75, 4.0, 4.0, 4.0, 0, 3.75, 0, 3.75, 5.0, 5.0, 6.0, 5.0, 5.0, 5.0, 0, 6.0, 0, 11.0, 9.0, 11.0, 11.0, 11.0, 11.0, 9.0, 0, 11.0, 0, 15.0, 12.0, 13.0, 10.0, 13.0, 13.0, 13.0, 0, 10.0, 0, 15.0, 13.0, 13.0, 13.0, 13.0, 12.0, 13.0, 0, 13.0, 0, 17.0, 15.0, 15.0, 17.0, 15.0, 15.0, 15.0, 0, 17.0, 0, 13.0, 17.0, 15.0, 17.0, 15.0, 15.0, 17.0, 0, 17.0, 0, 19.0, 17.0, 17.0, 15.0, 17.0, 17.0, 17.0, 0, 15.0, 0, 19.0, 19.0, 15.0, 21.0, 15.0, 19.0, 19.0, 0, 21.0, 0, 23.0, 19.0, 17.0, 21.0, 17.0, 21.0, 21.0, 0, 21.0, 0, 19.0, 29.0, 34.0, 34.0, 34.0, 34.0, 29.0, 0, 34.0, 0, 41.0, 34.0, 34.0, 41.0, 34.0, 34.0, 41.0, 0, 41.0, 0]\n[3.0, 3.0, 0, 3.0, 3.0, 2.88, 3.0, 0, 0, 4.0, 4.0, 0, 4.0, 4.0, 4.0, 3.75, 0, 0, 5.0, 6.0, 0, 4.0, 5.0, 6.0, 5.0, 0, 0, 11.0, 9.0, 0, 9.0, 11.0, 10.0, 9.0, 0, 0, 13.0, 13.0, 0, 13.0, 13.0, 13.0, 13.0, 0, 0, 13.0, 15.0, 0, 15.0, 13.0, 13.0, 13.0, 0, 0, 15.0, 17.0, 0, 17.0, 15.0, 15.0, 15.0, 0, 0, 15.0, 17.0, 0, 17.0, 17.0, 15.0, 15.0, 0, 0, 17.0, 19.0, 0, 19.0, 17.0, 17.0, 17.0, 0, 0, 19.0, 21.0, 0, 21.0, 19.0, 19.0, 19.0, 0, 0, 21.0, 23.0, 0, 23.0, 21.0, 21.0, 19.0, 0, 0, 29.0, 34.0, 0, 17.0, 34.0, 21.0, 29.0, 0, 0, 34.0, 41.0, 0, 34.0, 34.0, 34.0, 34.0, 0, 0]\n2\n3\n4\n5\nparse Allowance_0144.html\nRemington Park\n['4.5', 'odds', 'odds', 'odds', 'odds', 'odds', '-', '-', 'odds', '-', '5', 'odds', 'odds', 'odds', 'odds', 'odds', '-', '-', 'odds', '-', '7', 'odds', 'odds', 'odds', 'odds', 'odds', '-', '-', 'odds', '-', '7.5', 'odds', 'odds', 'odds', 'odds', 'odds', '-', '-', 'odds', '-', '9', 'odds', 'odds', 'odds', 'odds', 'odds', '-', '-', 'odds', '-', '9', 'odds', 'odds', 'odds', 'odds', 'odds', '-', '-', 'odds', '-', '9', 'odds', 'odds', 'odds', 'odds', 'odds', '-', '-', 'odds', '-', '10', 'odds', 'odds', 'odds', 'odds', 'odds', '-', '-', 'odds', '-', '11', 'odds', 'odds', 'odds', 'odds', 'odds', '-', '-', 'odds', '-', 'odds', 'odds', '-', '-', 'odds', 'odds', 'SP', '-', '-', 'odds', 'odds', '-', '-', 'odds', 'odds', 'SP', '-', '-', 'odds', 'odds', '-', '-', 'odds', 'odds', 'SP', '-', '-', 'odds', 'odds', '-', '-', 'odds', 'odds', 'SP', '-', '-', 'odds', 'odds', '-', '-', 'odds', 'odds', 'SP', '-', '-', 'odds', 'odds', '-', '-', 'odds', 'odds', 'SP', '-', '-', 'odds', 'odds', '-', '-', 'odds', 'odds', 'SP', '-', '-', 'odds', 'odds', '-', '-', 'odds', 'odds', 'SP', '-', '-', 'odds', 'odds', '-', '-', 'odds', 'odds', 'SP', '-', '-']\n[4.5, 0, 0, 0, 0, 0, 0, 0, 0, 0, 5.0, 0, 0, 0, 0, 0, 0, 0, 0, 0, 7.0, 0, 0, 0, 0, 0, 0, 0, 0, 0, 7.5, 0, 0, 0, 0, 0, 0, 0, 0, 0, 9.0, 0, 0, 0, 0, 0, 0, 0, 0, 0, 9.0, 0, 0, 0, 0, 0, 0, 0, 0, 0, 9.0, 0, 0, 0, 0, 0, 0, 0, 0, 0, 10.0, 0, 0, 0, 0, 0, 0, 0, 0, 0, 11.0, 0, 0, 0, 0, 0, 0, 0, 0, 0, 0, 0, 0, 0, 0, 0, 0, 0, 0, 0, 0, 0, 0, 0, 0, 0, 0, 0, 0, 0, 0, 0, 0, 0, 0, 0, 0, 0, 0, 0, 0, 0, 0, 0, 0, 0, 0, 0, 0, 0, 0, 0, 0, 0, 0, 0, 0, 0, 0, 0, 0, 0, 0, 0, 0, 0, 0, 0, 0, 0, 0, 0, 0, 0, 0, 0, 0, 0, 0, 0, 0, 0, 0, 0, 0, 0, 0, 0, 0, 0, 0]\n[['Vf Politics N Chicks']\n ['Soul Kisser']\n ['Train To B Bad']\n ['Peves Eagleetta']\n ['This Political Candy']\n ['Docs Kansas Rep']\n ['Alotalota']\n ['Scaredy Pants']\n ['Throw Th Dice']]\n19 171 90 81\n[4.5, 0, 0, 0, 0, 0, 0, 0, 0, 0, 5.0, 0, 0, 0, 0, 0, 0, 0, 0, 0, 7.0, 0, 0, 0, 0, 0, 0, 0, 0, 0, 7.5, 0, 0, 0, 0, 0, 0, 0, 0, 0, 9.0, 0, 0, 0, 0, 0, 0, 0, 0, 0, 9.0, 0, 0, 0, 0, 0, 0, 0, 0, 0, 9.0, 0, 0, 0, 0, 0, 0, 0, 0, 0, 10.0, 0, 0, 0, 0, 0, 0, 0, 0, 0, 11.0, 0, 0, 0, 0, 0, 0, 0, 0, 0]\n[0, 0, 0, 0, 0, 0, 0, 0, 0, 0, 0, 0, 0, 0, 0, 0, 0, 0, 0, 0, 0, 0, 0, 0, 0, 0, 0, 0, 0, 0, 0, 0, 0, 0, 0, 0, 0, 0, 0, 0, 0, 0, 0, 0, 0, 0, 0, 0, 0, 0, 0, 0, 0, 0, 0, 0, 0, 0, 0, 0, 0, 0, 0, 0, 0, 0, 0, 0, 0, 0, 0, 0, 0, 0, 0, 0, 0, 0, 0, 0, 0]\n2\n3\n4\n5\nparse Allowance_0354.html\nRemington Park\n['4.5', 'odds', 'odds', 'odds', 'odds', 'odds', '-', '-', 'odds', '-', '5.5', 'odds', 'odds', 'odds', 'odds', 'odds', '-', '-', 'odds', '-', '6', 'odds', 'odds', 'odds', 'odds', 'odds', '-', '-', 'odds', '-', '7.5', 'odds', 'odds', 'odds', 'odds', 'odds', '-', '-', 'odds', '-', '7.5', 'odds', 'odds', 'odds', 'odds', 'odds', '-', '-', 'odds', '-', '11', 'odds', 'odds', 'odds', 'odds', 'odds', '-', '-', 'odds', '-', '13', 'odds', 'odds', 'odds', 'odds', 'odds', '-', '-', 'odds', '-', '13', 'odds', 'odds', 'odds', 'odds', 'odds', '-', '-', 'odds', '-', '17', 'odds', 'odds', 'odds', 'odds', 'odds', '-', '-', 'odds', '-', '17', 'odds', 'odds', 'odds', 'odds', 'odds', '-', '-', 'odds', '-', '21', 'odds', 'odds', 'odds', 'odds', 'odds', '-', '-', 'odds', '-', '21', 'odds', 'odds', 'odds', 'odds', 'odds', '-', '-', 'odds', '-', 'odds', 'odds', '-', '-', 'odds', 'odds', 'SP', '-', '-', 'odds', 'odds', '-', '-', 'odds', 'odds', 'SP', '-', '-', 'odds', 'odds', '-', '-', 'odds', 'odds', 'SP', '-', '-', 'odds', 'odds', '-', '-', 'odds', 'odds', 'SP', '-', '-', 'odds', 'odds', '-', '-', 'odds', 'odds', 'SP', '-', '-', 'odds', 'odds', '-', '-', 'odds', 'odds', 'SP', '-', '-', 'odds', 'odds', '-', '-', 'odds', 'odds', 'SP', '-', '-', 'odds', 'odds', '-', '-', 'odds', 'odds', 'SP', '-', '-', 'odds', 'odds', '-', '-', 'odds', 'odds', 'SP', '-', '-', 'odds', 'odds', '-', '-', 'odds', 'odds', 'SP', '-', '-', 'odds', 'odds', '-', '-', 'odds', 'odds', 'SP', '-', '-', 'odds', 'odds', '-', '-', 'odds', 'odds', 'SP', '-', '-']\n[4.5, 0, 0, 0, 0, 0, 0, 0, 0, 0, 5.5, 0, 0, 0, 0, 0, 0, 0, 0, 0, 6.0, 0, 0, 0, 0, 0, 0, 0, 0, 0, 7.5, 0, 0, 0, 0, 0, 0, 0, 0, 0, 7.5, 0, 0, 0, 0, 0, 0, 0, 0, 0, 11.0, 0, 0, 0, 0, 0, 0, 0, 0, 0, 13.0, 0, 0, 0, 0, 0, 0, 0, 0, 0, 13.0, 0, 0, 0, 0, 0, 0, 0, 0, 0, 17.0, 0, 0, 0, 0, 0, 0, 0, 0, 0, 17.0, 0, 0, 0, 0, 0, 0, 0, 0, 0, 21.0, 0, 0, 0, 0, 0, 0, 0, 0, 0, 21.0, 0, 0, 0, 0, 0, 0, 0, 0, 0, 0, 0, 0, 0, 0, 0, 0, 0, 0, 0, 0, 0, 0, 0, 0, 0, 0, 0, 0, 0, 0, 0, 0, 0, 0, 0, 0, 0, 0, 0, 0, 0, 0, 0, 0, 0, 0, 0, 0, 0, 0, 0, 0, 0, 0, 0, 0, 0, 0, 0, 0, 0, 0, 0, 0, 0, 0, 0, 0, 0, 0, 0, 0, 0, 0, 0, 0, 0, 0, 0, 0, 0, 0, 0, 0, 0, 0, 0, 0, 0, 0, 0, 0, 0, 0, 0, 0, 0, 0, 0, 0, 0, 0, 0, 0, 0, 0, 0, 0, 0, 0, 0, 0, 0, 0, 0, 0, 0]\n[['Relentless Doll']\n ['Tf Ima Corona Cartel']\n ['Valiant Neon']\n ['Mh Might B Leavin']\n ['Apollitical J One']\n ['Jes What We Want']\n ['Corona Can Dance']\n ['Favorite Rock']\n ['Takinthecartelscash']\n ['Celebratori']\n ['Capos Renegade']\n ['Why']]\n19 228 120 108\n[4.5, 0, 0, 0, 0, 0, 0, 0, 0, 0, 5.5, 0, 0, 0, 0, 0, 0, 0, 0, 0, 6.0, 0, 0, 0, 0, 0, 0, 0, 0, 0, 7.5, 0, 0, 0, 0, 0, 0, 0, 0, 0, 7.5, 0, 0, 0, 0, 0, 0, 0, 0, 0, 11.0, 0, 0, 0, 0, 0, 0, 0, 0, 0, 13.0, 0, 0, 0, 0, 0, 0, 0, 0, 0, 13.0, 0, 0, 0, 0, 0, 0, 0, 0, 0, 17.0, 0, 0, 0, 0, 0, 0, 0, 0, 0, 17.0, 0, 0, 0, 0, 0, 0, 0, 0, 0, 21.0, 0, 0, 0, 0, 0, 0, 0, 0, 0, 21.0, 0, 0, 0, 0, 0, 0, 0, 0, 0]\n[0, 0, 0, 0, 0, 0, 0, 0, 0, 0, 0, 0, 0, 0, 0, 0, 0, 0, 0, 0, 0, 0, 0, 0, 0, 0, 0, 0, 0, 0, 0, 0, 0, 0, 0, 0, 0, 0, 0, 0, 0, 0, 0, 0, 0, 0, 0, 0, 0, 0, 0, 0, 0, 0, 0, 0, 0, 0, 0, 0, 0, 0, 0, 0, 0, 0, 0, 0, 0, 0, 0, 0, 0, 0, 0, 0, 0, 0, 0, 0, 0, 0, 0, 0, 0, 0, 0, 0, 0, 0, 0, 0, 0, 0, 0, 0, 0, 0, 0, 0, 0, 0, 0, 0, 0, 0, 0, 0]\n2\n3\n4\n5\nparse Claiming_0000.html\nRemington Park\n['2.88', 'odds', 'odds', 'odds', 'odds', '-', '-', '-', 'odds', '-', '4.33', 'odds', 'odds', 'odds', 'odds', '-', '-', '-', 'odds', '-', '5.5', 'odds', 'odds', 'odds', 'odds', '-', '-', '-', 'odds', '-', '9', 'odds', 'odds', 'odds', 'odds', '-', '-', '-', 'odds', '-', '9.5', 'odds', 'odds', 'odds', 'odds', '-', '-', '-', 'odds', '-', '15', 'odds', 'odds', 'odds', 'odds', '-', '-', '-', 'odds', '-', '15', 'odds', 'odds', 'odds', 'odds', '-', '-', '-', 'odds', '-', '15', 'odds', 'odds', 'odds', 'odds', '-', '-', '-', 'odds', '-', '19', 'odds', 'odds', 'odds', 'odds', '-', '-', '-', 'odds', '-', 'odds', 'odds', '-', '-', 'odds', '-', 'SP', '-', '-', 'odds', 'odds', '-', '-', 'odds', '-', 'SP', '-', '-', 'odds', 'odds', '-', '-', 'odds', '-', 'SP', '-', '-', 'odds', 'odds', '-', '-', 'odds', '-', 'SP', '-', '-', 'odds', 'odds', '-', '-', 'odds', '-', 'SP', '-', '-', 'odds', 'odds', '-', '-', 'odds', '-', 'SP', '-', '-', 'odds', 'odds', '-', '-', 'odds', '-', 'SP', '-', '-', 'odds', 'odds', '-', '-', 'odds', '-', 'SP', '-', '-', 'odds', 'odds', '-', '-', 'odds', '-', 'SP', '-', '-']\n[2.88, 0, 0, 0, 0, 0, 0, 0, 0, 0, 4.33, 0, 0, 0, 0, 0, 0, 0, 0, 0, 5.5, 0, 0, 0, 0, 0, 0, 0, 0, 0, 9.0, 0, 0, 0, 0, 0, 0, 0, 0, 0, 9.5, 0, 0, 0, 0, 0, 0, 0, 0, 0, 15.0, 0, 0, 0, 0, 0, 0, 0, 0, 0, 15.0, 0, 0, 0, 0, 0, 0, 0, 0, 0, 15.0, 0, 0, 0, 0, 0, 0, 0, 0, 0, 19.0, 0, 0, 0, 0, 0, 0, 0, 0, 0, 0, 0, 0, 0, 0, 0, 0, 0, 0, 0, 0, 0, 0, 0, 0, 0, 0, 0, 0, 0, 0, 0, 0, 0, 0, 0, 0, 0, 0, 0, 0, 0, 0, 0, 0, 0, 0, 0, 0, 0, 0, 0, 0, 0, 0, 0, 0, 0, 0, 0, 0, 0, 0, 0, 0, 0, 0, 0, 0, 0, 0, 0, 0, 0, 0, 0, 0, 0, 0, 0, 0, 0, 0, 0, 0, 0, 0, 0, 0, 0, 0]\n[['Travelin Friends']\n ['Sweet Bab Of Return']\n ['Eyeza Painted Pistol']\n ['Lickedy Spit']\n ['Rushagochick']\n ['First Tee For Two']\n ['Jenuine']\n ['Sm Red Country Storm']\n ['Park Avenue Air']]\n19 171 90 81\n[2.88, 0, 0, 0, 0, 0, 0, 0, 0, 0, 4.33, 0, 0, 0, 0, 0, 0, 0, 0, 0, 5.5, 0, 0, 0, 0, 0, 0, 0, 0, 0, 9.0, 0, 0, 0, 0, 0, 0, 0, 0, 0, 9.5, 0, 0, 0, 0, 0, 0, 0, 0, 0, 15.0, 0, 0, 0, 0, 0, 0, 0, 0, 0, 15.0, 0, 0, 0, 0, 0, 0, 0, 0, 0, 15.0, 0, 0, 0, 0, 0, 0, 0, 0, 0, 19.0, 0, 0, 0, 0, 0, 0, 0, 0, 0]\n[0, 0, 0, 0, 0, 0, 0, 0, 0, 0, 0, 0, 0, 0, 0, 0, 0, 0, 0, 0, 0, 0, 0, 0, 0, 0, 0, 0, 0, 0, 0, 0, 0, 0, 0, 0, 0, 0, 0, 0, 0, 0, 0, 0, 0, 0, 0, 0, 0, 0, 0, 0, 0, 0, 0, 0, 0, 0, 0, 0, 0, 0, 0, 0, 0, 0, 0, 0, 0, 0, 0, 0, 0, 0, 0, 0, 0, 0, 0, 0, 0]\n2\n3\n4\n5\nparse Claiming_0302.html\nRemington Park\n['4.5', 'odds', 'odds', 'odds', 'odds', 'odds', '-', '-', 'odds', '-', '6', 'odds', 'odds', 'odds', 'odds', 'odds', '-', '-', 'odds', '-', '6.5', 'odds', 'odds', 'odds', 'odds', 'odds', '-', '-', 'odds', '-', '7', 'odds', 'odds', 'odds', 'odds', 'odds', '-', '-', 'odds', '-', '7', 'odds', 'odds', 'odds', 'odds', 'odds', '-', '-', 'odds', '-', '8', 'odds', 'odds', 'odds', 'odds', 'odds', '-', '-', 'odds', '-', '11', 'odds', 'odds', 'odds', 'odds', 'odds', '-', '-', 'odds', '-', '13', 'odds', 'odds', 'odds', 'odds', 'odds', '-', '-', 'odds', '-', '17', 'odds', 'odds', 'odds', 'odds', 'odds', '-', '-', 'odds', '-', '17', 'odds', 'odds', 'odds', 'odds', 'odds', '-', '-', 'odds', '-', 'odds', 'odds', '-', '-', 'odds', 'odds', 'SP', '-', '-', 'odds', 'odds', '-', '-', 'odds', 'odds', 'SP', '-', '-', 'odds', 'odds', '-', '-', 'odds', 'odds', 'SP', '-', '-', 'odds', 'odds', '-', '-', 'odds', 'odds', 'SP', '-', '-', 'odds', 'odds', '-', '-', 'odds', 'odds', 'SP', '-', '-', 'odds', 'odds', '-', '-', 'odds', 'odds', 'SP', '-', '-', 'odds', 'odds', '-', '-', 'odds', 'odds', 'SP', '-', '-', 'odds', 'odds', '-', '-', 'odds', 'odds', 'SP', '-', '-', 'odds', 'odds', '-', '-', 'odds', 'odds', 'SP', '-', '-', 'odds', 'odds', '-', '-', 'odds', 'odds', 'SP', '-', '-']\n[4.5, 0, 0, 0, 0, 0, 0, 0, 0, 0, 6.0, 0, 0, 0, 0, 0, 0, 0, 0, 0, 6.5, 0, 0, 0, 0, 0, 0, 0, 0, 0, 7.0, 0, 0, 0, 0, 0, 0, 0, 0, 0, 7.0, 0, 0, 0, 0, 0, 0, 0, 0, 0, 8.0, 0, 0, 0, 0, 0, 0, 0, 0, 0, 11.0, 0, 0, 0, 0, 0, 0, 0, 0, 0, 13.0, 0, 0, 0, 0, 0, 0, 0, 0, 0, 17.0, 0, 0, 0, 0, 0, 0, 0, 0, 0, 17.0, 0, 0, 0, 0, 0, 0, 0, 0, 0, 0, 0, 0, 0, 0, 0, 0, 0, 0, 0, 0, 0, 0, 0, 0, 0, 0, 0, 0, 0, 0, 0, 0, 0, 0, 0, 0, 0, 0, 0, 0, 0, 0, 0, 0, 0, 0, 0, 0, 0, 0, 0, 0, 0, 0, 0, 0, 0, 0, 0, 0, 0, 0, 0, 0, 0, 0, 0, 0, 0, 0, 0, 0, 0, 0, 0, 0, 0, 0, 0, 0, 0, 0, 0, 0, 0, 0, 0, 0, 0, 0, 0, 0, 0, 0, 0, 0, 0, 0, 0]\n[['Lite Capo']\n ['Easy Wagon Tales']\n ['Bullittrain']\n ['Lota Ana']\n ['One Rare Jess']\n ['Eyesa Rockun']\n ['Stormin Tourist']\n ['High Triver']\n ['Brace For Perry']\n ['Cabos Wild Rose']]\n19 190 100 90\n[4.5, 0, 0, 0, 0, 0, 0, 0, 0, 0, 6.0, 0, 0, 0, 0, 0, 0, 0, 0, 0, 6.5, 0, 0, 0, 0, 0, 0, 0, 0, 0, 7.0, 0, 0, 0, 0, 0, 0, 0, 0, 0, 7.0, 0, 0, 0, 0, 0, 0, 0, 0, 0, 8.0, 0, 0, 0, 0, 0, 0, 0, 0, 0, 11.0, 0, 0, 0, 0, 0, 0, 0, 0, 0, 13.0, 0, 0, 0, 0, 0, 0, 0, 0, 0, 17.0, 0, 0, 0, 0, 0, 0, 0, 0, 0, 17.0, 0, 0, 0, 0, 0, 0, 0, 0, 0]\n[0, 0, 0, 0, 0, 0, 0, 0, 0, 0, 0, 0, 0, 0, 0, 0, 0, 0, 0, 0, 0, 0, 0, 0, 0, 0, 0, 0, 0, 0, 0, 0, 0, 0, 0, 0, 0, 0, 0, 0, 0, 0, 0, 0, 0, 0, 0, 0, 0, 0, 0, 0, 0, 0, 0, 0, 0, 0, 0, 0, 0, 0, 0, 0, 0, 0, 0, 0, 0, 0, 0, 0, 0, 0, 0, 0, 0, 0, 0, 0, 0, 0, 0, 0, 0, 0, 0, 0, 0, 0]\n2\n3\n4\n5\nparse Claiming_0328.html\nRemington Park\n['5.5', 'odds', 'odds', 'odds', 'odds', 'odds', '-', '-', 'odds', '-', '6', 'odds', 'odds', 'odds', 'odds', 'odds', '-', '-', 'odds', '-', '6', 'odds', 'odds', 'odds', 'odds', 'odds', '-', '-', 'odds', '-', '6.5', 'odds', 'odds', 'odds', 'odds', 'odds', '-', '-', 'odds', '-', '7', 'odds', 'odds', 'odds', 'odds', 'odds', '-', '-', 'odds', '-', '9', 'odds', 'odds', 'odds', 'odds', 'odds', '-', '-', 'odds', '-', '11', 'odds', 'odds', 'odds', 'odds', 'odds', '-', '-', 'odds', '-', '11', 'odds', 'odds', 'odds', 'odds', 'odds', '-', '-', 'odds', '-', '13', 'odds', 'odds', 'odds', 'odds', 'odds', '-', '-', 'odds', '-', '17', 'odds', 'odds', 'odds', 'odds', 'odds', '-', '-', 'odds', '-', 'odds', 'odds', '-', '-', 'odds', 'odds', 'SP', '-', '-', 'odds', 'odds', '-', '-', 'odds', 'odds', 'SP', '-', '-', 'odds', 'odds', '-', '-', 'odds', 'odds', 'SP', '-', '-', 'odds', 'odds', '-', '-', 'odds', 'odds', 'SP', '-', '-', 'odds', 'odds', '-', '-', 'odds', 'odds', 'SP', '-', '-', 'odds', 'odds', '-', '-', 'odds', 'odds', 'SP', '-', '-', 'odds', 'odds', '-', '-', 'odds', 'odds', 'SP', '-', '-', 'odds', 'odds', '-', '-', 'odds', 'odds', 'SP', '-', '-', 'odds', 'odds', '-', '-', 'odds', 'odds', 'SP', '-', '-', 'odds', 'odds', '-', '-', 'odds', 'odds', 'SP', '-', '-']\n[5.5, 0, 0, 0, 0, 0, 0, 0, 0, 0, 6.0, 0, 0, 0, 0, 0, 0, 0, 0, 0, 6.0, 0, 0, 0, 0, 0, 0, 0, 0, 0, 6.5, 0, 0, 0, 0, 0, 0, 0, 0, 0, 7.0, 0, 0, 0, 0, 0, 0, 0, 0, 0, 9.0, 0, 0, 0, 0, 0, 0, 0, 0, 0, 11.0, 0, 0, 0, 0, 0, 0, 0, 0, 0, 11.0, 0, 0, 0, 0, 0, 0, 0, 0, 0, 13.0, 0, 0, 0, 0, 0, 0, 0, 0, 0, 17.0, 0, 0, 0, 0, 0, 0, 0, 0, 0, 0, 0, 0, 0, 0, 0, 0, 0, 0, 0, 0, 0, 0, 0, 0, 0, 0, 0, 0, 0, 0, 0, 0, 0, 0, 0, 0, 0, 0, 0, 0, 0, 0, 0, 0, 0, 0, 0, 0, 0, 0, 0, 0, 0, 0, 0, 0, 0, 0, 0, 0, 0, 0, 0, 0, 0, 0, 0, 0, 0, 0, 0, 0, 0, 0, 0, 0, 0, 0, 0, 0, 0, 0, 0, 0, 0, 0, 0, 0, 0, 0, 0, 0, 0, 0, 0, 0, 0, 0, 0]\n[['Spittin Candy']\n ['A Prize Wagon']\n ['Relentless Wagon']\n ['Show Me Girl']\n ['Cat Daddie']\n ['Sensational Ruby']\n ['Shesdancingintherain']\n ['Ec Greys Anatomy']\n ['Five Bar Jewel']\n ['Highest Rate In Town']]\n19 190 100 90\n[5.5, 0, 0, 0, 0, 0, 0, 0, 0, 0, 6.0, 0, 0, 0, 0, 0, 0, 0, 0, 0, 6.0, 0, 0, 0, 0, 0, 0, 0, 0, 0, 6.5, 0, 0, 0, 0, 0, 0, 0, 0, 0, 7.0, 0, 0, 0, 0, 0, 0, 0, 0, 0, 9.0, 0, 0, 0, 0, 0, 0, 0, 0, 0, 11.0, 0, 0, 0, 0, 0, 0, 0, 0, 0, 11.0, 0, 0, 0, 0, 0, 0, 0, 0, 0, 13.0, 0, 0, 0, 0, 0, 0, 0, 0, 0, 17.0, 0, 0, 0, 0, 0, 0, 0, 0, 0]\n[0, 0, 0, 0, 0, 0, 0, 0, 0, 0, 0, 0, 0, 0, 0, 0, 0, 0, 0, 0, 0, 0, 0, 0, 0, 0, 0, 0, 0, 0, 0, 0, 0, 0, 0, 0, 0, 0, 0, 0, 0, 0, 0, 0, 0, 0, 0, 0, 0, 0, 0, 0, 0, 0, 0, 0, 0, 0, 0, 0, 0, 0, 0, 0, 0, 0, 0, 0, 0, 0, 0, 0, 0, 0, 0, 0, 0, 0, 0, 0, 0, 0, 0, 0, 0, 0, 0, 0, 0, 0]\n2\n3\n4\n5\nparse Claiming_1939.html\nGulfstream\n['3.25', '2.75', '2.75', '2.63', '2.75', '2.75', '2.75', '-', '2.63', '-', '4.33', '4.33', '4.33', '4', '4.33', '4.33', '4.33', '-', '4', '-', '5.5', '5', '5.5', '4.5', '5.5', '5.5', '5', '-', '4.5', '-', '4.5', '5.5', '5.5', '6.5', '5.5', '5.5', '5.5', '-', '6.5', '-', '13', '15', '13', '13', '13', '15', '13', '-', '13', '-', '13', '15', '15', '15', '15', '15', '15', '-', '15', '-', '21', '21', '21', '21', '21', '21', '21', '-', '21', '-', '21', '21', '17', '26', '17', '21', '21', '-', '26', '-', '34', '34', '34', '41', '34', '34', '34', '-', '41', '-', '34', '34', '26', '51', '26', '34', '34', '-', '51', '-', '2.75', '2.75', '-', '2.75', '2.75', '2.75', '2.75', '-', '-', '4.33', '4.33', '-', '4.33', '4.33', '4.33', '4.33', '-', '-', '5.5', '5.5', '-', '5.5', '5.5', '5', '5.5', '-', '-', '5.5', '6.5', '-', '5.5', '5.5', '5.5', '5.5', '-', '-', '15', '15', '-', '15', '15', '15', '13', '-', '-', '15', '15', '-', '15', '15', '15', '15', '-', '-', '21', '21', '-', '21', '21', '21', '21', '-', '-', '21', '26', '-', '26', '23', '23', '21', '-', '-', '34', '41', '-', '34', '34', '34', '34', '-', '-', '34', '51', '-', '41', '41', '34', '34', '-', '-']\n[3.25, 2.75, 2.75, 2.63, 2.75, 2.75, 2.75, 0, 2.63, 0, 4.33, 4.33, 4.33, 4.0, 4.33, 4.33, 4.33, 0, 4.0, 0, 5.5, 5.0, 5.5, 4.5, 5.5, 5.5, 5.0, 0, 4.5, 0, 4.5, 5.5, 5.5, 6.5, 5.5, 5.5, 5.5, 0, 6.5, 0, 13.0, 15.0, 13.0, 13.0, 13.0, 15.0, 13.0, 0, 13.0, 0, 13.0, 15.0, 15.0, 15.0, 15.0, 15.0, 15.0, 0, 15.0, 0, 21.0, 21.0, 21.0, 21.0, 21.0, 21.0, 21.0, 0, 21.0, 0, 21.0, 21.0, 17.0, 26.0, 17.0, 21.0, 21.0, 0, 26.0, 0, 34.0, 34.0, 34.0, 41.0, 34.0, 34.0, 34.0, 0, 41.0, 0, 34.0, 34.0, 26.0, 51.0, 26.0, 34.0, 34.0, 0, 51.0, 0, 2.75, 2.75, 0, 2.75, 2.75, 2.75, 2.75, 0, 0, 4.33, 4.33, 0, 4.33, 4.33, 4.33, 4.33, 0, 0, 5.5, 5.5, 0, 5.5, 5.5, 5.0, 5.5, 0, 0, 5.5, 6.5, 0, 5.5, 5.5, 5.5, 5.5, 0, 0, 15.0, 15.0, 0, 15.0, 15.0, 15.0, 13.0, 0, 0, 15.0, 15.0, 0, 15.0, 15.0, 15.0, 15.0, 0, 0, 21.0, 21.0, 0, 21.0, 21.0, 21.0, 21.0, 0, 0, 21.0, 26.0, 0, 26.0, 23.0, 23.0, 21.0, 0, 0, 34.0, 41.0, 0, 34.0, 34.0, 34.0, 34.0, 0, 0, 34.0, 51.0, 0, 41.0, 41.0, 34.0, 34.0, 0, 0]\n[['Paynter Fest']\n ['Time To Two Step']\n ['Stormy Boss']\n ['Samoa']\n ['Looking For More']\n ['Stamina Princess']\n ['Country Strong']\n ['Kaufy Futures']\n ['Alafia']\n ['Joplin']]\n19 190 100 90\n[3.25, 2.75, 2.75, 2.63, 2.75, 2.75, 2.75, 0, 2.63, 0, 4.33, 4.33, 4.33, 4.0, 4.33, 4.33, 4.33, 0, 4.0, 0, 5.5, 5.0, 5.5, 4.5, 5.5, 5.5, 5.0, 0, 4.5, 0, 4.5, 5.5, 5.5, 6.5, 5.5, 5.5, 5.5, 0, 6.5, 0, 13.0, 15.0, 13.0, 13.0, 13.0, 15.0, 13.0, 0, 13.0, 0, 13.0, 15.0, 15.0, 15.0, 15.0, 15.0, 15.0, 0, 15.0, 0, 21.0, 21.0, 21.0, 21.0, 21.0, 21.0, 21.0, 0, 21.0, 0, 21.0, 21.0, 17.0, 26.0, 17.0, 21.0, 21.0, 0, 26.0, 0, 34.0, 34.0, 34.0, 41.0, 34.0, 34.0, 34.0, 0, 41.0, 0, 34.0, 34.0, 26.0, 51.0, 26.0, 34.0, 34.0, 0, 51.0, 0]\n[2.75, 2.75, 0, 2.75, 2.75, 2.75, 2.75, 0, 0, 4.33, 4.33, 0, 4.33, 4.33, 4.33, 4.33, 0, 0, 5.5, 5.5, 0, 5.5, 5.5, 5.0, 5.5, 0, 0, 5.5, 6.5, 0, 5.5, 5.5, 5.5, 5.5, 0, 0, 15.0, 15.0, 0, 15.0, 15.0, 15.0, 13.0, 0, 0, 15.0, 15.0, 0, 15.0, 15.0, 15.0, 15.0, 0, 0, 21.0, 21.0, 0, 21.0, 21.0, 21.0, 21.0, 0, 0, 21.0, 26.0, 0, 26.0, 23.0, 23.0, 21.0, 0, 0, 34.0, 41.0, 0, 34.0, 34.0, 34.0, 34.0, 0, 0, 34.0, 51.0, 0, 41.0, 41.0, 34.0, 34.0, 0, 0]\n2\n3\n4\n5\nparse Claiming_2247.html\nGulfstream\n['3.75', '3.5', '3.5', '3.5', '3.5', '3.5', '3.5', '-', '3.5', '-', '5', '4.5', '5', '3.75', '5', '5', '4.5', '-', '3.75', '-', '5.5', '5', '5', '5', '5', '5', '5', '-', '5', '-', '6', '7.5', '7', '7', '7', '7', '8', '-', '7', '-', '9', '9', '9', '9', '9', '9', '9.5', '-', '9', '-', '10', '10', '10', '10', '10', '10', '10', '-', '10', '-', '7', '11', '11', '10', '11', '11', '11', '-', '10', '-', '9', '11', '11', '12', '11', '11', '11', '-', '12', '-', '17', '17', '17', '15', '17', '15', '17', '-', '15', '-', '26', '26', '26', '26', '26', '26', '26', '-', '26', '-', '21', '34', '34', '34', '34', '34', '34', '-', '34', '-', '21', '34', '34', '41', '34', '34', '34', '-', '41', '-', '41', '51', '51', '41', '51', '51', '51', '-', '41', '-', '41', '51', '41', '67', '41', '41', '51', '-', '67', '-', '3.5', '3.5', '-', '3.5', '3.5', '3.5', '3.5', '-', '-', '5', '5', '-', '5', '5', '5', '5', '-', '-', '5', '6', '-', '6', '5', '5', '5.5', '-', '-', '7', '6.5', '-', '7.5', '7', '8', '7', '-', '-', '9', '9', '-', '9', '9', '9', '9', '-', '-', '10', '10', '-', '9', '10', '10', '10', '-', '-', '11', '11', '-', '9', '11', '10', '8.5', '-', '-', '11', '12', '-', '9', '11', '11', '11', '-', '-', '17', '17', '-', '17', '17', '17', '17', '-', '-', '26', '26', '-', '26', '26', '26', '26', '-', '-', '34', '34', '-', '34', '34', '34', '34', '-', '-', '34', '41', '-', '34', '34', '34', '34', '-', '-', '51', '51', '-', '41', '51', '41', '51', '-', '-', '41', '67', '-', '51', '51', '51', '41', '-', '-']\n[3.75, 3.5, 3.5, 3.5, 3.5, 3.5, 3.5, 0, 3.5, 0, 5.0, 4.5, 5.0, 3.75, 5.0, 5.0, 4.5, 0, 3.75, 0, 5.5, 5.0, 5.0, 5.0, 5.0, 5.0, 5.0, 0, 5.0, 0, 6.0, 7.5, 7.0, 7.0, 7.0, 7.0, 8.0, 0, 7.0, 0, 9.0, 9.0, 9.0, 9.0, 9.0, 9.0, 9.5, 0, 9.0, 0, 10.0, 10.0, 10.0, 10.0, 10.0, 10.0, 10.0, 0, 10.0, 0, 7.0, 11.0, 11.0, 10.0, 11.0, 11.0, 11.0, 0, 10.0, 0, 9.0, 11.0, 11.0, 12.0, 11.0, 11.0, 11.0, 0, 12.0, 0, 17.0, 17.0, 17.0, 15.0, 17.0, 15.0, 17.0, 0, 15.0, 0, 26.0, 26.0, 26.0, 26.0, 26.0, 26.0, 26.0, 0, 26.0, 0, 21.0, 34.0, 34.0, 34.0, 34.0, 34.0, 34.0, 0, 34.0, 0, 21.0, 34.0, 34.0, 41.0, 34.0, 34.0, 34.0, 0, 41.0, 0, 41.0, 51.0, 51.0, 41.0, 51.0, 51.0, 51.0, 0, 41.0, 0, 41.0, 51.0, 41.0, 67.0, 41.0, 41.0, 51.0, 0, 67.0, 0, 3.5, 3.5, 0, 3.5, 3.5, 3.5, 3.5, 0, 0, 5.0, 5.0, 0, 5.0, 5.0, 5.0, 5.0, 0, 0, 5.0, 6.0, 0, 6.0, 5.0, 5.0, 5.5, 0, 0, 7.0, 6.5, 0, 7.5, 7.0, 8.0, 7.0, 0, 0, 9.0, 9.0, 0, 9.0, 9.0, 9.0, 9.0, 0, 0, 10.0, 10.0, 0, 9.0, 10.0, 10.0, 10.0, 0, 0, 11.0, 11.0, 0, 9.0, 11.0, 10.0, 8.5, 0, 0, 11.0, 12.0, 0, 9.0, 11.0, 11.0, 11.0, 0, 0, 17.0, 17.0, 0, 17.0, 17.0, 17.0, 17.0, 0, 0, 26.0, 26.0, 0, 26.0, 26.0, 26.0, 26.0, 0, 0, 34.0, 34.0, 0, 34.0, 34.0, 34.0, 34.0, 0, 0, 34.0, 41.0, 0, 34.0, 34.0, 34.0, 34.0, 0, 0, 51.0, 51.0, 0, 41.0, 51.0, 41.0, 51.0, 0, 0, 41.0, 67.0, 0, 51.0, 51.0, 51.0, 41.0, 0, 0]\n[['Trilby']\n ['Sweet Story']\n ['Retro Street']\n [\"Oblio's Wish\"]\n ['Bahama Kitten']\n ['Yako']\n ['Spicy Nelly']\n ['Valley Date']\n ['Sweet Blossom']\n ['Tropicality']\n ['Dangerous Woman']\n ['Just Sassy']\n ['Dixie Princess']\n ['Vinyardnina']]\n19 266 140 126\n[3.75, 3.5, 3.5, 3.5, 3.5, 3.5, 3.5, 0, 3.5, 0, 5.0, 4.5, 5.0, 3.75, 5.0, 5.0, 4.5, 0, 3.75, 0, 5.5, 5.0, 5.0, 5.0, 5.0, 5.0, 5.0, 0, 5.0, 0, 6.0, 7.5, 7.0, 7.0, 7.0, 7.0, 8.0, 0, 7.0, 0, 9.0, 9.0, 9.0, 9.0, 9.0, 9.0, 9.5, 0, 9.0, 0, 10.0, 10.0, 10.0, 10.0, 10.0, 10.0, 10.0, 0, 10.0, 0, 7.0, 11.0, 11.0, 10.0, 11.0, 11.0, 11.0, 0, 10.0, 0, 9.0, 11.0, 11.0, 12.0, 11.0, 11.0, 11.0, 0, 12.0, 0, 17.0, 17.0, 17.0, 15.0, 17.0, 15.0, 17.0, 0, 15.0, 0, 26.0, 26.0, 26.0, 26.0, 26.0, 26.0, 26.0, 0, 26.0, 0, 21.0, 34.0, 34.0, 34.0, 34.0, 34.0, 34.0, 0, 34.0, 0, 21.0, 34.0, 34.0, 41.0, 34.0, 34.0, 34.0, 0, 41.0, 0, 41.0, 51.0, 51.0, 41.0, 51.0, 51.0, 51.0, 0, 41.0, 0, 41.0, 51.0, 41.0, 67.0, 41.0, 41.0, 51.0, 0, 67.0, 0]\n[3.5, 3.5, 0, 3.5, 3.5, 3.5, 3.5, 0, 0, 5.0, 5.0, 0, 5.0, 5.0, 5.0, 5.0, 0, 0, 5.0, 6.0, 0, 6.0, 5.0, 5.0, 5.5, 0, 0, 7.0, 6.5, 0, 7.5, 7.0, 8.0, 7.0, 0, 0, 9.0, 9.0, 0, 9.0, 9.0, 9.0, 9.0, 0, 0, 10.0, 10.0, 0, 9.0, 10.0, 10.0, 10.0, 0, 0, 11.0, 11.0, 0, 9.0, 11.0, 10.0, 8.5, 0, 0, 11.0, 12.0, 0, 9.0, 11.0, 11.0, 11.0, 0, 0, 17.0, 17.0, 0, 17.0, 17.0, 17.0, 17.0, 0, 0, 26.0, 26.0, 0, 26.0, 26.0, 26.0, 26.0, 0, 0, 34.0, 34.0, 0, 34.0, 34.0, 34.0, 34.0, 0, 0, 34.0, 41.0, 0, 34.0, 34.0, 34.0, 34.0, 0, 0, 51.0, 51.0, 0, 41.0, 51.0, 41.0, 51.0, 0, 0, 41.0, 67.0, 0, 51.0, 51.0, 51.0, 41.0, 0, 0]\n2\n3\n4\n5\nparse Maiden Claiming_0026.html\nRemington Park\n['3', 'odds', 'odds', 'odds', 'odds', '-', '-', '-', 'odds', '-', '4.5', 'odds', 'odds', 'odds', 'odds', '-', '-', '-', 'odds', '-', '8', 'odds', 'odds', 'odds', 'odds', '-', '-', '-', 'odds', '-', '8', 'odds', 'odds', 'odds', 'odds', '-', '-', '-', 'odds', '-', '8', 'odds', 'odds', 'odds', 'odds', '-', '-', '-', 'odds', '-', '13', 'odds', 'odds', 'odds', 'odds', '-', '-', '-', 'odds', '-', '13', 'odds', 'odds', 'odds', 'odds', '-', '-', '-', 'odds', '-', '15', 'odds', 'odds', 'odds', 'odds', '-', '-', '-', 'odds', '-', '15', 'odds', 'odds', 'odds', 'odds', '-', '-', '-', 'odds', '-', '17', 'odds', 'odds', 'odds', 'odds', '-', '-', '-', 'odds', '-', 'odds', 'odds', '-', '-', 'odds', '-', 'SP', '-', '-', 'odds', 'odds', '-', '-', 'odds', '-', 'SP', '-', '-', 'odds', 'odds', '-', '-', 'odds', '-', 'SP', '-', '-', 'odds', 'odds', '-', '-', 'odds', '-', 'SP', '-', '-', 'odds', 'odds', '-', '-', 'odds', '-', 'SP', '-', '-', 'odds', 'odds', '-', '-', 'odds', '-', 'SP', '-', '-', 'odds', 'odds', '-', '-', 'odds', '-', 'SP', '-', '-', 'odds', 'odds', '-', '-', 'odds', '-', 'SP', '-', '-', 'odds', 'odds', '-', '-', 'odds', '-', 'SP', '-', '-', 'odds', 'odds', '-', '-', 'odds', '-', 'SP', '-', '-']\n[3.0, 0, 0, 0, 0, 0, 0, 0, 0, 0, 4.5, 0, 0, 0, 0, 0, 0, 0, 0, 0, 8.0, 0, 0, 0, 0, 0, 0, 0, 0, 0, 8.0, 0, 0, 0, 0, 0, 0, 0, 0, 0, 8.0, 0, 0, 0, 0, 0, 0, 0, 0, 0, 13.0, 0, 0, 0, 0, 0, 0, 0, 0, 0, 13.0, 0, 0, 0, 0, 0, 0, 0, 0, 0, 15.0, 0, 0, 0, 0, 0, 0, 0, 0, 0, 15.0, 0, 0, 0, 0, 0, 0, 0, 0, 0, 17.0, 0, 0, 0, 0, 0, 0, 0, 0, 0, 0, 0, 0, 0, 0, 0, 0, 0, 0, 0, 0, 0, 0, 0, 0, 0, 0, 0, 0, 0, 0, 0, 0, 0, 0, 0, 0, 0, 0, 0, 0, 0, 0, 0, 0, 0, 0, 0, 0, 0, 0, 0, 0, 0, 0, 0, 0, 0, 0, 0, 0, 0, 0, 0, 0, 0, 0, 0, 0, 0, 0, 0, 0, 0, 0, 0, 0, 0, 0, 0, 0, 0, 0, 0, 0, 0, 0, 0, 0, 0, 0, 0, 0, 0, 0, 0, 0, 0, 0, 0]\n[['Wagon Trails']\n ['Our Silver Storm']\n ['Charroux']\n ['Grimmetts Terminater']\n ['Fly Viking Fly']\n ['Jacksons Dynasty']\n ['Keystonescountrygirl']\n ['Sullys Dash']\n ['Lota Dash']\n ['Im Honest Pollitic']]\n19 190 100 90\n[3.0, 0, 0, 0, 0, 0, 0, 0, 0, 0, 4.5, 0, 0, 0, 0, 0, 0, 0, 0, 0, 8.0, 0, 0, 0, 0, 0, 0, 0, 0, 0, 8.0, 0, 0, 0, 0, 0, 0, 0, 0, 0, 8.0, 0, 0, 0, 0, 0, 0, 0, 0, 0, 13.0, 0, 0, 0, 0, 0, 0, 0, 0, 0, 13.0, 0, 0, 0, 0, 0, 0, 0, 0, 0, 15.0, 0, 0, 0, 0, 0, 0, 0, 0, 0, 15.0, 0, 0, 0, 0, 0, 0, 0, 0, 0, 17.0, 0, 0, 0, 0, 0, 0, 0, 0, 0]\n[0, 0, 0, 0, 0, 0, 0, 0, 0, 0, 0, 0, 0, 0, 0, 0, 0, 0, 0, 0, 0, 0, 0, 0, 0, 0, 0, 0, 0, 0, 0, 0, 0, 0, 0, 0, 0, 0, 0, 0, 0, 0, 0, 0, 0, 0, 0, 0, 0, 0, 0, 0, 0, 0, 0, 0, 0, 0, 0, 0, 0, 0, 0, 0, 0, 0, 0, 0, 0, 0, 0, 0, 0, 0, 0, 0, 0, 0, 0, 0, 0, 0, 0, 0, 0, 0, 0, 0, 0, 0]\n2\n3\n4\n5\nparse Maiden Claiming_0052.html\nRemington Park\n['3.25', 'odds', 'odds', 'odds', 'odds', '-', '-', '-', 'odds', '-', '5', 'odds', 'odds', 'odds', 'odds', '-', '-', '-', 'odds', '-', '6', 'odds', 'odds', 'odds', 'odds', '-', '-', '-', 'odds', '-', '9', 'odds', 'odds', 'odds', 'odds', '-', '-', '-', 'odds', '-', '9', 'odds', 'odds', 'odds', 'odds', '-', '-', '-', 'odds', '-', '11', 'odds', 'odds', 'odds', 'odds', '-', '-', '-', 'odds', '-', '15', 'odds', 'odds', 'odds', 'odds', '-', '-', '-', 'odds', '-', '15', 'odds', 'odds', 'odds', 'odds', '-', '-', '-', 'odds', '-', '15', 'odds', 'odds', 'odds', 'odds', '-', '-', '-', 'odds', '-', '15', 'odds', 'odds', 'odds', 'odds', '-', '-', '-', 'odds', '-', 'odds', 'odds', '-', '-', 'odds', '-', 'SP', '-', '-', 'odds', 'odds', '-', '-', 'odds', '-', 'SP', '-', '-', 'odds', 'odds', '-', '-', 'odds', '-', 'SP', '-', '-', 'odds', 'odds', '-', '-', 'odds', '-', 'SP', '-', '-', 'odds', 'odds', '-', '-', 'odds', '-', 'SP', '-', '-', 'odds', 'odds', '-', '-', 'odds', '-', 'SP', '-', '-', 'odds', 'odds', '-', '-', 'odds', '-', 'SP', '-', '-', 'odds', 'odds', '-', '-', 'odds', '-', 'SP', '-', '-', 'odds', 'odds', '-', '-', 'odds', '-', 'SP', '-', '-', 'odds', 'odds', '-', '-', 'odds', '-', 'SP', '-', '-']\n[3.25, 0, 0, 0, 0, 0, 0, 0, 0, 0, 5.0, 0, 0, 0, 0, 0, 0, 0, 0, 0, 6.0, 0, 0, 0, 0, 0, 0, 0, 0, 0, 9.0, 0, 0, 0, 0, 0, 0, 0, 0, 0, 9.0, 0, 0, 0, 0, 0, 0, 0, 0, 0, 11.0, 0, 0, 0, 0, 0, 0, 0, 0, 0, 15.0, 0, 0, 0, 0, 0, 0, 0, 0, 0, 15.0, 0, 0, 0, 0, 0, 0, 0, 0, 0, 15.0, 0, 0, 0, 0, 0, 0, 0, 0, 0, 15.0, 0, 0, 0, 0, 0, 0, 0, 0, 0, 0, 0, 0, 0, 0, 0, 0, 0, 0, 0, 0, 0, 0, 0, 0, 0, 0, 0, 0, 0, 0, 0, 0, 0, 0, 0, 0, 0, 0, 0, 0, 0, 0, 0, 0, 0, 0, 0, 0, 0, 0, 0, 0, 0, 0, 0, 0, 0, 0, 0, 0, 0, 0, 0, 0, 0, 0, 0, 0, 0, 0, 0, 0, 0, 0, 0, 0, 0, 0, 0, 0, 0, 0, 0, 0, 0, 0, 0, 0, 0, 0, 0, 0, 0, 0, 0, 0, 0, 0, 0]\n[['Sling']\n ['Bp Primetime']\n ['Abijah']\n ['Ocean Dynasty']\n ['Jessies Good Candy']\n ['Coronado Fuego']\n ['Ice Opener']\n ['Zoomalott']\n ['Rockincheirmoney']\n ['G Paws Got This One']]\n19 190 100 90\n[3.25, 0, 0, 0, 0, 0, 0, 0, 0, 0, 5.0, 0, 0, 0, 0, 0, 0, 0, 0, 0, 6.0, 0, 0, 0, 0, 0, 0, 0, 0, 0, 9.0, 0, 0, 0, 0, 0, 0, 0, 0, 0, 9.0, 0, 0, 0, 0, 0, 0, 0, 0, 0, 11.0, 0, 0, 0, 0, 0, 0, 0, 0, 0, 15.0, 0, 0, 0, 0, 0, 0, 0, 0, 0, 15.0, 0, 0, 0, 0, 0, 0, 0, 0, 0, 15.0, 0, 0, 0, 0, 0, 0, 0, 0, 0, 15.0, 0, 0, 0, 0, 0, 0, 0, 0, 0]\n[0, 0, 0, 0, 0, 0, 0, 0, 0, 0, 0, 0, 0, 0, 0, 0, 0, 0, 0, 0, 0, 0, 0, 0, 0, 0, 0, 0, 0, 0, 0, 0, 0, 0, 0, 0, 0, 0, 0, 0, 0, 0, 0, 0, 0, 0, 0, 0, 0, 0, 0, 0, 0, 0, 0, 0, 0, 0, 0, 0, 0, 0, 0, 0, 0, 0, 0, 0, 0, 0, 0, 0, 0, 0, 0, 0, 0, 0, 0, 0, 0, 0, 0, 0, 0, 0, 0, 0, 0, 0]\n2\n3\n4\n5\nparse Maiden Claiming_1800.html\nGulfstream\n['2.38', '2.5', '2.63', '2.5', '2.63', '2.63', '2.5', '-', '2.5', '-', '4', '3.5', '3.75', '3.25', '3.75', '3.75', '3.5', '-', '3.25', '-', '5', '4', '4', '4', '4', '4', '4', '-', '4', '-', '13', '12', '11', '13', '11', '12', '12', '-', '13', '-', '15', '12', '11', '12', '11', '11', '12', '-', '12', '-', '13', '15', '13', '21', '13', '13', '15', '-', '21', '-', '34', '34', '34', '34', '34', '34', '34', '-', '34', '-', '17', '29', '26', '41', '26', '26', '29', '-', '41', '-', '21', '29', '26', '41', '26', '26', '29', '-', '41', '-', '26', '29', '21', '41', '21', '26', '29', '-', '41', '-', '41', '34', '34', '41', '34', '34', '34', '-', '41', '-', '51', '41', '34', '41', '34', '41', '41', '-', '41', '-', '21', '51', '51', '41', '51', '51', '51', '-', '41', '-', '2.63', '2.63', '-', '2.63', '2.63', '2.5', '2.5', '-', '-', '3.75', '3.75', '-', '3.75', '3.75', '3.75', '3.75', '-', '-', '4', '4.5', '-', '4.5', '4', '4', '4', '-', '-', '12', '13', '-', '13', '12', '12', '12', '-', '-', '11', '12', '-', '11', '12', '11', '11', '-', '-', '13', '13', '-', '13', '13', '13', '15', '-', '-', '34', '34', '-', '34', '34', '34', '34', '-', '-', '26', '41', '-', '26', '26', '26', '29', '-', '-', '26', '41', '-', '26', '26', '26', '29', '-', '-', '26', '41', '-', '34', '29', '34', '29', '-', '-', '34', '41', '-', '34', '34', '34', '34', '-', '-', '41', '41', '-', '41', '41', '34', '34', '-', '-', '51', '51', '-', '41', '51', '34', '41', '-', '-']\n[2.38, 2.5, 2.63, 2.5, 2.63, 2.63, 2.5, 0, 2.5, 0, 4.0, 3.5, 3.75, 3.25, 3.75, 3.75, 3.5, 0, 3.25, 0, 5.0, 4.0, 4.0, 4.0, 4.0, 4.0, 4.0, 0, 4.0, 0, 13.0, 12.0, 11.0, 13.0, 11.0, 12.0, 12.0, 0, 13.0, 0, 15.0, 12.0, 11.0, 12.0, 11.0, 11.0, 12.0, 0, 12.0, 0, 13.0, 15.0, 13.0, 21.0, 13.0, 13.0, 15.0, 0, 21.0, 0, 34.0, 34.0, 34.0, 34.0, 34.0, 34.0, 34.0, 0, 34.0, 0, 17.0, 29.0, 26.0, 41.0, 26.0, 26.0, 29.0, 0, 41.0, 0, 21.0, 29.0, 26.0, 41.0, 26.0, 26.0, 29.0, 0, 41.0, 0, 26.0, 29.0, 21.0, 41.0, 21.0, 26.0, 29.0, 0, 41.0, 0, 41.0, 34.0, 34.0, 41.0, 34.0, 34.0, 34.0, 0, 41.0, 0, 51.0, 41.0, 34.0, 41.0, 34.0, 41.0, 41.0, 0, 41.0, 0, 21.0, 51.0, 51.0, 41.0, 51.0, 51.0, 51.0, 0, 41.0, 0, 2.63, 2.63, 0, 2.63, 2.63, 2.5, 2.5, 0, 0, 3.75, 3.75, 0, 3.75, 3.75, 3.75, 3.75, 0, 0, 4.0, 4.5, 0, 4.5, 4.0, 4.0, 4.0, 0, 0, 12.0, 13.0, 0, 13.0, 12.0, 12.0, 12.0, 0, 0, 11.0, 12.0, 0, 11.0, 12.0, 11.0, 11.0, 0, 0, 13.0, 13.0, 0, 13.0, 13.0, 13.0, 15.0, 0, 0, 34.0, 34.0, 0, 34.0, 34.0, 34.0, 34.0, 0, 0, 26.0, 41.0, 0, 26.0, 26.0, 26.0, 29.0, 0, 0, 26.0, 41.0, 0, 26.0, 26.0, 26.0, 29.0, 0, 0, 26.0, 41.0, 0, 34.0, 29.0, 34.0, 29.0, 0, 0, 34.0, 41.0, 0, 34.0, 34.0, 34.0, 34.0, 0, 0, 41.0, 41.0, 0, 41.0, 41.0, 34.0, 34.0, 0, 0, 51.0, 51.0, 0, 41.0, 51.0, 34.0, 41.0, 0, 0]\n[['Laska']\n ['Calentita']\n ['Princesa Crystal']\n ['Amber Princess']\n ['Pasatime']\n [\"Delia's Pride\"]\n ['Malaga']\n ['Dama De Noche']\n [\"Gracie's Dream\"]\n ['Tapizar Girl']\n ['Mrs. Miniver']\n ['Syllabus']\n ['Callmesenorita']]\n19 247 130 117\n[2.38, 2.5, 2.63, 2.5, 2.63, 2.63, 2.5, 0, 2.5, 0, 4.0, 3.5, 3.75, 3.25, 3.75, 3.75, 3.5, 0, 3.25, 0, 5.0, 4.0, 4.0, 4.0, 4.0, 4.0, 4.0, 0, 4.0, 0, 13.0, 12.0, 11.0, 13.0, 11.0, 12.0, 12.0, 0, 13.0, 0, 15.0, 12.0, 11.0, 12.0, 11.0, 11.0, 12.0, 0, 12.0, 0, 13.0, 15.0, 13.0, 21.0, 13.0, 13.0, 15.0, 0, 21.0, 0, 34.0, 34.0, 34.0, 34.0, 34.0, 34.0, 34.0, 0, 34.0, 0, 17.0, 29.0, 26.0, 41.0, 26.0, 26.0, 29.0, 0, 41.0, 0, 21.0, 29.0, 26.0, 41.0, 26.0, 26.0, 29.0, 0, 41.0, 0, 26.0, 29.0, 21.0, 41.0, 21.0, 26.0, 29.0, 0, 41.0, 0, 41.0, 34.0, 34.0, 41.0, 34.0, 34.0, 34.0, 0, 41.0, 0, 51.0, 41.0, 34.0, 41.0, 34.0, 41.0, 41.0, 0, 41.0, 0, 21.0, 51.0, 51.0, 41.0, 51.0, 51.0, 51.0, 0, 41.0, 0]\n[2.63, 2.63, 0, 2.63, 2.63, 2.5, 2.5, 0, 0, 3.75, 3.75, 0, 3.75, 3.75, 3.75, 3.75, 0, 0, 4.0, 4.5, 0, 4.5, 4.0, 4.0, 4.0, 0, 0, 12.0, 13.0, 0, 13.0, 12.0, 12.0, 12.0, 0, 0, 11.0, 12.0, 0, 11.0, 12.0, 11.0, 11.0, 0, 0, 13.0, 13.0, 0, 13.0, 13.0, 13.0, 15.0, 0, 0, 34.0, 34.0, 0, 34.0, 34.0, 34.0, 34.0, 0, 0, 26.0, 41.0, 0, 26.0, 26.0, 26.0, 29.0, 0, 0, 26.0, 41.0, 0, 26.0, 26.0, 26.0, 29.0, 0, 0, 26.0, 41.0, 0, 34.0, 29.0, 34.0, 29.0, 0, 0, 34.0, 41.0, 0, 34.0, 34.0, 34.0, 34.0, 0, 0, 41.0, 41.0, 0, 41.0, 41.0, 34.0, 34.0, 0, 0, 51.0, 51.0, 0, 41.0, 51.0, 34.0, 41.0, 0, 0]\n2\n3\n4\n5\nparse Maiden Claiming_1834.html\nGulfstream\n['2.75', '2.63', '2.5', '3', '2.5', '2.75', '2.63', '-', '3', '-', '5', '4.33', '4.5', '4.33', '4.5', '4.5', '4.5', '-', '4.33', '-', '6', '5', '5', '4.5', '5', '5', '5', '-', '4.5', '-', '4.5', '5.5', '6', '4.33', '6', '6', '5.5', '-', '4.33', '-', '6.5', '6', '6', '5.5', '6', '6', '6', '-', '5.5', '-', '17', '34', '34', '41', '34', '34', '34', '-', '41', '-', '41', '34', '34', '41', '34', '34', '41', '-', '41', '-', '67', '51', '51', '67', '51', '51', '51', '-', '67', '-', '2.75', '3', '-', '2.63', '2.75', '2.5', '2.63', '-', '-', '4.5', '4.5', '-', '4.5', '4.5', '4.5', '4.5', '-', '-', '5', '6', '-', '6', '5', '5', '5.5', '-', '-', '6', '6', '-', '5', '5', '5.5', '5', '-', '-', '6', '6.5', '-', '6.5', '6', '6', '6', '-', '-', '34', '29', '-', '26', '34', '34', '26', '-', '-', '34', '41', '-', '41', '41', '34', '41', '-', '-', '51', '51', '-', '51', '51', '51', '51', '-', '-']\n[2.75, 2.63, 2.5, 3.0, 2.5, 2.75, 2.63, 0, 3.0, 0, 5.0, 4.33, 4.5, 4.33, 4.5, 4.5, 4.5, 0, 4.33, 0, 6.0, 5.0, 5.0, 4.5, 5.0, 5.0, 5.0, 0, 4.5, 0, 4.5, 5.5, 6.0, 4.33, 6.0, 6.0, 5.5, 0, 4.33, 0, 6.5, 6.0, 6.0, 5.5, 6.0, 6.0, 6.0, 0, 5.5, 0, 17.0, 34.0, 34.0, 41.0, 34.0, 34.0, 34.0, 0, 41.0, 0, 41.0, 34.0, 34.0, 41.0, 34.0, 34.0, 41.0, 0, 41.0, 0, 67.0, 51.0, 51.0, 67.0, 51.0, 51.0, 51.0, 0, 67.0, 0, 2.75, 3.0, 0, 2.63, 2.75, 2.5, 2.63, 0, 0, 4.5, 4.5, 0, 4.5, 4.5, 4.5, 4.5, 0, 0, 5.0, 6.0, 0, 6.0, 5.0, 5.0, 5.5, 0, 0, 6.0, 6.0, 0, 5.0, 5.0, 5.5, 5.0, 0, 0, 6.0, 6.5, 0, 6.5, 6.0, 6.0, 6.0, 0, 0, 34.0, 29.0, 0, 26.0, 34.0, 34.0, 26.0, 0, 0, 34.0, 41.0, 0, 41.0, 41.0, 34.0, 41.0, 0, 0, 51.0, 51.0, 0, 51.0, 51.0, 51.0, 51.0, 0, 0]\n[['Cabrina']\n ['Water Wizard']\n ['Sheknowsthedrill']\n ['Bust Out Lady']\n ['Trinni Sunshine']\n ['Grey Jazmine']\n ['Crespucula']\n ['Pazyarmonia']]\n19 152 80 72\n[2.75, 2.63, 2.5, 3.0, 2.5, 2.75, 2.63, 0, 3.0, 0, 5.0, 4.33, 4.5, 4.33, 4.5, 4.5, 4.5, 0, 4.33, 0, 6.0, 5.0, 5.0, 4.5, 5.0, 5.0, 5.0, 0, 4.5, 0, 4.5, 5.5, 6.0, 4.33, 6.0, 6.0, 5.5, 0, 4.33, 0, 6.5, 6.0, 6.0, 5.5, 6.0, 6.0, 6.0, 0, 5.5, 0, 17.0, 34.0, 34.0, 41.0, 34.0, 34.0, 34.0, 0, 41.0, 0, 41.0, 34.0, 34.0, 41.0, 34.0, 34.0, 41.0, 0, 41.0, 0, 67.0, 51.0, 51.0, 67.0, 51.0, 51.0, 51.0, 0, 67.0, 0]\n[2.75, 3.0, 0, 2.63, 2.75, 2.5, 2.63, 0, 0, 4.5, 4.5, 0, 4.5, 4.5, 4.5, 4.5, 0, 0, 5.0, 6.0, 0, 6.0, 5.0, 5.0, 5.5, 0, 0, 6.0, 6.0, 0, 5.0, 5.0, 5.5, 5.0, 0, 0, 6.0, 6.5, 0, 6.5, 6.0, 6.0, 6.0, 0, 0, 34.0, 29.0, 0, 26.0, 34.0, 34.0, 26.0, 0, 0, 34.0, 41.0, 0, 41.0, 41.0, 34.0, 41.0, 0, 0, 51.0, 51.0, 0, 51.0, 51.0, 51.0, 51.0, 0, 0]\n2\n3\n4\n5\nparse Maiden Claiming_1907.html\nGulfstream\n['3.5', '3.25', '4', '3', '4', '3.5', '4', '-', '3', '-', '4.33', '4.33', '4.33', '5', '4.33', '4.33', '5.5', '-', '5', '-', '5', '5', '5', '5.5', '5', '5', '6', '-', '5.5', '-', '3.25', '5.5', '6', '6', '6', '6', '6.5', '-', '6', '-', '4.33', '6.5', '8', '7', '8', '7', '8', '-', '7', '-', '8', '7.5', '8', '7.5', '8', '8', '9', '-', '7.5', '-', '7', '9', '10', '9', '10', '10', '11', '-', '9', '-', '12', '11', '13', '8.5', '13', '13', '13', '-', '8.5', '-', '11', '11', '15', '9', '15', '13', '13', '-', '9', '-', '13', '15', '17', '17', '17', '17', '19', '-', '17', '-', '17', '29', '34', '34', '34', '34', '34', '-', '34', '-', '23', '34', '41', '26', '41', '34', '41', '-', '26', '-', '26', '34', '41', '34', '41', '34', '41', '-', '34', '-', '34', '41', '41', '41', '41', '41', '51', '-', '41', '-', '21', '41', '51', '51', '51', '51', '51', '-', '51', '-', '41', '67', '67', '67', '67', '67', '81', '-', '67', '-', '3.5', '4', '-', '3', '3.5', '3.75', '3.5', '-', '-', '4.33', '5', '-', '4.5', '4.33', '4.5', '4.5', '-', '-', '5', '5.5', '-', '5', '5', '5.5', '5', '-', '-', '6', '6', '-', '5', '6', '6', '5.5', '-', '-', '7', '8', '-', '5.5', '7', '8', '7', '-', '-', '8', '8', '-', '8', '8', '8', '8', '-', '-', '9.5', '10', '-', '8.5', '9.5', '9', '9', '-', '-', '13', '13', '-', '13', '13', '12', '12', '-', '-', '13', '12', '-', '11', '12', '13', '11', '-', '-', '17', '17', '-', '17', '17', '17', '17', '-', '-', '34', '34', '-', '26', '34', '34', '29', '-', '-', '34', '41', '-', '34', '34', '34', '34', '-', '-', '34', '41', '-', '34', '34', '41', '34', '-', '-', '41', '41', '-', '41', '41', '41', '41', '-', '-', '51', '51', '-', '41', '51', '41', '51', '-', '-', '67', '67', '-', '67', '67', '67', '67', '-', '-']\n[3.5, 3.25, 4.0, 3.0, 4.0, 3.5, 4.0, 0, 3.0, 0, 4.33, 4.33, 4.33, 5.0, 4.33, 4.33, 5.5, 0, 5.0, 0, 5.0, 5.0, 5.0, 5.5, 5.0, 5.0, 6.0, 0, 5.5, 0, 3.25, 5.5, 6.0, 6.0, 6.0, 6.0, 6.5, 0, 6.0, 0, 4.33, 6.5, 8.0, 7.0, 8.0, 7.0, 8.0, 0, 7.0, 0, 8.0, 7.5, 8.0, 7.5, 8.0, 8.0, 9.0, 0, 7.5, 0, 7.0, 9.0, 10.0, 9.0, 10.0, 10.0, 11.0, 0, 9.0, 0, 12.0, 11.0, 13.0, 8.5, 13.0, 13.0, 13.0, 0, 8.5, 0, 11.0, 11.0, 15.0, 9.0, 15.0, 13.0, 13.0, 0, 9.0, 0, 13.0, 15.0, 17.0, 17.0, 17.0, 17.0, 19.0, 0, 17.0, 0, 17.0, 29.0, 34.0, 34.0, 34.0, 34.0, 34.0, 0, 34.0, 0, 23.0, 34.0, 41.0, 26.0, 41.0, 34.0, 41.0, 0, 26.0, 0, 26.0, 34.0, 41.0, 34.0, 41.0, 34.0, 41.0, 0, 34.0, 0, 34.0, 41.0, 41.0, 41.0, 41.0, 41.0, 51.0, 0, 41.0, 0, 21.0, 41.0, 51.0, 51.0, 51.0, 51.0, 51.0, 0, 51.0, 0, 41.0, 67.0, 67.0, 67.0, 67.0, 67.0, 81.0, 0, 67.0, 0, 3.5, 4.0, 0, 3.0, 3.5, 3.75, 3.5, 0, 0, 4.33, 5.0, 0, 4.5, 4.33, 4.5, 4.5, 0, 0, 5.0, 5.5, 0, 5.0, 5.0, 5.5, 5.0, 0, 0, 6.0, 6.0, 0, 5.0, 6.0, 6.0, 5.5, 0, 0, 7.0, 8.0, 0, 5.5, 7.0, 8.0, 7.0, 0, 0, 8.0, 8.0, 0, 8.0, 8.0, 8.0, 8.0, 0, 0, 9.5, 10.0, 0, 8.5, 9.5, 9.0, 9.0, 0, 0, 13.0, 13.0, 0, 13.0, 13.0, 12.0, 12.0, 0, 0, 13.0, 12.0, 0, 11.0, 12.0, 13.0, 11.0, 0, 0, 17.0, 17.0, 0, 17.0, 17.0, 17.0, 17.0, 0, 0, 34.0, 34.0, 0, 26.0, 34.0, 34.0, 29.0, 0, 0, 34.0, 41.0, 0, 34.0, 34.0, 34.0, 34.0, 0, 0, 34.0, 41.0, 0, 34.0, 34.0, 41.0, 34.0, 0, 0, 41.0, 41.0, 0, 41.0, 41.0, 41.0, 41.0, 0, 0, 51.0, 51.0, 0, 41.0, 51.0, 41.0, 51.0, 0, 0, 67.0, 67.0, 0, 67.0, 67.0, 67.0, 67.0, 0, 0]\n[['Awesome Light']\n ['Dotdotdash']\n ['Make A Mint']\n ['Cultivation']\n ['Dancingwithjimmieb']\n ['Princess Avril']\n ['Borrowed Angel']\n ['Sandbah']\n ['Awesome Evil']\n ['Hechizada']\n ['New York Commander']\n ['Too Stylish']\n [\"Miriana's Queen\"]\n ['Rosasparks']\n ['Lovely Lee']\n ['Bella Bionda']]\n19 304 160 144\n[3.5, 3.25, 4.0, 3.0, 4.0, 3.5, 4.0, 0, 3.0, 0, 4.33, 4.33, 4.33, 5.0, 4.33, 4.33, 5.5, 0, 5.0, 0, 5.0, 5.0, 5.0, 5.5, 5.0, 5.0, 6.0, 0, 5.5, 0, 3.25, 5.5, 6.0, 6.0, 6.0, 6.0, 6.5, 0, 6.0, 0, 4.33, 6.5, 8.0, 7.0, 8.0, 7.0, 8.0, 0, 7.0, 0, 8.0, 7.5, 8.0, 7.5, 8.0, 8.0, 9.0, 0, 7.5, 0, 7.0, 9.0, 10.0, 9.0, 10.0, 10.0, 11.0, 0, 9.0, 0, 12.0, 11.0, 13.0, 8.5, 13.0, 13.0, 13.0, 0, 8.5, 0, 11.0, 11.0, 15.0, 9.0, 15.0, 13.0, 13.0, 0, 9.0, 0, 13.0, 15.0, 17.0, 17.0, 17.0, 17.0, 19.0, 0, 17.0, 0, 17.0, 29.0, 34.0, 34.0, 34.0, 34.0, 34.0, 0, 34.0, 0, 23.0, 34.0, 41.0, 26.0, 41.0, 34.0, 41.0, 0, 26.0, 0, 26.0, 34.0, 41.0, 34.0, 41.0, 34.0, 41.0, 0, 34.0, 0, 34.0, 41.0, 41.0, 41.0, 41.0, 41.0, 51.0, 0, 41.0, 0, 21.0, 41.0, 51.0, 51.0, 51.0, 51.0, 51.0, 0, 51.0, 0, 41.0, 67.0, 67.0, 67.0, 67.0, 67.0, 81.0, 0, 67.0, 0]\n[3.5, 4.0, 0, 3.0, 3.5, 3.75, 3.5, 0, 0, 4.33, 5.0, 0, 4.5, 4.33, 4.5, 4.5, 0, 0, 5.0, 5.5, 0, 5.0, 5.0, 5.5, 5.0, 0, 0, 6.0, 6.0, 0, 5.0, 6.0, 6.0, 5.5, 0, 0, 7.0, 8.0, 0, 5.5, 7.0, 8.0, 7.0, 0, 0, 8.0, 8.0, 0, 8.0, 8.0, 8.0, 8.0, 0, 0, 9.5, 10.0, 0, 8.5, 9.5, 9.0, 9.0, 0, 0, 13.0, 13.0, 0, 13.0, 13.0, 12.0, 12.0, 0, 0, 13.0, 12.0, 0, 11.0, 12.0, 13.0, 11.0, 0, 0, 17.0, 17.0, 0, 17.0, 17.0, 17.0, 17.0, 0, 0, 34.0, 34.0, 0, 26.0, 34.0, 34.0, 29.0, 0, 0, 34.0, 41.0, 0, 34.0, 34.0, 34.0, 34.0, 0, 0, 34.0, 41.0, 0, 34.0, 34.0, 41.0, 34.0, 0, 0, 41.0, 41.0, 0, 41.0, 41.0, 41.0, 41.0, 0, 0, 51.0, 51.0, 0, 41.0, 51.0, 41.0, 51.0, 0, 0, 67.0, 67.0, 0, 67.0, 67.0, 67.0, 67.0, 0, 0]\n2\n3\n4\n5\nparse Maiden_0118.html\nRemington Park\n['3.25', 'odds', 'odds', 'odds', 'odds', 'odds', '-', '-', 'odds', '-', '6', 'odds', 'odds', 'odds', 'odds', 'odds', '-', '-', 'odds', '-', '7', 'odds', 'odds', 'odds', 'odds', 'odds', '-', '-', 'odds', '-', '8', 'odds', 'odds', 'odds', 'odds', 'odds', '-', '-', 'odds', '-', '8', 'odds', 'odds', 'odds', 'odds', 'odds', '-', '-', 'odds', '-', '11', 'odds', 'odds', 'odds', 'odds', 'odds', '-', '-', 'odds', '-', '11', 'odds', 'odds', 'odds', 'odds', 'odds', '-', '-', 'odds', '-', '11', 'odds', 'odds', 'odds', 'odds', 'odds', '-', '-', 'odds', '-', '13', 'odds', 'odds', 'odds', 'odds', 'odds', '-', '-', 'odds', '-', '26', 'odds', 'odds', 'odds', 'odds', 'odds', '-', '-', 'odds', '-', 'odds', 'odds', '-', '-', 'odds', 'odds', 'SP', '-', '-', 'odds', 'odds', '-', '-', 'odds', 'odds', 'SP', '-', '-', 'odds', 'odds', '-', '-', 'odds', 'odds', 'SP', '-', '-', 'odds', 'odds', '-', '-', 'odds', 'odds', 'SP', '-', '-', 'odds', 'odds', '-', '-', 'odds', 'odds', 'SP', '-', '-', 'odds', 'odds', '-', '-', 'odds', 'odds', 'SP', '-', '-', 'odds', 'odds', '-', '-', 'odds', 'odds', 'SP', '-', '-', 'odds', 'odds', '-', '-', 'odds', 'odds', 'SP', '-', '-', 'odds', 'odds', '-', '-', 'odds', 'odds', 'SP', '-', '-', 'odds', 'odds', '-', '-', 'odds', 'odds', 'SP', '-', '-']\n[3.25, 0, 0, 0, 0, 0, 0, 0, 0, 0, 6.0, 0, 0, 0, 0, 0, 0, 0, 0, 0, 7.0, 0, 0, 0, 0, 0, 0, 0, 0, 0, 8.0, 0, 0, 0, 0, 0, 0, 0, 0, 0, 8.0, 0, 0, 0, 0, 0, 0, 0, 0, 0, 11.0, 0, 0, 0, 0, 0, 0, 0, 0, 0, 11.0, 0, 0, 0, 0, 0, 0, 0, 0, 0, 11.0, 0, 0, 0, 0, 0, 0, 0, 0, 0, 13.0, 0, 0, 0, 0, 0, 0, 0, 0, 0, 26.0, 0, 0, 0, 0, 0, 0, 0, 0, 0, 0, 0, 0, 0, 0, 0, 0, 0, 0, 0, 0, 0, 0, 0, 0, 0, 0, 0, 0, 0, 0, 0, 0, 0, 0, 0, 0, 0, 0, 0, 0, 0, 0, 0, 0, 0, 0, 0, 0, 0, 0, 0, 0, 0, 0, 0, 0, 0, 0, 0, 0, 0, 0, 0, 0, 0, 0, 0, 0, 0, 0, 0, 0, 0, 0, 0, 0, 0, 0, 0, 0, 0, 0, 0, 0, 0, 0, 0, 0, 0, 0, 0, 0, 0, 0, 0, 0, 0, 0, 0]\n[['Captain America B']\n ['La Ventaja']\n ['Fundimental']\n ['Stolis Bro']\n ['Peves Jackpot Jack']\n ['O Donovan Rossa']\n ['Propellar']\n ['Royal Coronado']\n ['Viva Le Merica']\n ['Whos Ledouix']]\n19 190 100 90\n[3.25, 0, 0, 0, 0, 0, 0, 0, 0, 0, 6.0, 0, 0, 0, 0, 0, 0, 0, 0, 0, 7.0, 0, 0, 0, 0, 0, 0, 0, 0, 0, 8.0, 0, 0, 0, 0, 0, 0, 0, 0, 0, 8.0, 0, 0, 0, 0, 0, 0, 0, 0, 0, 11.0, 0, 0, 0, 0, 0, 0, 0, 0, 0, 11.0, 0, 0, 0, 0, 0, 0, 0, 0, 0, 11.0, 0, 0, 0, 0, 0, 0, 0, 0, 0, 13.0, 0, 0, 0, 0, 0, 0, 0, 0, 0, 26.0, 0, 0, 0, 0, 0, 0, 0, 0, 0]\n[0, 0, 0, 0, 0, 0, 0, 0, 0, 0, 0, 0, 0, 0, 0, 0, 0, 0, 0, 0, 0, 0, 0, 0, 0, 0, 0, 0, 0, 0, 0, 0, 0, 0, 0, 0, 0, 0, 0, 0, 0, 0, 0, 0, 0, 0, 0, 0, 0, 0, 0, 0, 0, 0, 0, 0, 0, 0, 0, 0, 0, 0, 0, 0, 0, 0, 0, 0, 0, 0, 0, 0, 0, 0, 0, 0, 0, 0, 0, 0, 0, 0, 0, 0, 0, 0, 0, 0, 0, 0]\n2\n3\n4\n5\nparse Maiden_0210.html\nRemington Park\n['4.5', 'odds', 'odds', 'odds', 'odds', 'odds', '-', '-', 'odds', '-', '4.5', 'odds', 'odds', 'odds', 'odds', 'odds', '-', '-', 'odds', '-', '6.5', 'odds', 'odds', 'odds', 'odds', 'odds', '-', '-', 'odds', '-', '8', 'odds', 'odds', 'odds', 'odds', 'odds', '-', '-', 'odds', '-', '9', 'odds', 'odds', 'odds', 'odds', 'odds', '-', '-', 'odds', '-', '10', 'odds', 'odds', 'odds', 'odds', 'odds', '-', '-', 'odds', '-', '10', 'odds', 'odds', 'odds', 'odds', 'odds', '-', '-', 'odds', '-', '11', 'odds', 'odds', 'odds', 'odds', 'odds', '-', '-', 'odds', '-', '13', 'odds', 'odds', 'odds', 'odds', 'odds', '-', '-', 'odds', '-', '17', 'odds', 'odds', 'odds', 'odds', 'odds', '-', '-', 'odds', '-', 'odds', 'odds', '-', '-', 'odds', 'odds', 'SP', '-', '-', 'odds', 'odds', '-', '-', 'odds', 'odds', 'SP', '-', '-', 'odds', 'odds', '-', '-', 'odds', 'odds', 'SP', '-', '-', 'odds', 'odds', '-', '-', 'odds', 'odds', 'SP', '-', '-', 'odds', 'odds', '-', '-', 'odds', 'odds', 'SP', '-', '-', 'odds', 'odds', '-', '-', 'odds', 'odds', 'SP', '-', '-', 'odds', 'odds', '-', '-', 'odds', 'odds', 'SP', '-', '-', 'odds', 'odds', '-', '-', 'odds', 'odds', 'SP', '-', '-', 'odds', 'odds', '-', '-', 'odds', 'odds', 'SP', '-', '-', 'odds', 'odds', '-', '-', 'odds', 'odds', 'SP', '-', '-']\n[4.5, 0, 0, 0, 0, 0, 0, 0, 0, 0, 4.5, 0, 0, 0, 0, 0, 0, 0, 0, 0, 6.5, 0, 0, 0, 0, 0, 0, 0, 0, 0, 8.0, 0, 0, 0, 0, 0, 0, 0, 0, 0, 9.0, 0, 0, 0, 0, 0, 0, 0, 0, 0, 10.0, 0, 0, 0, 0, 0, 0, 0, 0, 0, 10.0, 0, 0, 0, 0, 0, 0, 0, 0, 0, 11.0, 0, 0, 0, 0, 0, 0, 0, 0, 0, 13.0, 0, 0, 0, 0, 0, 0, 0, 0, 0, 17.0, 0, 0, 0, 0, 0, 0, 0, 0, 0, 0, 0, 0, 0, 0, 0, 0, 0, 0, 0, 0, 0, 0, 0, 0, 0, 0, 0, 0, 0, 0, 0, 0, 0, 0, 0, 0, 0, 0, 0, 0, 0, 0, 0, 0, 0, 0, 0, 0, 0, 0, 0, 0, 0, 0, 0, 0, 0, 0, 0, 0, 0, 0, 0, 0, 0, 0, 0, 0, 0, 0, 0, 0, 0, 0, 0, 0, 0, 0, 0, 0, 0, 0, 0, 0, 0, 0, 0, 0, 0, 0, 0, 0, 0, 0, 0, 0, 0, 0, 0]\n[['Premier Corona']\n ['My First Love V']\n ['Alchemyst']\n ['Aireyfoose']\n ['Fire And Sauce']\n ['Apollitical B King']\n ['Dulce Suenos']\n ['Requiring Fire']\n ['High Scoring Chick']\n ['Relentless Surfer']]\n19 190 100 90\n[4.5, 0, 0, 0, 0, 0, 0, 0, 0, 0, 4.5, 0, 0, 0, 0, 0, 0, 0, 0, 0, 6.5, 0, 0, 0, 0, 0, 0, 0, 0, 0, 8.0, 0, 0, 0, 0, 0, 0, 0, 0, 0, 9.0, 0, 0, 0, 0, 0, 0, 0, 0, 0, 10.0, 0, 0, 0, 0, 0, 0, 0, 0, 0, 10.0, 0, 0, 0, 0, 0, 0, 0, 0, 0, 11.0, 0, 0, 0, 0, 0, 0, 0, 0, 0, 13.0, 0, 0, 0, 0, 0, 0, 0, 0, 0, 17.0, 0, 0, 0, 0, 0, 0, 0, 0, 0]\n[0, 0, 0, 0, 0, 0, 0, 0, 0, 0, 0, 0, 0, 0, 0, 0, 0, 0, 0, 0, 0, 0, 0, 0, 0, 0, 0, 0, 0, 0, 0, 0, 0, 0, 0, 0, 0, 0, 0, 0, 0, 0, 0, 0, 0, 0, 0, 0, 0, 0, 0, 0, 0, 0, 0, 0, 0, 0, 0, 0, 0, 0, 0, 0, 0, 0, 0, 0, 0, 0, 0, 0, 0, 0, 0, 0, 0, 0, 0, 0, 0, 0, 0, 0, 0, 0, 0, 0, 0, 0]\n2\n3\n4\n5\nparse Maiden_0236.html\nRemington Park\n['4.5', 'odds', 'odds', 'odds', 'odds', 'odds', '-', '-', 'odds', '-', '5', 'odds', 'odds', 'odds', 'odds', 'odds', '-', '-', 'odds', '-', '8', 'odds', 'odds', 'odds', 'odds', 'odds', '-', '-', 'odds', '-', '8', 'odds', 'odds', 'odds', 'odds', 'odds', '-', '-', 'odds', '-', '8.5', 'odds', 'odds', 'odds', 'odds', 'odds', '-', '-', 'odds', '-', '9', 'odds', 'odds', 'odds', 'odds', 'odds', '-', '-', 'odds', '-', '9', 'odds', 'odds', 'odds', 'odds', 'odds', '-', '-', 'odds', '-', '11', 'odds', 'odds', 'odds', 'odds', 'odds', '-', '-', 'odds', '-', '11', 'odds', 'odds', 'odds', 'odds', 'odds', '-', '-', 'odds', '-', '21', 'odds', 'odds', 'odds', 'odds', 'odds', '-', '-', 'odds', '-', 'odds', 'odds', '-', '-', 'odds', 'odds', 'SP', '-', '-', 'odds', 'odds', '-', '-', 'odds', 'odds', 'SP', '-', '-', 'odds', 'odds', '-', '-', 'odds', 'odds', 'SP', '-', '-', 'odds', 'odds', '-', '-', 'odds', 'odds', 'SP', '-', '-', 'odds', 'odds', '-', '-', 'odds', 'odds', 'SP', '-', '-', 'odds', 'odds', '-', '-', 'odds', 'odds', 'SP', '-', '-', 'odds', 'odds', '-', '-', 'odds', 'odds', 'SP', '-', '-', 'odds', 'odds', '-', '-', 'odds', 'odds', 'SP', '-', '-', 'odds', 'odds', '-', '-', 'odds', 'odds', 'SP', '-', '-', 'odds', 'odds', '-', '-', 'odds', 'odds', 'SP', '-', '-']\n[4.5, 0, 0, 0, 0, 0, 0, 0, 0, 0, 5.0, 0, 0, 0, 0, 0, 0, 0, 0, 0, 8.0, 0, 0, 0, 0, 0, 0, 0, 0, 0, 8.0, 0, 0, 0, 0, 0, 0, 0, 0, 0, 8.5, 0, 0, 0, 0, 0, 0, 0, 0, 0, 9.0, 0, 0, 0, 0, 0, 0, 0, 0, 0, 9.0, 0, 0, 0, 0, 0, 0, 0, 0, 0, 11.0, 0, 0, 0, 0, 0, 0, 0, 0, 0, 11.0, 0, 0, 0, 0, 0, 0, 0, 0, 0, 21.0, 0, 0, 0, 0, 0, 0, 0, 0, 0, 0, 0, 0, 0, 0, 0, 0, 0, 0, 0, 0, 0, 0, 0, 0, 0, 0, 0, 0, 0, 0, 0, 0, 0, 0, 0, 0, 0, 0, 0, 0, 0, 0, 0, 0, 0, 0, 0, 0, 0, 0, 0, 0, 0, 0, 0, 0, 0, 0, 0, 0, 0, 0, 0, 0, 0, 0, 0, 0, 0, 0, 0, 0, 0, 0, 0, 0, 0, 0, 0, 0, 0, 0, 0, 0, 0, 0, 0, 0, 0, 0, 0, 0, 0, 0, 0, 0, 0, 0, 0]\n[['Bpmysoutherndynasty']\n ['Zoomin From Sin']\n ['Relentless Memory']\n ['Glisten Up']\n ['Ms Prize Shaunda']\n ['Midnight Train Mo']\n ['Red White Eagle']\n ['Milionario']\n ['Jmonecoronadobarbie']\n ['Flyn']]\n19 190 100 90\n[4.5, 0, 0, 0, 0, 0, 0, 0, 0, 0, 5.0, 0, 0, 0, 0, 0, 0, 0, 0, 0, 8.0, 0, 0, 0, 0, 0, 0, 0, 0, 0, 8.0, 0, 0, 0, 0, 0, 0, 0, 0, 0, 8.5, 0, 0, 0, 0, 0, 0, 0, 0, 0, 9.0, 0, 0, 0, 0, 0, 0, 0, 0, 0, 9.0, 0, 0, 0, 0, 0, 0, 0, 0, 0, 11.0, 0, 0, 0, 0, 0, 0, 0, 0, 0, 11.0, 0, 0, 0, 0, 0, 0, 0, 0, 0, 21.0, 0, 0, 0, 0, 0, 0, 0, 0, 0]\n[0, 0, 0, 0, 0, 0, 0, 0, 0, 0, 0, 0, 0, 0, 0, 0, 0, 0, 0, 0, 0, 0, 0, 0, 0, 0, 0, 0, 0, 0, 0, 0, 0, 0, 0, 0, 0, 0, 0, 0, 0, 0, 0, 0, 0, 0, 0, 0, 0, 0, 0, 0, 0, 0, 0, 0, 0, 0, 0, 0, 0, 0, 0, 0, 0, 0, 0, 0, 0, 0, 0, 0, 0, 0, 0, 0, 0, 0, 0, 0, 0, 0, 0, 0, 0, 0, 0, 0, 0, 0]\n2\n3\n4\n5\nparse Starter Allowance_2011.html\nGulfstream\n['3', '2.88', '2.75', '2.88', '2.75', '2.88', '2.88', '-', '2.88', '-', '4', '3.25', '3.25', '3.5', '3.25', '3.5', '3.25', '-', '3.5', '-', '5.5', '5', '5', '5', '5', '5', '5', '-', '5', '-', '9', '8', '8.5', '7.5', '8.5', '8.5', '8.5', '-', '7.5', '-', '8', '9.5', '11', '8', '11', '10', '9', '-', '8', '-', '7', '11', '11', '12', '11', '11', '11', '-', '12', '-', '26', '23', '17', '34', '17', '23', '23', '-', '34', '-', '67', '67', '67', '67', '67', '67', '67', '-', '67', '-', '2.88', '2.88', '-', '2.88', '2.88', '2.75', '2.88', '-', '-', '3.5', '3.5', '-', '3.5', '3.5', '3.5', '3.25', '-', '-', '5', '5.5', '-', '5.5', '5', '5', '5', '-', '-', '8.5', '8.5', '-', '7', '8.5', '8.5', '8.5', '-', '-', '10', '11', '-', '8', '10', '8', '9', '-', '-', '11', '12', '-', '8', '11', '8', '11', '-', '-', '23', '34', '-', '26', '26', '21', '26', '-', '-', '67', '67', '-', '67', '67', '67', '67', '-', '-']\n[3.0, 2.88, 2.75, 2.88, 2.75, 2.88, 2.88, 0, 2.88, 0, 4.0, 3.25, 3.25, 3.5, 3.25, 3.5, 3.25, 0, 3.5, 0, 5.5, 5.0, 5.0, 5.0, 5.0, 5.0, 5.0, 0, 5.0, 0, 9.0, 8.0, 8.5, 7.5, 8.5, 8.5, 8.5, 0, 7.5, 0, 8.0, 9.5, 11.0, 8.0, 11.0, 10.0, 9.0, 0, 8.0, 0, 7.0, 11.0, 11.0, 12.0, 11.0, 11.0, 11.0, 0, 12.0, 0, 26.0, 23.0, 17.0, 34.0, 17.0, 23.0, 23.0, 0, 34.0, 0, 67.0, 67.0, 67.0, 67.0, 67.0, 67.0, 67.0, 0, 67.0, 0, 2.88, 2.88, 0, 2.88, 2.88, 2.75, 2.88, 0, 0, 3.5, 3.5, 0, 3.5, 3.5, 3.5, 3.25, 0, 0, 5.0, 5.5, 0, 5.5, 5.0, 5.0, 5.0, 0, 0, 8.5, 8.5, 0, 7.0, 8.5, 8.5, 8.5, 0, 0, 10.0, 11.0, 0, 8.0, 10.0, 8.0, 9.0, 0, 0, 11.0, 12.0, 0, 8.0, 11.0, 8.0, 11.0, 0, 0, 23.0, 34.0, 0, 26.0, 26.0, 21.0, 26.0, 0, 0, 67.0, 67.0, 0, 67.0, 67.0, 67.0, 67.0, 0, 0]\n[['Valdolobo']\n ['Willing To Speed']\n ['Tricky Magician']\n ['Dermot']\n ['Carbon Data']\n [\"Eight Ain't Enough\"]\n ['Majestic Luna']\n ['Tiz Luna']]\n19 152 80 72\n[3.0, 2.88, 2.75, 2.88, 2.75, 2.88, 2.88, 0, 2.88, 0, 4.0, 3.25, 3.25, 3.5, 3.25, 3.5, 3.25, 0, 3.5, 0, 5.5, 5.0, 5.0, 5.0, 5.0, 5.0, 5.0, 0, 5.0, 0, 9.0, 8.0, 8.5, 7.5, 8.5, 8.5, 8.5, 0, 7.5, 0, 8.0, 9.5, 11.0, 8.0, 11.0, 10.0, 9.0, 0, 8.0, 0, 7.0, 11.0, 11.0, 12.0, 11.0, 11.0, 11.0, 0, 12.0, 0, 26.0, 23.0, 17.0, 34.0, 17.0, 23.0, 23.0, 0, 34.0, 0, 67.0, 67.0, 67.0, 67.0, 67.0, 67.0, 67.0, 0, 67.0, 0]\n[2.88, 2.88, 0, 2.88, 2.88, 2.75, 2.88, 0, 0, 3.5, 3.5, 0, 3.5, 3.5, 3.5, 3.25, 0, 0, 5.0, 5.5, 0, 5.5, 5.0, 5.0, 5.0, 0, 0, 8.5, 8.5, 0, 7.0, 8.5, 8.5, 8.5, 0, 0, 10.0, 11.0, 0, 8.0, 10.0, 8.0, 9.0, 0, 0, 11.0, 12.0, 0, 8.0, 11.0, 8.0, 11.0, 0, 0, 23.0, 34.0, 0, 26.0, 26.0, 21.0, 26.0, 0, 0, 67.0, 67.0, 0, 67.0, 67.0, 67.0, 67.0, 0, 0]\n2\n3\n4\n5\nparse Starter Allowance_2115.html\nGulfstream\n['1.57', '1.91', 'odds', '2', 'odds', '2', '2.63', '-', '2', '-', '3', '3.25', 'odds', '3.25', 'odds', '3.25', '4.5', '-', '3.25', '-', '6', '5', 'odds', '4.5', 'odds', '5', '7', '-', '4.5', '-', '5.5', '6.5', 'odds', '6', 'odds', '6', '9', '-', '6', '-', '8', '8', 'odds', '7.5', 'odds', '8', '12', '-', '7.5', '-', '7', '9.5', 'odds', '10', 'odds', '10', '13', '-', '10', '-', '7.5', '9.5', 'odds', '10', 'odds', '10', '13', '-', '10', '-', '11', '13', 'odds', '13', 'odds', '13', '15', '-', '13', '-', '11', '13', 'odds', '12', 'odds', '11', '15', '-', '12', '-', '15', '13', 'odds', '12', 'odds', '15', '19', '-', '12', '-', '15', '17', 'odds', '21', 'odds', '21', '21', '-', '21', '-', '23', '17', 'odds', '15', 'odds', '19', '26', '-', '15', '-', '34', '34', 'odds', '34', 'odds', '34', '51', '-', '34', '-', '2', '2', '-', '1.83', '2', '2', '1.91', '-', '-', '3.25', '3.25', '-', '3.25', '3.25', '3.5', '3.25', '-', '-', '5', '5.5', '-', '5.5', '5', '5.5', '5.5', '-', '-', '6', '6.5', '-', '6.5', '6.5', '6.5', '6.5', '-', '-', '8', '9', '-', '9', '8.5', '9', '8', '-', '-', '10', '8', '-', '8.5', '9.5', '10', '9', '-', '-', '10', '10', '-', '8.5', '10', '10', '8.5', '-', '-', '13', '13', '-', '13', '13', '13', '13', '-', '-', '12', '15', '-', '15', '13', '15', '13', '-', '-', '15', '17', '-', '17', '15', '17', '15', '-', '-', '21', '21', '-', '17', '21', '17', '17', '-', '-', '19', '21', '-', '21', '19', '21', '21', '-', '-', '34', '41', '-', '41', '34', '41', '34', '-', '-']\n[1.57, 1.91, 0, 2.0, 0, 2.0, 2.63, 0, 2.0, 0, 3.0, 3.25, 0, 3.25, 0, 3.25, 4.5, 0, 3.25, 0, 6.0, 5.0, 0, 4.5, 0, 5.0, 7.0, 0, 4.5, 0, 5.5, 6.5, 0, 6.0, 0, 6.0, 9.0, 0, 6.0, 0, 8.0, 8.0, 0, 7.5, 0, 8.0, 12.0, 0, 7.5, 0, 7.0, 9.5, 0, 10.0, 0, 10.0, 13.0, 0, 10.0, 0, 7.5, 9.5, 0, 10.0, 0, 10.0, 13.0, 0, 10.0, 0, 11.0, 13.0, 0, 13.0, 0, 13.0, 15.0, 0, 13.0, 0, 11.0, 13.0, 0, 12.0, 0, 11.0, 15.0, 0, 12.0, 0, 15.0, 13.0, 0, 12.0, 0, 15.0, 19.0, 0, 12.0, 0, 15.0, 17.0, 0, 21.0, 0, 21.0, 21.0, 0, 21.0, 0, 23.0, 17.0, 0, 15.0, 0, 19.0, 26.0, 0, 15.0, 0, 34.0, 34.0, 0, 34.0, 0, 34.0, 51.0, 0, 34.0, 0, 2.0, 2.0, 0, 1.83, 2.0, 2.0, 1.91, 0, 0, 3.25, 3.25, 0, 3.25, 3.25, 3.5, 3.25, 0, 0, 5.0, 5.5, 0, 5.5, 5.0, 5.5, 5.5, 0, 0, 6.0, 6.5, 0, 6.5, 6.5, 6.5, 6.5, 0, 0, 8.0, 9.0, 0, 9.0, 8.5, 9.0, 8.0, 0, 0, 10.0, 8.0, 0, 8.5, 9.5, 10.0, 9.0, 0, 0, 10.0, 10.0, 0, 8.5, 10.0, 10.0, 8.5, 0, 0, 13.0, 13.0, 0, 13.0, 13.0, 13.0, 13.0, 0, 0, 12.0, 15.0, 0, 15.0, 13.0, 15.0, 13.0, 0, 0, 15.0, 17.0, 0, 17.0, 15.0, 17.0, 15.0, 0, 0, 21.0, 21.0, 0, 17.0, 21.0, 17.0, 17.0, 0, 0, 19.0, 21.0, 0, 21.0, 19.0, 21.0, 21.0, 0, 0, 34.0, 41.0, 0, 41.0, 34.0, 41.0, 34.0, 0, 0]\n[['Phat Man']\n ['Dr. Edgar']\n ['Gemonteer']\n ['Morocco']\n ['Driven By Thunder']\n ['Grand Journey']\n ['Piven']\n ['Champagneonme']\n ['Quenane']\n ['Home Base']\n ['Big Agenda']\n ['Tizzarunner']\n ['Megacity']]\n19 247 130 117\n[1.57, 1.91, 0, 2.0, 0, 2.0, 2.63, 0, 2.0, 0, 3.0, 3.25, 0, 3.25, 0, 3.25, 4.5, 0, 3.25, 0, 6.0, 5.0, 0, 4.5, 0, 5.0, 7.0, 0, 4.5, 0, 5.5, 6.5, 0, 6.0, 0, 6.0, 9.0, 0, 6.0, 0, 8.0, 8.0, 0, 7.5, 0, 8.0, 12.0, 0, 7.5, 0, 7.0, 9.5, 0, 10.0, 0, 10.0, 13.0, 0, 10.0, 0, 7.5, 9.5, 0, 10.0, 0, 10.0, 13.0, 0, 10.0, 0, 11.0, 13.0, 0, 13.0, 0, 13.0, 15.0, 0, 13.0, 0, 11.0, 13.0, 0, 12.0, 0, 11.0, 15.0, 0, 12.0, 0, 15.0, 13.0, 0, 12.0, 0, 15.0, 19.0, 0, 12.0, 0, 15.0, 17.0, 0, 21.0, 0, 21.0, 21.0, 0, 21.0, 0, 23.0, 17.0, 0, 15.0, 0, 19.0, 26.0, 0, 15.0, 0, 34.0, 34.0, 0, 34.0, 0, 34.0, 51.0, 0, 34.0, 0]\n[2.0, 2.0, 0, 1.83, 2.0, 2.0, 1.91, 0, 0, 3.25, 3.25, 0, 3.25, 3.25, 3.5, 3.25, 0, 0, 5.0, 5.5, 0, 5.5, 5.0, 5.5, 5.5, 0, 0, 6.0, 6.5, 0, 6.5, 6.5, 6.5, 6.5, 0, 0, 8.0, 9.0, 0, 9.0, 8.5, 9.0, 8.0, 0, 0, 10.0, 8.0, 0, 8.5, 9.5, 10.0, 9.0, 0, 0, 10.0, 10.0, 0, 8.5, 10.0, 10.0, 8.5, 0, 0, 13.0, 13.0, 0, 13.0, 13.0, 13.0, 13.0, 0, 0, 12.0, 15.0, 0, 15.0, 13.0, 15.0, 13.0, 0, 0, 15.0, 17.0, 0, 17.0, 15.0, 17.0, 15.0, 0, 0, 21.0, 21.0, 0, 17.0, 21.0, 17.0, 17.0, 0, 0, 19.0, 21.0, 0, 21.0, 19.0, 21.0, 21.0, 0, 0, 34.0, 41.0, 0, 41.0, 34.0, 41.0, 34.0, 0, 0]\n2\n3\n4\n5\nparse Starter Optional Claiming_2146.html\nGulfstream\n['4', '3.75', '3.5', '4.5', '3.5', '4', '3.75', '-', '4.5', '-', '4', '4.33', '4.33', '4.5', '4.33', '4', '4.33', '-', '4.5', '-', '4.5', '4.5', '4.5', '4.5', '4.5', '4.5', '4.5', '-', '4.5', '-', '7', '6', '7', '5.5', '7', '7', '6.5', '-', '5.5', '-', '8', '7.5', '7', '7.5', '7', '7.5', '7.5', '-', '7.5', '-', '9', '9', '9', '8.5', '9', '9', '9', '-', '8.5', '-', '13', '12', '13', '9', '13', '13', '12', '-', '9', '-', '4', '4.5', '-', '4', '4', '4.33', '4', '-', '-', '4.33', '4.5', '-', '4.33', '4.33', '4.33', '4.33', '-', '-', '4.5', '4.5', '-', '4.5', '4.5', '4.5', '4.5', '-', '-', '7', '7', '-', '7', '7', '6', '7', '-', '-', '7.5', '7.5', '-', '7.5', '7.5', '7', '7.5', '-', '-', '9', '9', '-', '9', '9', '8.5', '8.5', '-', '-', '13', '13', '-', '11', '13', '10', '12', '-', '-']\n[4.0, 3.75, 3.5, 4.5, 3.5, 4.0, 3.75, 0, 4.5, 0, 4.0, 4.33, 4.33, 4.5, 4.33, 4.0, 4.33, 0, 4.5, 0, 4.5, 4.5, 4.5, 4.5, 4.5, 4.5, 4.5, 0, 4.5, 0, 7.0, 6.0, 7.0, 5.5, 7.0, 7.0, 6.5, 0, 5.5, 0, 8.0, 7.5, 7.0, 7.5, 7.0, 7.5, 7.5, 0, 7.5, 0, 9.0, 9.0, 9.0, 8.5, 9.0, 9.0, 9.0, 0, 8.5, 0, 13.0, 12.0, 13.0, 9.0, 13.0, 13.0, 12.0, 0, 9.0, 0, 4.0, 4.5, 0, 4.0, 4.0, 4.33, 4.0, 0, 0, 4.33, 4.5, 0, 4.33, 4.33, 4.33, 4.33, 0, 0, 4.5, 4.5, 0, 4.5, 4.5, 4.5, 4.5, 0, 0, 7.0, 7.0, 0, 7.0, 7.0, 6.0, 7.0, 0, 0, 7.5, 7.5, 0, 7.5, 7.5, 7.0, 7.5, 0, 0, 9.0, 9.0, 0, 9.0, 9.0, 8.5, 8.5, 0, 0, 13.0, 13.0, 0, 11.0, 13.0, 10.0, 12.0, 0, 0]\n[['Money Never Sleeps']\n ['Topo Grigio']\n ['Bird Map']\n ['Lil Miss Hot Mess']\n ['Kimura']\n ['Addison']\n [\"Leo's Diamond\"]]\n19 133 70 63\n[4.0, 3.75, 3.5, 4.5, 3.5, 4.0, 3.75, 0, 4.5, 0, 4.0, 4.33, 4.33, 4.5, 4.33, 4.0, 4.33, 0, 4.5, 0, 4.5, 4.5, 4.5, 4.5, 4.5, 4.5, 4.5, 0, 4.5, 0, 7.0, 6.0, 7.0, 5.5, 7.0, 7.0, 6.5, 0, 5.5, 0, 8.0, 7.5, 7.0, 7.5, 7.0, 7.5, 7.5, 0, 7.5, 0, 9.0, 9.0, 9.0, 8.5, 9.0, 9.0, 9.0, 0, 8.5, 0, 13.0, 12.0, 13.0, 9.0, 13.0, 13.0, 12.0, 0, 9.0, 0]\n[4.0, 4.5, 0, 4.0, 4.0, 4.33, 4.0, 0, 0, 4.33, 4.5, 0, 4.33, 4.33, 4.33, 4.33, 0, 0, 4.5, 4.5, 0, 4.5, 4.5, 4.5, 4.5, 0, 0, 7.0, 7.0, 0, 7.0, 7.0, 6.0, 7.0, 0, 0, 7.5, 7.5, 0, 7.5, 7.5, 7.0, 7.5, 0, 0, 9.0, 9.0, 0, 9.0, 9.0, 8.5, 8.5, 0, 0, 13.0, 13.0, 0, 11.0, 13.0, 10.0, 12.0, 0, 0]\n2\n3\n4\n5\n"
    }
   ],
   "source": [
    "#load_today()\n",
    "rps=[]\n",
    "atrs=[]\n",
    "atr_odds=[]\n",
    "parse_today()\n",
    "#df_atr=pd.concat(atrs)\n",
    "#df_rp=pd.DataFrame(rps, columns=['course','runners','distance','condition','rclass','date','title','horseName','trainer','jockey','RPR','TR','weightSt','weightLb','age'])\n",
    "#df_atr['hname']=df_atr['horseName'].str.lower().replace(regex=True,to_replace=r'\\W',value=r'')\n",
    "#df_rp['hname']=df_rp['horseName'].str.lower().replace(regex=True,to_replace=r'\\W',value=r'')\n",
    "#df=df_rp.merge(df_atr[['marketTime', 'hname','OR','decimalPrice']], on='hname')\n"
   ]
  },
  {
   "cell_type": "code",
   "execution_count": 12,
   "metadata": {},
   "outputs": [],
   "source": [
    "df.to_csv('data/today/{:%Y-%m-%d}.csv'.format(date.today()))"
   ]
  },
  {
   "cell_type": "code",
   "execution_count": 33,
   "metadata": {},
   "outputs": [
    {
     "output_type": "execute_result",
     "data": {
      "text/plain": "[       course marketTime condition distance           horseName   OR  \\\n 0  Gulfstream      20:43     Dirt        1m  No Getting Over Me  100   \n 1  Gulfstream      20:43     Dirt        1m            Untitled  110   \n 2  Gulfstream      20:43     Dirt        1m        Roman Empire   97   \n 3  Gulfstream      20:43     Dirt        1m     First And Three  100   \n 4  Gulfstream      20:43     Dirt        1m           Gray Beau   98   \n 5  Gulfstream      20:43     Dirt        1m  Winking At Thedude   99   \n 6  Gulfstream      20:43     Dirt        1m           Undaunted   84   \n \n   decimalPrice  \n 0          5.5  \n 1         1.73  \n 2          6.0  \n 3         13.0  \n 4         15.0  \n 5         10.0  \n 6         41.0  ,\n         course marketTime condition distance          horseName   OR  \\\n 0   Gulfstream      22:17              1m 1f             Temple  108   \n 1   Gulfstream      22:17              1m 1f    Bird's Eye View  110   \n 2   Gulfstream      22:17              1m 1f               Opry  103   \n 3   Gulfstream      22:17              1m 1f            Neepawa   98   \n 4   Gulfstream      22:17              1m 1f       Thunder Ride  106   \n 5   Gulfstream      22:17              1m 1f  The Green Mo'ster  110   \n 6   Gulfstream      22:17              1m 1f       Ry's The Guy  109   \n 7   Gulfstream      22:17              1m 1f       Award Winner  107   \n 8   Gulfstream      22:17              1m 1f            Krampus  109   \n 9   Gulfstream      22:17              1m 1f             Rijeka  106   \n 10  Gulfstream      22:17              1m 1f        Arthur Kitt  114   \n 11  Gulfstream      22:17              1m 1f           Timmy M.  111   \n 12  Gulfstream      22:17              1m 1f   Prince Of Arabia  111   \n \n    decimalPrice  \n 0           3.0  \n 1          13.0  \n 2           4.0  \n 3          21.0  \n 4          17.0  \n 5          15.0  \n 6          19.0  \n 7          11.0  \n 8          34.0  \n 9          13.0  \n 10          5.0  \n 11         34.0  \n 12         17.0  ,\n            course marketTime condition distance             horseName  OR  \\\n 0  Remington Park      01:44     Dirt   1f 130y           Soul Kisser  78   \n 1  Remington Park      01:44     Dirt   1f 130y       Peves Eagleetta  72   \n 2  Remington Park      01:44     Dirt   1f 130y  Vf Politics N Chicks  86   \n 3  Remington Park      01:44     Dirt   1f 130y  This Political Candy  76   \n 4  Remington Park      01:44     Dirt   1f 130y       Docs Kansas Rep  73   \n 5  Remington Park      01:44     Dirt   1f 130y         Scaredy Pants  85   \n 6  Remington Park      01:44     Dirt   1f 130y        Train To B Bad  78   \n 7  Remington Park      01:44     Dirt   1f 130y         Throw Th Dice  83   \n 8  Remington Park      01:44     Dirt   1f 130y             Alotalota  86   \n \n   decimalPrice  \n 0            0  \n 1            0  \n 2            0  \n 3            0  \n 4            0  \n 5            0  \n 6            0  \n 7            0  \n 8            0  ,\n             course marketTime condition distance             horseName  OR  \\\n 0   Remington Park      03:54     Dirt    1f 30y       Relentless Doll  76   \n 1   Remington Park      03:54     Dirt    1f 30y      Jes What We Want  64   \n 2   Remington Park      03:54     Dirt    1f 30y     Mh Might B Leavin  79   \n 3   Remington Park      03:54     Dirt    1f 30y        Capos Renegade  72   \n 4   Remington Park      03:54     Dirt    1f 30y     Apollitical J One  81   \n 5   Remington Park      03:54     Dirt    1f 30y   Takinthecartelscash  78   \n 6   Remington Park      03:54     Dirt    1f 30y                   Why  88   \n 7   Remington Park      03:54     Dirt    1f 30y      Corona Can Dance  52   \n 8   Remington Park      03:54     Dirt    1f 30y         Favorite Rock  76   \n 9   Remington Park      03:54     Dirt    1f 30y  Tf Ima Corona Cartel  75   \n 10  Remington Park      03:54     Dirt    1f 30y          Valiant Neon  70   \n 11  Remington Park      03:54     Dirt    1f 30y           Celebratori  79   \n \n    decimalPrice  \n 0             0  \n 1             0  \n 2             0  \n 3             0  \n 4             0  \n 5             0  \n 6             0  \n 7             0  \n 8             0  \n 9             0  \n 10            0  \n 11            0  ,\n            course marketTime condition distance             horseName  OR  \\\n 0  Remington Park      00:00     Dirt    1f 80y   Sweet Bab Of Return  85   \n 1  Remington Park      00:00     Dirt    1f 80y      Travelin Friends  77   \n 2  Remington Park      00:00     Dirt    1f 80y  Eyeza Painted Pistol  64   \n 3  Remington Park      00:00     Dirt    1f 80y     First Tee For Two  58   \n 4  Remington Park      00:00     Dirt    1f 80y       Park Avenue Air  56   \n 5  Remington Park      00:00     Dirt    1f 80y          Lickedy Spit  67   \n 6  Remington Park      00:00     Dirt    1f 80y          Rushagochick  74   \n 7  Remington Park      00:00     Dirt    1f 80y               Jenuine  45   \n 8  Remington Park      00:00     Dirt    1f 80y  Sm Red Country Storm  52   \n \n   decimalPrice  \n 0            0  \n 1            0  \n 2            0  \n 3            0  \n 4            0  \n 5            0  \n 6            0  \n 7            0  \n 8            0  ,\n            course marketTime condition distance         horseName  OR  \\\n 0  Remington Park      03:02     Dirt   1f 110y   Brace For Perry  56   \n 1  Remington Park      03:02     Dirt   1f 110y       Bullittrain  74   \n 2  Remington Park      03:02     Dirt   1f 110y          Lota Ana  54   \n 3  Remington Park      03:02     Dirt   1f 110y   Stormin Tourist  52   \n 4  Remington Park      03:02     Dirt   1f 110y       High Triver  59   \n 5  Remington Park      03:02     Dirt   1f 110y     One Rare Jess  67   \n 6  Remington Park      03:02     Dirt   1f 110y         Lite Capo  79   \n 7  Remington Park      03:02     Dirt   1f 110y  Easy Wagon Tales  67   \n 8  Remington Park      03:02     Dirt   1f 110y   Cabos Wild Rose  63   \n 9  Remington Park      03:02     Dirt   1f 110y      Eyesa Rockun  67   \n \n   decimalPrice  \n 0            0  \n 1            0  \n 2            0  \n 3            0  \n 4            0  \n 5            0  \n 6            0  \n 7            0  \n 8            0  \n 9            0  ,\n            course marketTime condition distance             horseName  OR  \\\n 0  Remington Park      03:28     Dirt        2f        Five Bar Jewel  76   \n 1  Remington Park      03:28     Dirt        2f         A Prize Wagon  74   \n 2  Remington Park      03:28     Dirt        2f         Spittin Candy  76   \n 3  Remington Park      03:28     Dirt        2f            Cat Daddie  67   \n 4  Remington Park      03:28     Dirt        2f      Relentless Wagon  65   \n 5  Remington Park      03:28     Dirt        2f  Highest Rate In Town  73   \n 6  Remington Park      03:28     Dirt        2f  Shesdancingintherain  68   \n 7  Remington Park      03:28     Dirt        2f          Show Me Girl  81   \n 8  Remington Park      03:28     Dirt        2f      Ec Greys Anatomy  58   \n 9  Remington Park      03:28     Dirt        2f      Sensational Ruby  69   \n \n   decimalPrice  \n 0            0  \n 1            0  \n 2            0  \n 3            0  \n 4            0  \n 5            0  \n 6            0  \n 7            0  \n 8            0  \n 9            0  ,\n        course marketTime condition distance         horseName  OR decimalPrice\n 0  Gulfstream      19:39     Dirt        1m             Samoa  69          5.5\n 1  Gulfstream      19:39     Dirt        1m     Kaufy Futures  64         21.0\n 2  Gulfstream      19:39     Dirt        1m       Stormy Boss  68          5.5\n 3  Gulfstream      19:39     Dirt        1m  Time To Two Step  77         4.33\n 4  Gulfstream      19:39     Dirt        1m    Country Strong  60         21.0\n 5  Gulfstream      19:39     Dirt        1m      Paynter Fest  73         2.75\n 6  Gulfstream      19:39     Dirt        1m            Joplin  68         34.0\n 7  Gulfstream      19:39     Dirt        1m  Stamina Princess  75         15.0\n 8  Gulfstream      19:39     Dirt        1m  Looking For More  55         13.0\n 9  Gulfstream      19:39     Dirt        1m            Alafia  78         34.0,\n         course marketTime condition distance        horseName  OR decimalPrice\n 0   Gulfstream      22:47                 1m    Bahama Kitten  85          9.0\n 1   Gulfstream      22:47                 1m       Just Sassy  82         34.0\n 2   Gulfstream      22:47                 1m    Sweet Blossom  82         17.0\n 3   Gulfstream      22:47                 1m      Tropicality  82         26.0\n 4   Gulfstream      22:47                 1m           Trilby  89          3.5\n 5   Gulfstream      22:47                 1m      Vinyardnina  77         41.0\n 6   Gulfstream      22:47                 1m     Retro Street  87          5.0\n 7   Gulfstream      22:47                 1m      Valley Date  79         11.0\n 8   Gulfstream      22:47                 1m      Spicy Nelly  88         11.0\n 9   Gulfstream      22:47                 1m      Sweet Story  88          5.0\n 10  Gulfstream      22:47                 1m   Dixie Princess  80         51.0\n 11  Gulfstream      22:47                 1m             Yako  83         10.0\n 12  Gulfstream      22:47                 1m     Oblio's Wish  85          7.0\n 13  Gulfstream      22:47                 1m  Dangerous Woman  86         34.0,\n            course marketTime condition distance             horseName  OR  \\\n 0  Remington Park      00:26     Dirt    1f 80y      Jacksons Dynasty  69   \n 1  Remington Park      00:26     Dirt    1f 80y          Wagon Trails  66   \n 2  Remington Park      00:26     Dirt    1f 80y           Sullys Dash  49   \n 3  Remington Park      00:26     Dirt    1f 80y             Lota Dash       \n 4  Remington Park      00:26     Dirt    1f 80y    Im Honest Pollitic  31   \n 5  Remington Park      00:26     Dirt    1f 80y              Charroux  50   \n 6  Remington Park      00:26     Dirt    1f 80y  Keystonescountrygirl       \n 7  Remington Park      00:26     Dirt    1f 80y      Our Silver Storm  60   \n 8  Remington Park      00:26     Dirt    1f 80y  Grimmetts Terminater  52   \n 9  Remington Park      00:26     Dirt    1f 80y        Fly Viking Fly       \n \n   decimalPrice  \n 0            0  \n 1            0  \n 2            0  \n 3            0  \n 4            0  \n 5            0  \n 6            0  \n 7            0  \n 8            0  \n 9            0  ,\n            course marketTime condition distance            horseName  OR  \\\n 0  Remington Park      00:52     Dirt   1f 110y                Sling  70   \n 1  Remington Park      00:52     Dirt   1f 110y           Ice Opener       \n 2  Remington Park      00:52     Dirt   1f 110y            Zoomalott       \n 3  Remington Park      00:52     Dirt   1f 110y     Rockincheirmoney       \n 4  Remington Park      00:52     Dirt   1f 110y        Ocean Dynasty  64   \n 5  Remington Park      00:52     Dirt   1f 110y  G Paws Got This One       \n 6  Remington Park      00:52     Dirt   1f 110y   Jessies Good Candy  55   \n 7  Remington Park      00:52     Dirt   1f 110y         Bp Primetime  66   \n 8  Remington Park      00:52     Dirt   1f 110y       Coronado Fuego       \n 9  Remington Park      00:52     Dirt   1f 110y               Abijah  62   \n \n   decimalPrice  \n 0            0  \n 1            0  \n 2            0  \n 3            0  \n 4            0  \n 5            0  \n 6            0  \n 7            0  \n 8            0  \n 9            0  ,\n         course marketTime condition distance         horseName  OR  \\\n 0   Gulfstream      18:00            1m 110y    Callmesenorita  53   \n 1   Gulfstream      18:00            1m 110y          Syllabus  45   \n 2   Gulfstream      18:00            1m 110y      Tapizar Girl  65   \n 3   Gulfstream      18:00            1m 110y      Mrs. Miniver  60   \n 4   Gulfstream      18:00            1m 110y    Amber Princess  72   \n 5   Gulfstream      18:00            1m 110y     Dama De Noche  59   \n 6   Gulfstream      18:00            1m 110y         Calentita  54   \n 7   Gulfstream      18:00            1m 110y     Delia's Pride  73   \n 8   Gulfstream      18:00            1m 110y  Princesa Crystal  67   \n 9   Gulfstream      18:00            1m 110y             Laska  76   \n 10  Gulfstream      18:00            1m 110y          Pasatime  56   \n 11  Gulfstream      18:00            1m 110y            Malaga  39   \n 12  Gulfstream      18:00            1m 110y    Gracie's Dream  50   \n \n    decimalPrice  \n 0          51.0  \n 1          41.0  \n 2          29.0  \n 3          34.0  \n 4          12.0  \n 5          26.0  \n 6          3.75  \n 7          13.0  \n 8           4.0  \n 9          2.63  \n 10         11.0  \n 11         34.0  \n 12         26.0  ,\n        course marketTime condition distance         horseName  OR decimalPrice\n 0  Gulfstream      18:34     Dirt   6f 110y     Bust Out Lady  51          6.0\n 1  Gulfstream      18:34     Dirt   6f 110y      Grey Jazmine  61         34.0\n 2  Gulfstream      18:34     Dirt   6f 110y        Crespucula  67         41.0\n 3  Gulfstream      18:34     Dirt   6f 110y   Trinni Sunshine  61          6.0\n 4  Gulfstream      18:34     Dirt   6f 110y      Water Wizard  71          4.5\n 5  Gulfstream      18:34     Dirt   6f 110y           Cabrina  80         2.63\n 6  Gulfstream      18:34     Dirt   6f 110y  Sheknowsthedrill  42          5.0\n 7  Gulfstream      18:34     Dirt   6f 110y       Pazyarmonia  44         51.0,\n         course marketTime condition distance           horseName  OR  \\\n 0   Gulfstream      19:07                 5f          Dotdotdash  54   \n 1   Gulfstream      19:07                 5f        Bella Bionda  39   \n 2   Gulfstream      19:07                 5f       Awesome Light       \n 3   Gulfstream      19:07                 5f      Princess Avril  49   \n 4   Gulfstream      19:07                 5f         Too Stylish  47   \n 5   Gulfstream      19:07                 5f         Make A Mint  53   \n 6   Gulfstream      19:07                 5f           Hechizada  63   \n 7   Gulfstream      19:07                 5f             Sandbah       \n 8   Gulfstream      19:07                 5f        Awesome Evil  53   \n 9   Gulfstream      19:07                 5f  New York Commander  54   \n 10  Gulfstream      19:07                 5f     Miriana's Queen  57   \n 11  Gulfstream      19:07                 5f          Lovely Lee  56   \n 12  Gulfstream      19:07                 5f      Borrowed Angel  72   \n 13  Gulfstream      19:07                 5f  Dancingwithjimmieb  64   \n 14  Gulfstream      19:07                 5f         Cultivation  64   \n 15  Gulfstream      19:07                 5f          Rosasparks  52   \n \n    decimalPrice  \n 0          4.33  \n 1          67.0  \n 2           3.5  \n 3           8.0  \n 4          34.0  \n 5           5.0  \n 6          17.0  \n 7          13.0  \n 8          11.0  \n 9          34.0  \n 10         34.0  \n 11         51.0  \n 12          9.0  \n 13          7.0  \n 14          6.0  \n 15         41.0  ,\n            course marketTime condition distance           horseName  OR  \\\n 0  Remington Park      01:18     Dirt    1f 80y        Whos Ledouix       \n 1  Remington Park      01:18     Dirt    1f 80y     O Donovan Rossa  52   \n 2  Remington Park      01:18     Dirt    1f 80y      Viva Le Merica       \n 3  Remington Park      01:18     Dirt    1f 80y           Propellar       \n 4  Remington Park      01:18     Dirt    1f 80y         Fundimental       \n 5  Remington Park      01:18     Dirt    1f 80y   Captain America B  85   \n 6  Remington Park      01:18     Dirt    1f 80y          Stolis Bro       \n 7  Remington Park      01:18     Dirt    1f 80y      Royal Coronado       \n 8  Remington Park      01:18     Dirt    1f 80y  Peves Jackpot Jack  54   \n 9  Remington Park      01:18     Dirt    1f 80y          La Ventaja  48   \n \n   decimalPrice  \n 0            0  \n 1            0  \n 2            0  \n 3            0  \n 4            0  \n 5            0  \n 6            0  \n 7            0  \n 8            0  \n 9            0  ,\n            course marketTime condition distance           horseName  OR  \\\n 0  Remington Park      02:10     Dirt   1f 130y  High Scoring Chick       \n 1  Remington Park      02:10     Dirt   1f 130y   Relentless Surfer  51   \n 2  Remington Park      02:10     Dirt   1f 130y      Requiring Fire  63   \n 3  Remington Park      02:10     Dirt   1f 130y      Premier Corona  80   \n 4  Remington Park      02:10     Dirt   1f 130y  Apollitical B King  72   \n 5  Remington Park      02:10     Dirt   1f 130y        Dulce Suenos       \n 6  Remington Park      02:10     Dirt   1f 130y     My First Love V  67   \n 7  Remington Park      02:10     Dirt   1f 130y           Alchemyst  80   \n 8  Remington Park      02:10     Dirt   1f 130y      Fire And Sauce  74   \n 9  Remington Park      02:10     Dirt   1f 130y          Aireyfoose  59   \n \n   decimalPrice  \n 0            0  \n 1            0  \n 2            0  \n 3            0  \n 4            0  \n 5            0  \n 6            0  \n 7            0  \n 8            0  \n 9            0  ,\n            course marketTime condition distance            horseName  OR  \\\n 0  Remington Park      02:36     Dirt    1f 80y    Relentless Memory       \n 1  Remington Park      02:36     Dirt    1f 80y      Zoomin From Sin  73   \n 2  Remington Park      02:36     Dirt    1f 80y     Ms Prize Shaunda  69   \n 3  Remington Park      02:36     Dirt    1f 80y  Bpmysoutherndynasty  68   \n 4  Remington Park      02:36     Dirt    1f 80y           Milionario       \n 5  Remington Park      02:36     Dirt    1f 80y    Midnight Train Mo       \n 6  Remington Park      02:36     Dirt    1f 80y  Jmonecoronadobarbie       \n 7  Remington Park      02:36     Dirt    1f 80y           Glisten Up       \n 8  Remington Park      02:36     Dirt    1f 80y      Red White Eagle  67   \n 9  Remington Park      02:36     Dirt    1f 80y                 Flyn       \n \n   decimalPrice  \n 0            0  \n 1            0  \n 2            0  \n 3            0  \n 4            0  \n 5            0  \n 6            0  \n 7            0  \n 8            0  \n 9            0  ,\n        course marketTime condition distance           horseName   OR  \\\n 0  Gulfstream      20:11                 1m       Majestic Luna   97   \n 1  Gulfstream      20:11                 1m  Eight Ain't Enough   84   \n 2  Gulfstream      20:11                 1m     Tricky Magician  100   \n 3  Gulfstream      20:11                 1m            Tiz Luna   79   \n 4  Gulfstream      20:11                 1m         Carbon Data  102   \n 5  Gulfstream      20:11                 1m    Willing To Speed  105   \n 6  Gulfstream      20:11                 1m           Valdolobo   94   \n 7  Gulfstream      20:11                 1m              Dermot  100   \n \n   decimalPrice  \n 0         23.0  \n 1         11.0  \n 2          5.0  \n 3         67.0  \n 4          8.0  \n 5          3.5  \n 6         2.88  \n 7          8.5  ,\n         course marketTime condition distance          horseName   OR  \\\n 0   Gulfstream      21:15                 1m  Driven By Thunder  107   \n 1   Gulfstream      21:15                 1m        Tizzarunner  104   \n 2   Gulfstream      21:15                 1m           Phat Man  117   \n 3   Gulfstream      21:15                 1m           Megacity  102   \n 4   Gulfstream      21:15                 1m              Piven  103   \n 5   Gulfstream      21:15                 1m          Gemonteer  104   \n 6   Gulfstream      21:15                 1m            Quenane  101   \n 7   Gulfstream      21:15                 1m          Home Base  106   \n 8   Gulfstream      21:15                 1m      Grand Journey  108   \n 9   Gulfstream      21:15                 1m         Big Agenda  104   \n 10  Gulfstream      21:15                 1m          Dr. Edgar  117   \n 11  Gulfstream      21:15                 1m            Morocco  102   \n 12  Gulfstream      21:15                 1m      Champagneonme  100   \n \n    decimalPrice  \n 0           8.0  \n 1          21.0  \n 2           2.0  \n 3          34.0  \n 4          10.0  \n 5           5.0  \n 6          15.0  \n 7          15.0  \n 8          10.0  \n 9          21.0  \n 10         3.25  \n 11          6.5  \n 12         13.0  ,\n        course marketTime condition distance           horseName  OR  \\\n 0  Gulfstream      21:46     Dirt        7f             Addison  84   \n 1  Gulfstream      21:46     Dirt        7f  Money Never Sleeps  87   \n 2  Gulfstream      21:46     Dirt        7f       Leo's Diamond  92   \n 3  Gulfstream      21:46     Dirt        7f         Topo Grigio  84   \n 4  Gulfstream      21:46     Dirt        7f            Bird Map  88   \n 5  Gulfstream      21:46     Dirt        7f   Lil Miss Hot Mess  87   \n 6  Gulfstream      21:46     Dirt        7f              Kimura  82   \n \n   decimalPrice  \n 0          9.0  \n 1          4.0  \n 2         13.0  \n 3         4.33  \n 4          4.5  \n 5          7.0  \n 6          7.5  ]"
     },
     "metadata": {},
     "execution_count": 33
    }
   ],
   "source": [
    "atrs"
   ]
  },
  {
   "cell_type": "code",
   "execution_count": 25,
   "metadata": {},
   "outputs": [],
   "source": [
    "df_atr.to_csv('data/today/atr.csv')\n",
    "df_rp.to_csv('data/today/rp.csv')"
   ]
  },
  {
   "cell_type": "code",
   "execution_count": 23,
   "metadata": {},
   "outputs": [
    {
     "output_type": "execute_result",
     "data": {
      "text/plain": "            course  runners distance condition rclass        date  \\\n0    Morphettville       15      5½f      Good         2020-04-18   \n1    Morphettville       15      5½f      Good         2020-04-18   \n2    Morphettville       15      5½f      Good         2020-04-18   \n3    Morphettville       15      5½f      Good         2020-04-18   \n4    Morphettville       15      5½f      Good         2020-04-18   \n..             ...      ...      ...       ...    ...         ...   \n399   Oaklawn Park       12       6f      Fast         2020-04-18   \n400   Oaklawn Park       12       6f      Fast         2020-04-18   \n401   Oaklawn Park       12       6f      Fast         2020-04-18   \n402   Oaklawn Park       12       6f      Fast         2020-04-18   \n403   Oaklawn Park       12       6f      Fast         2020-04-18   \n\n                                                 title           horseName  \\\n0            Terry Howe Printing Handicap (2yo) (Turf)        Yule My Hero   \n1            Terry Howe Printing Handicap (2yo) (Turf)          Extra Time   \n2            Terry Howe Printing Handicap (2yo) (Turf)          Beau Rossa   \n3            Terry Howe Printing Handicap (2yo) (Turf)       Regal Triumph   \n4            Terry Howe Printing Handicap (2yo) (Turf)  Theresabearinthere   \n..                                                 ...                 ...   \n399  Allowance Optional Claiming Race (4yo+ Fillies...     Heavens Whisper   \n400  Allowance Optional Claiming Race (4yo+ Fillies...           Mt. Brave   \n401  Allowance Optional Claiming Race (4yo+ Fillies...   Take Charge Angel   \n402  Allowance Optional Claiming Race (4yo+ Fillies...    Raintree Starlet   \n403  Allowance Optional Claiming Race (4yo+ Fillies...  Spring In The Wind   \n\n                                trainer              jockey RPR TR weightSt  \\\n0                           Peter Jolly       Caitlin Jones               9   \n1    Leon Macdonald &amp; Andrew Gluyas        Jason Holder               9   \n2                          Will Clarken        Todd Pannell               9   \n3                           Sam Burford       Shayne Cahill               9   \n4         Richard &amp; Chantelle Jolly    Lachlan Neindorf               9   \n..                                  ...                 ...  .. ..      ...   \n399                      Paul E Holthus       Joseph Talamo               8   \n400                     Steven Asmussen  Ricardo Santana Jr               8   \n401                       Ben Colebrook     Corey J Lanerie               8   \n402                    Brian Williamson         Miguel Mena               8   \n403                Anthony T Quartarolo         David Cohen               8   \n\n    weightLb age               hname  \n0          6   2          yulemyhero  \n1          5   2           extratime  \n2          4   2           beaurossa  \n3          4   2        regaltriumph  \n4          4   2  theresabearinthere  \n..       ...  ..                 ...  \n399        6   5      heavenswhisper  \n400        9   4             mtbrave  \n401        9   4     takechargeangel  \n402        6   4     raintreestarlet  \n403        6   6     springinthewind  \n\n[404 rows x 16 columns]",
      "text/html": "<div>\n<style scoped>\n    .dataframe tbody tr th:only-of-type {\n        vertical-align: middle;\n    }\n\n    .dataframe tbody tr th {\n        vertical-align: top;\n    }\n\n    .dataframe thead th {\n        text-align: right;\n    }\n</style>\n<table border=\"1\" class=\"dataframe\">\n  <thead>\n    <tr style=\"text-align: right;\">\n      <th></th>\n      <th>course</th>\n      <th>runners</th>\n      <th>distance</th>\n      <th>condition</th>\n      <th>rclass</th>\n      <th>date</th>\n      <th>title</th>\n      <th>horseName</th>\n      <th>trainer</th>\n      <th>jockey</th>\n      <th>RPR</th>\n      <th>TR</th>\n      <th>weightSt</th>\n      <th>weightLb</th>\n      <th>age</th>\n      <th>hname</th>\n    </tr>\n  </thead>\n  <tbody>\n    <tr>\n      <th>0</th>\n      <td>Morphettville</td>\n      <td>15</td>\n      <td>5½f</td>\n      <td>Good</td>\n      <td></td>\n      <td>2020-04-18</td>\n      <td>Terry Howe Printing Handicap (2yo) (Turf)</td>\n      <td>Yule My Hero</td>\n      <td>Peter Jolly</td>\n      <td>Caitlin Jones</td>\n      <td></td>\n      <td></td>\n      <td>9</td>\n      <td>6</td>\n      <td>2</td>\n      <td>yulemyhero</td>\n    </tr>\n    <tr>\n      <th>1</th>\n      <td>Morphettville</td>\n      <td>15</td>\n      <td>5½f</td>\n      <td>Good</td>\n      <td></td>\n      <td>2020-04-18</td>\n      <td>Terry Howe Printing Handicap (2yo) (Turf)</td>\n      <td>Extra Time</td>\n      <td>Leon Macdonald &amp;amp; Andrew Gluyas</td>\n      <td>Jason Holder</td>\n      <td></td>\n      <td></td>\n      <td>9</td>\n      <td>5</td>\n      <td>2</td>\n      <td>extratime</td>\n    </tr>\n    <tr>\n      <th>2</th>\n      <td>Morphettville</td>\n      <td>15</td>\n      <td>5½f</td>\n      <td>Good</td>\n      <td></td>\n      <td>2020-04-18</td>\n      <td>Terry Howe Printing Handicap (2yo) (Turf)</td>\n      <td>Beau Rossa</td>\n      <td>Will Clarken</td>\n      <td>Todd Pannell</td>\n      <td></td>\n      <td></td>\n      <td>9</td>\n      <td>4</td>\n      <td>2</td>\n      <td>beaurossa</td>\n    </tr>\n    <tr>\n      <th>3</th>\n      <td>Morphettville</td>\n      <td>15</td>\n      <td>5½f</td>\n      <td>Good</td>\n      <td></td>\n      <td>2020-04-18</td>\n      <td>Terry Howe Printing Handicap (2yo) (Turf)</td>\n      <td>Regal Triumph</td>\n      <td>Sam Burford</td>\n      <td>Shayne Cahill</td>\n      <td></td>\n      <td></td>\n      <td>9</td>\n      <td>4</td>\n      <td>2</td>\n      <td>regaltriumph</td>\n    </tr>\n    <tr>\n      <th>4</th>\n      <td>Morphettville</td>\n      <td>15</td>\n      <td>5½f</td>\n      <td>Good</td>\n      <td></td>\n      <td>2020-04-18</td>\n      <td>Terry Howe Printing Handicap (2yo) (Turf)</td>\n      <td>Theresabearinthere</td>\n      <td>Richard &amp;amp; Chantelle Jolly</td>\n      <td>Lachlan Neindorf</td>\n      <td></td>\n      <td></td>\n      <td>9</td>\n      <td>4</td>\n      <td>2</td>\n      <td>theresabearinthere</td>\n    </tr>\n    <tr>\n      <th>...</th>\n      <td>...</td>\n      <td>...</td>\n      <td>...</td>\n      <td>...</td>\n      <td>...</td>\n      <td>...</td>\n      <td>...</td>\n      <td>...</td>\n      <td>...</td>\n      <td>...</td>\n      <td>...</td>\n      <td>...</td>\n      <td>...</td>\n      <td>...</td>\n      <td>...</td>\n      <td>...</td>\n    </tr>\n    <tr>\n      <th>399</th>\n      <td>Oaklawn Park</td>\n      <td>12</td>\n      <td>6f</td>\n      <td>Fast</td>\n      <td></td>\n      <td>2020-04-18</td>\n      <td>Allowance Optional Claiming Race (4yo+ Fillies...</td>\n      <td>Heavens Whisper</td>\n      <td>Paul E Holthus</td>\n      <td>Joseph Talamo</td>\n      <td></td>\n      <td></td>\n      <td>8</td>\n      <td>6</td>\n      <td>5</td>\n      <td>heavenswhisper</td>\n    </tr>\n    <tr>\n      <th>400</th>\n      <td>Oaklawn Park</td>\n      <td>12</td>\n      <td>6f</td>\n      <td>Fast</td>\n      <td></td>\n      <td>2020-04-18</td>\n      <td>Allowance Optional Claiming Race (4yo+ Fillies...</td>\n      <td>Mt. Brave</td>\n      <td>Steven Asmussen</td>\n      <td>Ricardo Santana Jr</td>\n      <td></td>\n      <td></td>\n      <td>8</td>\n      <td>9</td>\n      <td>4</td>\n      <td>mtbrave</td>\n    </tr>\n    <tr>\n      <th>401</th>\n      <td>Oaklawn Park</td>\n      <td>12</td>\n      <td>6f</td>\n      <td>Fast</td>\n      <td></td>\n      <td>2020-04-18</td>\n      <td>Allowance Optional Claiming Race (4yo+ Fillies...</td>\n      <td>Take Charge Angel</td>\n      <td>Ben Colebrook</td>\n      <td>Corey J Lanerie</td>\n      <td></td>\n      <td></td>\n      <td>8</td>\n      <td>9</td>\n      <td>4</td>\n      <td>takechargeangel</td>\n    </tr>\n    <tr>\n      <th>402</th>\n      <td>Oaklawn Park</td>\n      <td>12</td>\n      <td>6f</td>\n      <td>Fast</td>\n      <td></td>\n      <td>2020-04-18</td>\n      <td>Allowance Optional Claiming Race (4yo+ Fillies...</td>\n      <td>Raintree Starlet</td>\n      <td>Brian Williamson</td>\n      <td>Miguel Mena</td>\n      <td></td>\n      <td></td>\n      <td>8</td>\n      <td>6</td>\n      <td>4</td>\n      <td>raintreestarlet</td>\n    </tr>\n    <tr>\n      <th>403</th>\n      <td>Oaklawn Park</td>\n      <td>12</td>\n      <td>6f</td>\n      <td>Fast</td>\n      <td></td>\n      <td>2020-04-18</td>\n      <td>Allowance Optional Claiming Race (4yo+ Fillies...</td>\n      <td>Spring In The Wind</td>\n      <td>Anthony T Quartarolo</td>\n      <td>David Cohen</td>\n      <td></td>\n      <td></td>\n      <td>8</td>\n      <td>6</td>\n      <td>6</td>\n      <td>springinthewind</td>\n    </tr>\n  </tbody>\n</table>\n<p>404 rows × 16 columns</p>\n</div>"
     },
     "metadata": {},
     "execution_count": 23
    }
   ],
   "source": [
    "df_rp"
   ]
  },
  {
   "cell_type": "code",
   "execution_count": null,
   "metadata": {},
   "outputs": [],
   "source": []
  }
 ],
 "metadata": {
  "language_info": {
   "name": "python",
   "codemirror_mode": {
    "name": "ipython",
    "version": 3
   },
   "version": "3.8.1-final"
  },
  "orig_nbformat": 2,
  "file_extension": ".py",
  "mimetype": "text/x-python",
  "name": "python",
  "npconvert_exporter": "python",
  "pygments_lexer": "ipython3",
  "version": 3,
  "kernelspec": {
   "name": "python38164bitdmenvconda7a21af1c6aa845c594c8790e52830c7a",
   "display_name": "Python 3.8.1 64-bit ('dmenv': conda)"
  }
 },
 "nbformat": 4,
 "nbformat_minor": 2
}