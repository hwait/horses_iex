{
 "nbformat": 4,
 "nbformat_minor": 2,
 "metadata": {
  "language_info": {
   "name": "python",
   "codemirror_mode": {
    "name": "ipython",
    "version": 3
   },
   "version": "3.8.1-final"
  },
  "orig_nbformat": 2,
  "file_extension": ".py",
  "mimetype": "text/x-python",
  "name": "python",
  "npconvert_exporter": "python",
  "pygments_lexer": "ipython3",
  "version": 3,
  "kernelspec": {
   "name": "python38164bitdmenvconda7a21af1c6aa845c594c8790e52830c7a",
   "display_name": "Python 3.8.1 64-bit ('dmenv': conda)"
  }
 },
 "cells": [
  {
   "cell_type": "code",
   "execution_count": 55,
   "metadata": {},
   "outputs": [
    {
     "output_type": "error",
     "ename": "ModuleNotFoundError",
     "evalue": "No module named 'sklearn'",
     "traceback": [
      "\u001b[1;31m---------------------------------------------------------------------------\u001b[0m",
      "\u001b[1;31mModuleNotFoundError\u001b[0m                       Traceback (most recent call last)",
      "\u001b[1;32m<ipython-input-55-cabed8159e01>\u001b[0m in \u001b[0;36m<module>\u001b[1;34m\u001b[0m\n\u001b[0;32m      4\u001b[0m \u001b[1;32mimport\u001b[0m \u001b[0mpandas\u001b[0m \u001b[1;32mas\u001b[0m \u001b[0mpd\u001b[0m\u001b[1;33m\u001b[0m\u001b[1;33m\u001b[0m\u001b[0m\n\u001b[0;32m      5\u001b[0m \u001b[1;32mfrom\u001b[0m \u001b[0mdatetime\u001b[0m \u001b[1;32mimport\u001b[0m \u001b[0mdatetime\u001b[0m\u001b[1;33m,\u001b[0m \u001b[0mtimedelta\u001b[0m\u001b[1;33m,\u001b[0m \u001b[0mdate\u001b[0m\u001b[1;33m\u001b[0m\u001b[1;33m\u001b[0m\u001b[0m\n\u001b[1;32m----> 6\u001b[1;33m \u001b[1;32mfrom\u001b[0m \u001b[0msklearn\u001b[0m\u001b[1;33m.\u001b[0m\u001b[0mmodel_selection\u001b[0m \u001b[1;32mimport\u001b[0m \u001b[0mtrain_test_split\u001b[0m\u001b[1;33m\u001b[0m\u001b[1;33m\u001b[0m\u001b[0m\n\u001b[0m\u001b[0;32m      7\u001b[0m \u001b[1;32mfrom\u001b[0m \u001b[0mcatboost\u001b[0m \u001b[1;32mimport\u001b[0m \u001b[0mCatBoostClassifier\u001b[0m\u001b[1;33m,\u001b[0m \u001b[0mPool\u001b[0m\u001b[1;33m\u001b[0m\u001b[1;33m\u001b[0m\u001b[0m\n\u001b[0;32m      8\u001b[0m \u001b[1;33m\u001b[0m\u001b[0m\n",
      "\u001b[1;31mModuleNotFoundError\u001b[0m: No module named 'sklearn'"
     ]
    }
   ],
   "source": [
    "import json\n",
    "import csv\n",
    "import numpy as np\n",
    "import pandas as pd\n",
    "from datetime import datetime, timedelta, date\n",
    "from sklearn.model_selection import train_test_split\n",
    "from catboost import CatBoostClassifier, Pool\n",
    "\n",
    "pd.set_option('display.max_columns', 500)"
   ]
  },
  {
   "cell_type": "code",
   "execution_count": 2,
   "metadata": {},
   "outputs": [],
   "source": [
    "ds = datetime.strptime('2017-01-01', '%Y-%m-%d')\n",
    "df=pd.read_csv('data/horses_stats.csv')\n",
    "df['marketTime']=pd.to_datetime(df['marketTime'])\n",
    "df=df[df['marketTime']>=ds]"
   ]
  },
  {
   "cell_type": "code",
   "execution_count": 45,
   "metadata": {},
   "outputs": [],
   "source": [
    "rids=df.rid.unique()\n",
    "np.random.shuffle(rids)\n",
    "train, test, validate = np.split(rids, [int(.7*len(rids)), int(.85*len(rids))]) \n",
    "train_df=df[df['rid'].isin(train)]\n",
    "test_df=df[df['rid'].isin(test)]\n",
    "validate_df=df[df['rid'].isin(validate)]"
   ]
  },
  {
   "cell_type": "code",
   "execution_count": 51,
   "metadata": {},
   "outputs": [],
   "source": [
    "cols_categorical=[col for col in df.columns if '_rank' in col]\n",
    "cols=[col for col in df.columns if not col in cols_categorical]\n",
    "cols_numerical=[col for col in cols if ('_avg' in col) or ('_diff' in col)]\n",
    "cols=[col for col in cols if not col in cols_numerical]\n",
    "cols_categorical=cols_categorical+['ncond', 'class','isFav']\n",
    "cols_numerical=cols_numerical+['RPR', 'TR', 'OR', 'win_drift']\n",
    "cols_descr=['rid', 'marketTime', 'horseName', 'runners','res_win', 'res_place']"
   ]
  },
  {
   "cell_type": "code",
   "execution_count": 52,
   "metadata": {},
   "outputs": [
    {
     "output_type": "error",
     "ename": "NameError",
     "evalue": "name 'Pool' is not defined",
     "traceback": [
      "\u001b[1;31m---------------------------------------------------------------------------\u001b[0m",
      "\u001b[1;31mNameError\u001b[0m                                 Traceback (most recent call last)",
      "\u001b[1;32m<ipython-input-52-3730b851f9a6>\u001b[0m in \u001b[0;36m<module>\u001b[1;34m\u001b[0m\n\u001b[0;32m      6\u001b[0m \u001b[0mvalidate_y\u001b[0m\u001b[1;33m=\u001b[0m\u001b[0mvalidate_df\u001b[0m\u001b[1;33m[\u001b[0m\u001b[1;34m'res_win'\u001b[0m\u001b[1;33m]\u001b[0m\u001b[1;33m\u001b[0m\u001b[1;33m\u001b[0m\u001b[0m\n\u001b[0;32m      7\u001b[0m \u001b[0mcat_idxs\u001b[0m\u001b[1;33m=\u001b[0m\u001b[0mnp\u001b[0m\u001b[1;33m.\u001b[0m\u001b[0mwhere\u001b[0m\u001b[1;33m(\u001b[0m\u001b[0mtrain_x\u001b[0m\u001b[1;33m.\u001b[0m\u001b[0mcolumns\u001b[0m\u001b[1;33m.\u001b[0m\u001b[0misin\u001b[0m\u001b[1;33m(\u001b[0m\u001b[0mcols_categorical\u001b[0m\u001b[1;33m)\u001b[0m\u001b[1;33m)\u001b[0m\u001b[1;33m[\u001b[0m\u001b[1;36m0\u001b[0m\u001b[1;33m]\u001b[0m\u001b[1;33m\u001b[0m\u001b[1;33m\u001b[0m\u001b[0m\n\u001b[1;32m----> 8\u001b[1;33m \u001b[0meval_dataset\u001b[0m \u001b[1;33m=\u001b[0m \u001b[0mPool\u001b[0m\u001b[1;33m(\u001b[0m\u001b[0mvalidate_x\u001b[0m\u001b[1;33m,\u001b[0m \u001b[0mvalidate_y\u001b[0m\u001b[1;33m,\u001b[0m\u001b[0mcat_idxs\u001b[0m\u001b[1;33m)\u001b[0m\u001b[1;33m\u001b[0m\u001b[1;33m\u001b[0m\u001b[0m\n\u001b[0m",
      "\u001b[1;31mNameError\u001b[0m: name 'Pool' is not defined"
     ]
    }
   ],
   "source": [
    "train_x=train_df[cols_categorical+cols_numerical]\n",
    "train_y=train_df['res_win']\n",
    "test_x=test_df[cols_categorical+cols_numerical]\n",
    "test_y=test_df['res_win']\n",
    "validate_x=validate_df[cols_categorical+cols_numerical]\n",
    "validate_y=validate_df['res_win']\n",
    "cat_idxs=np.where(train_x.columns.isin(cols_categorical))[0]\n",
    "eval_dataset = Pool(validate_x, validate_y,cat_idxs)"
   ]
  },
  {
   "cell_type": "code",
   "execution_count": 49,
   "metadata": {},
   "outputs": [
    {
     "output_type": "execute_result",
     "data": {
      "text/plain": "(299281,)"
     },
     "metadata": {},
     "execution_count": 49
    }
   ],
   "source": [
    "clf = CatBoostClassifier(iterations=100, depth=2, learning_rate=0.01, loss_function='Logloss',use_best_model=True,  verbose=False)\n",
    "clf.fit(train_x, train_y, cat_features=cat_idxs, eval_set=eval_dataset)\n",
    "print(clf.get_best_iteration(), clf.get_best_score())   "
   ]
  },
  {
   "cell_type": "code",
   "execution_count": 38,
   "metadata": {},
   "outputs": [
    {
     "output_type": "execute_result",
     "data": {
      "text/plain": "Index(['Unnamed: 0', 'rid', 'marketTime', 'horseName', 'runners', 'ncond',\n       'class', 'res_win', 'res_place', 'decimalPrice', 'isFav', 'RPR', 'TR',\n       'OR', 'weight', 'win_drift', 'age_diff', 'age_rank',\n       'decimalPrice_diff', 'decimalPrice_rank', 'weight_diff', 'weight_rank',\n       'RPR_diff', 'RPR_rank', 'TR_diff', 'TR_rank', 'OR_diff', 'OR_rank',\n       'win_drift_diff', 'win_drift_rank', 'position_diff', 'position_rank',\n       'metric_h_avg', 'res_win_h_avg', 'res_place_h_avg',\n       'decimalPrice_mean_h_avg', 'RPR_mean_h_avg', 'TR_mean_h_avg',\n       'OR_mean_h_avg', 'win_drift_h_avg', 'position_mean_h_avg',\n       'metric_t_avg', 'res_win_t_avg', 'res_place_t_avg',\n       'decimalPrice_mean_t_avg', 'RPR_mean_t_avg', 'TR_mean_t_avg',\n       'OR_mean_t_avg', 'win_drift_t_avg', 'position_mean_t_avg',\n       'metric_j_avg', 'res_win_j_avg', 'res_place_j_avg',\n       'decimalPrice_mean_j_avg', 'RPR_mean_j_avg', 'TR_mean_j_avg',\n       'OR_mean_j_avg', 'win_drift_j_avg', 'position_mean_j_avg',\n       'metric_abs_mean', 'metric_abs_mean_rank', 'res_win_h_avg_diff',\n       'res_win_h_avg_rank', 'res_place_h_avg_diff', 'res_place_h_avg_rank',\n       'decimalPrice_mean_h_avg_diff', 'decimalPrice_mean_h_avg_rank',\n       'win_drift_h_avg_diff', 'win_drift_h_avg_rank',\n       'position_mean_h_avg_diff', 'position_mean_h_avg_rank',\n       'res_win_t_avg_diff', 'res_win_t_avg_rank', 'res_place_t_avg_diff',\n       'res_place_t_avg_rank', 'decimalPrice_mean_t_avg_diff',\n       'decimalPrice_mean_t_avg_rank', 'win_drift_t_avg_diff',\n       'win_drift_t_avg_rank', 'position_mean_t_avg_diff',\n       'position_mean_t_avg_rank', 'res_win_j_avg_diff', 'res_win_j_avg_rank',\n       'res_place_j_avg_diff', 'res_place_j_avg_rank',\n       'decimalPrice_mean_j_avg_diff', 'decimalPrice_mean_j_avg_rank',\n       'win_drift_j_avg_diff', 'win_drift_j_avg_rank',\n       'position_mean_j_avg_diff', 'position_mean_j_avg_rank'],\n      dtype='object')"
     },
     "metadata": {},
     "execution_count": 38
    }
   ],
   "source": [
    "df.columns "
   ]
  },
  {
   "cell_type": "code",
   "execution_count": null,
   "metadata": {},
   "outputs": [],
   "source": []
  }
 ]
}